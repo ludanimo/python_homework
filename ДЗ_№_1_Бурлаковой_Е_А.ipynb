{
  "nbformat": 4,
  "nbformat_minor": 0,
  "metadata": {
    "colab": {
      "provenance": []
    },
    "kernelspec": {
      "name": "python3",
      "display_name": "Python 3"
    },
    "language_info": {
      "name": "python"
    }
  },
  "cells": [
    {
      "cell_type": "markdown",
      "source": [
        "### Задание 0 - Отрабатываем арифметические операции\n",
        "\n",
        "С помощью арифметических операторов `+,-,/,*,//,%,**` найдите значения следующих выражений:\n",
        "1. остаток от деления 101 на 10\n",
        "2. целая часть от деления 98 на 12\n",
        "3. кубический корень из 27\n",
        "4. сложите значения, полученные в пункте 1 и 3. Результат возведите в степень -1"
      ],
      "metadata": {
        "id": "5Iz1AflgbGH1"
      }
    },
    {
      "cell_type": "code",
      "source": [
        "one = 101 % 10\n",
        "print(one)"
      ],
      "metadata": {
        "colab": {
          "base_uri": "https://localhost:8080/"
        },
        "id": "1zrwJ8LxcNfy",
        "outputId": "eb6ee5a2-c2b4-4f6f-e1be-a2913bba93c9"
      },
      "execution_count": null,
      "outputs": [
        {
          "output_type": "stream",
          "name": "stdout",
          "text": [
            "1\n"
          ]
        }
      ]
    },
    {
      "cell_type": "code",
      "source": [
        "a = 98\n",
        "b = 12\n",
        "two = a // b\n",
        "print(two)"
      ],
      "metadata": {
        "colab": {
          "base_uri": "https://localhost:8080/"
        },
        "id": "JfH2Tnj7cR3m",
        "outputId": "292c941a-edda-483c-de75-6f5c2078baaa"
      },
      "execution_count": null,
      "outputs": [
        {
          "output_type": "stream",
          "name": "stdout",
          "text": [
            "8\n"
          ]
        }
      ]
    },
    {
      "cell_type": "code",
      "source": [
        "three = 27 ** (1 / 3)\n",
        "print(three)"
      ],
      "metadata": {
        "colab": {
          "base_uri": "https://localhost:8080/"
        },
        "id": "X7Dn3NC3cWY6",
        "outputId": "ecdeca84-1167-4fa6-ae38-0350991c743f"
      },
      "execution_count": null,
      "outputs": [
        {
          "output_type": "stream",
          "name": "stdout",
          "text": [
            "3.0\n"
          ]
        }
      ]
    },
    {
      "cell_type": "code",
      "source": [
        "four = one + three\n",
        "print(pow(four, -1))"
      ],
      "metadata": {
        "colab": {
          "base_uri": "https://localhost:8080/"
        },
        "id": "eRJREtkmcZTM",
        "outputId": "dbb0bef7-a4c1-48a1-c0b6-b0eea8da1b61"
      },
      "execution_count": null,
      "outputs": [
        {
          "output_type": "stream",
          "name": "stdout",
          "text": [
            "0.25\n"
          ]
        }
      ]
    },
    {
      "cell_type": "markdown",
      "source": [
        "### Задание 1 - Отрабатываем логические операторы\n",
        "\n",
        "Замените знак вопроса на один из логических операторов: `not, and, or`, чтобы получить указанный в комментариях результат выражения"
      ],
      "metadata": {
        "id": "gba-fe1lZL_Y"
      }
    },
    {
      "cell_type": "code",
      "execution_count": null,
      "metadata": {
        "colab": {
          "base_uri": "https://localhost:8080/"
        },
        "id": "cZvfPigvZBhS",
        "outputId": "c4b7b8e0-7477-4ee3-c634-25299c880db9"
      },
      "outputs": [
        {
          "output_type": "execute_result",
          "data": {
            "text/plain": [
              "True"
            ]
          },
          "metadata": {},
          "execution_count": 42
        }
      ],
      "source": [
        "# замените ? так, чтобы получить True\n",
        "not False"
      ]
    },
    {
      "cell_type": "code",
      "source": [
        "# замените ? так, чтобы получить True\n",
        "True or False"
      ],
      "metadata": {
        "colab": {
          "base_uri": "https://localhost:8080/"
        },
        "id": "KZIDWnfsaBTS",
        "outputId": "392996ed-983c-46c4-e8b6-eeb1b9061c58"
      },
      "execution_count": null,
      "outputs": [
        {
          "output_type": "execute_result",
          "data": {
            "text/plain": [
              "True"
            ]
          },
          "metadata": {},
          "execution_count": 24
        }
      ]
    },
    {
      "cell_type": "code",
      "source": [
        "# замените ? так, чтобы получить False\n",
        "(1 < 0) and (9 <= 10)"
      ],
      "metadata": {
        "colab": {
          "base_uri": "https://localhost:8080/"
        },
        "id": "w7wa7TRoaEO3",
        "outputId": "157c3c48-ac8e-4623-9f4d-f921a78d645c"
      },
      "execution_count": null,
      "outputs": [
        {
          "output_type": "execute_result",
          "data": {
            "text/plain": [
              "False"
            ]
          },
          "metadata": {},
          "execution_count": 25
        }
      ]
    },
    {
      "cell_type": "code",
      "source": [
        "# замените ? так, чтобы получить False\n",
        "(10 == '10') and True"
      ],
      "metadata": {
        "colab": {
          "base_uri": "https://localhost:8080/"
        },
        "id": "9kqrD0KtaI9B",
        "outputId": "e420eede-4d09-4957-a135-41d78c5e31b6"
      },
      "execution_count": null,
      "outputs": [
        {
          "output_type": "execute_result",
          "data": {
            "text/plain": [
              "False"
            ]
          },
          "metadata": {},
          "execution_count": 29
        }
      ]
    },
    {
      "cell_type": "code",
      "source": [
        "# замените ? так, чтобы получить False\n",
        "not (10 == 10) and (1 == 1)"
      ],
      "metadata": {
        "colab": {
          "base_uri": "https://localhost:8080/"
        },
        "id": "sKfKlQ5oaa68",
        "outputId": "bcf99c3a-6983-48e3-fcf1-2d6d0eb0694d"
      },
      "execution_count": null,
      "outputs": [
        {
          "output_type": "execute_result",
          "data": {
            "text/plain": [
              "False"
            ]
          },
          "metadata": {},
          "execution_count": 30
        }
      ]
    },
    {
      "cell_type": "code",
      "source": [
        "# замените ? так, чтобы получить True\n",
        "not ((10 == 10) and not (1 == 1))"
      ],
      "metadata": {
        "colab": {
          "base_uri": "https://localhost:8080/"
        },
        "id": "KPOIXiI1akO8",
        "outputId": "292c8cf0-6650-4c83-8d8c-3a3a0e0ca97e"
      },
      "execution_count": null,
      "outputs": [
        {
          "output_type": "execute_result",
          "data": {
            "text/plain": [
              "True"
            ]
          },
          "metadata": {},
          "execution_count": 49
        }
      ]
    },
    {
      "cell_type": "markdown",
      "source": [
        "### Задание 2 - Типы данных\n",
        "\n",
        "Выполните действия, описанные в комментарии каждой ячейки"
      ],
      "metadata": {
        "id": "fQ9zkBk2a8c2"
      }
    },
    {
      "cell_type": "code",
      "source": [
        "# ПРИМЕР\n",
        "# выведите тип данных, полученного в результате следующего действия:\n",
        "# приведите число 1.222 к типу int\n",
        "type(int(1.222))"
      ],
      "metadata": {
        "colab": {
          "base_uri": "https://localhost:8080/"
        },
        "id": "v2wsCAviawnb",
        "outputId": "41f32657-5fb8-4124-a184-eaeb3f1e3c4d"
      },
      "execution_count": null,
      "outputs": [
        {
          "output_type": "execute_result",
          "data": {
            "text/plain": [
              "int"
            ]
          },
          "metadata": {},
          "execution_count": 20
        }
      ]
    },
    {
      "cell_type": "code",
      "source": [
        "# выведите тип данных, полученного в результате следующего действия:\n",
        "# возьмите пустую строку и умножьте ее на -1\n",
        "type(str(\"\" * -1))"
      ],
      "metadata": {
        "colab": {
          "base_uri": "https://localhost:8080/"
        },
        "id": "aYyoZ-tCdxyA",
        "outputId": "26cf842d-27b8-4a9a-f40e-06cff84c6976"
      },
      "execution_count": null,
      "outputs": [
        {
          "output_type": "execute_result",
          "data": {
            "text/plain": [
              "str"
            ]
          },
          "metadata": {},
          "execution_count": 2
        }
      ]
    },
    {
      "cell_type": "code",
      "source": [
        "# разделите 1234 на 100 . результат приведите к типу str\n",
        "num = str(1234 / 100)\n",
        "num"
      ],
      "metadata": {
        "colab": {
          "base_uri": "https://localhost:8080/",
          "height": 35
        },
        "id": "vGRM1j5WeX6f",
        "outputId": "7666f42a-e014-4fd1-a9a4-17bc7f2f49fc"
      },
      "execution_count": null,
      "outputs": [
        {
          "output_type": "execute_result",
          "data": {
            "text/plain": [
              "'12.34'"
            ],
            "application/vnd.google.colaboratory.intrinsic+json": {
              "type": "string"
            }
          },
          "metadata": {},
          "execution_count": 60
        }
      ]
    },
    {
      "cell_type": "code",
      "source": [
        "# возьмите любую строку, найдите ее длину. результат приведите к типу float\n",
        "hi = len(\"Hello World\")\n",
        "float(hi)"
      ],
      "metadata": {
        "colab": {
          "base_uri": "https://localhost:8080/"
        },
        "id": "I7G_mcE0d5_R",
        "outputId": "766d86ac-3679-473e-f532-8e54d5b78cef"
      },
      "execution_count": null,
      "outputs": [
        {
          "output_type": "execute_result",
          "data": {
            "text/plain": [
              "11.0"
            ]
          },
          "metadata": {},
          "execution_count": 62
        }
      ]
    },
    {
      "cell_type": "code",
      "source": [
        "# возьмите любую непустую строку, найдите ее длину. результат приведите к типу bool\n",
        "hello = len(\"Hi, I'm from Russia\")\n",
        "bool(hello)"
      ],
      "metadata": {
        "colab": {
          "base_uri": "https://localhost:8080/"
        },
        "id": "9yTrBMnTd7mB",
        "outputId": "fc951c5f-7e9f-4da5-8d69-25bae8b8285c"
      },
      "execution_count": null,
      "outputs": [
        {
          "output_type": "execute_result",
          "data": {
            "text/plain": [
              "True"
            ]
          },
          "metadata": {},
          "execution_count": 65
        }
      ]
    },
    {
      "cell_type": "code",
      "source": [
        "# возьмите ПУСТУЮ строку, найдите ее длину. результат приведите к типу bool\n",
        "yep = len(\"\")\n",
        "bool(yep)"
      ],
      "metadata": {
        "colab": {
          "base_uri": "https://localhost:8080/"
        },
        "id": "5qdvUUmqfP4o",
        "outputId": "4965e9ec-4423-48c2-ef0d-604c2c4380c1"
      },
      "execution_count": null,
      "outputs": [
        {
          "output_type": "execute_result",
          "data": {
            "text/plain": [
              "False"
            ]
          },
          "metadata": {},
          "execution_count": 66
        }
      ]
    },
    {
      "cell_type": "markdown",
      "source": [
        "подумайте, какие числа при явном приведении в тип bool в результате дают `True`, а какие `False`"
      ],
      "metadata": {
        "id": "hYHwvxGKfdsY"
      }
    },
    {
      "cell_type": "code",
      "source": [
        "print(bool(\"\"))\n",
        "print(bool(0))\n",
        "print(bool([]))\n",
        "print(bool(()))\n",
        "print(bool(5))\n",
        "print(bool(-5))\n",
        "print(bool(\"Hello\"))\n",
        "print(bool(\"           \"))"
      ],
      "metadata": {
        "id": "CmzNJQ24fW5t",
        "colab": {
          "base_uri": "https://localhost:8080/"
        },
        "outputId": "5f38a53e-9e54-4b1d-cd30-366ce7081a70"
      },
      "execution_count": null,
      "outputs": [
        {
          "output_type": "stream",
          "name": "stdout",
          "text": [
            "False\n",
            "False\n",
            "False\n",
            "False\n",
            "True\n",
            "True\n",
            "True\n",
            "True\n"
          ]
        }
      ]
    }
  ]
}