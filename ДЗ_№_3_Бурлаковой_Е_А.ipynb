{
  "nbformat": 4,
  "nbformat_minor": 0,
  "metadata": {
    "colab": {
      "provenance": []
    },
    "kernelspec": {
      "name": "python3",
      "display_name": "Python 3"
    },
    "language_info": {
      "name": "python"
    }
  },
  "cells": [
    {
      "cell_type": "markdown",
      "source": [
        "В этой практике отрабатываем следующие инструменты:\n",
        "\n",
        "- Циклы\n",
        "- Циклы + условные операторы\n",
        "- Обработку исключений"
      ],
      "metadata": {
        "id": "BYcdPThcHmcw"
      }
    },
    {
      "cell_type": "markdown",
      "source": [
        "### Блок 1\n",
        "\n",
        "Отрабатываем умение пользоваться циклами. В этом блоке задачи будут нацелены на использование только конструкций циклов `while`, `for`, конструкции `if-else` использовать нельзя.\n"
      ],
      "metadata": {
        "id": "f1vm1gpfHwEM"
      }
    },
    {
      "cell_type": "markdown",
      "source": [
        "*Задача 0 - Используем Range*\n",
        "\n",
        "Напишите программу, которая будет считывать с консоли два числа `a` и `b`.\n",
        "Далее выведите все числа от `a` до `b` включительно."
      ],
      "metadata": {
        "id": "feXi-pySJgN-"
      }
    },
    {
      "cell_type": "code",
      "execution_count": null,
      "metadata": {
        "colab": {
          "base_uri": "https://localhost:8080/"
        },
        "id": "WLZpX0ubHfu1",
        "outputId": "e3d57e30-a919-487b-b004-1fa145d14d4d"
      },
      "outputs": [
        {
          "output_type": "stream",
          "name": "stdout",
          "text": [
            "a = 10\n",
            "b = 15\n",
            "10\n",
            "11\n",
            "12\n",
            "13\n",
            "14\n",
            "15\n"
          ]
        }
      ],
      "source": [
        "a = int(input('a = '))\n",
        "b = int(input('b = '))\n",
        "\n",
        "for i in range(a, b + 1):\n",
        "  print(i)"
      ]
    },
    {
      "cell_type": "markdown",
      "source": [
        "✅Хорошо"
      ],
      "metadata": {
        "id": "lX4DfA7gbu5z"
      }
    },
    {
      "cell_type": "markdown",
      "source": [
        "*Задача 1 -  Квадратный корень*\n",
        "\n",
        "Напишите программу, которая будет считывать с консоли одно единственное число `b`.\n",
        "\n",
        "Выведите все квадратные корни чисел от 1 до `b` (не включительно) с точностью до двух знаков после запятой. Соблюдайте формат вывода, приведенный в примере."
      ],
      "metadata": {
        "id": "PMFNe-V1RFvZ"
      }
    },
    {
      "cell_type": "code",
      "source": [
        "b = int(input('Введите число b '))\n",
        "\n",
        "for i in range(1, b):\n",
        "  print(f'Квадратный корень числа {i} = {(i ** 0.5):.2f}')"
      ],
      "metadata": {
        "colab": {
          "base_uri": "https://localhost:8080/"
        },
        "id": "0ByT8qoYS4VD",
        "outputId": "ba9e4fb1-2523-48c0-9e03-186101bdfc4b"
      },
      "execution_count": null,
      "outputs": [
        {
          "output_type": "stream",
          "name": "stdout",
          "text": [
            "Введите число b 10\n",
            "Квадратный корень числа 1 = 1.00\n",
            "Квадратный корень числа 2 = 1.41\n",
            "Квадратный корень числа 3 = 1.73\n",
            "Квадратный корень числа 4 = 2.00\n",
            "Квадратный корень числа 5 = 2.24\n",
            "Квадратный корень числа 6 = 2.45\n",
            "Квадратный корень числа 7 = 2.65\n",
            "Квадратный корень числа 8 = 2.83\n",
            "Квадратный корень числа 9 = 3.00\n"
          ]
        }
      ]
    },
    {
      "cell_type": "markdown",
      "source": [
        "✅Хорошо"
      ],
      "metadata": {
        "id": "riX7h17abzSf"
      }
    },
    {
      "cell_type": "markdown",
      "source": [
        "*Задача 2 -  Делители*\n",
        "\n",
        "Напишите программу, которая будет считывать с консоли одно единственное число `N`.\n",
        "\n",
        "Выведите в строку первые N положительных чисел, делящихся на 3 нацело."
      ],
      "metadata": {
        "id": "CDHdDLDRyW9Z"
      }
    },
    {
      "cell_type": "code",
      "source": [
        "N = int(input('Введите число N '))\n",
        "\n",
        "for i in range(N):\n",
        "  i = (i + 1) * 3\n",
        "  print(i, end=' ')"
      ],
      "metadata": {
        "colab": {
          "base_uri": "https://localhost:8080/"
        },
        "id": "J71Nxy1kyqav",
        "outputId": "02cafcd4-b2d6-4651-a4b4-cc6c06252dc9"
      },
      "execution_count": null,
      "outputs": [
        {
          "output_type": "stream",
          "name": "stdout",
          "text": [
            "Введите число N 8\n",
            "3 6 9 12 15 18 21 24 "
          ]
        }
      ]
    },
    {
      "cell_type": "markdown",
      "source": [
        "✅Хорошо"
      ],
      "metadata": {
        "id": "3Hc3QtJ4b4Zv"
      }
    },
    {
      "cell_type": "markdown",
      "source": [
        "*Задача 3 - Сумма чисел до N*\n",
        "\n",
        "Пользователь вводит положительное число N. Найдите сумму чисел от 1 до N включительно.\n"
      ],
      "metadata": {
        "id": "L6NKRSEZLPT5"
      }
    },
    {
      "cell_type": "code",
      "source": [
        "N = int(input('N = '))\n",
        "count = 0\n",
        "\n",
        "for i in range(1, N + 1):\n",
        "  count += i\n",
        "\n",
        "print(f'Сумма чисел от 1 до {N} = {count}')"
      ],
      "metadata": {
        "colab": {
          "base_uri": "https://localhost:8080/"
        },
        "id": "afQU3XuQLAs2",
        "outputId": "291ac7ee-38aa-45ea-c104-144973f43abe"
      },
      "execution_count": null,
      "outputs": [
        {
          "output_type": "stream",
          "name": "stdout",
          "text": [
            "N = 10\n",
            "Сумма чисел от 1 до 10 = 55\n"
          ]
        }
      ]
    },
    {
      "cell_type": "markdown",
      "source": [
        "✅Хорошо ```count = count + i``` можно записывать как ```count += i``` как и сделано в следующей задаче\n"
      ],
      "metadata": {
        "id": "0ZZRY-AKb6X_"
      }
    },
    {
      "cell_type": "markdown",
      "source": [
        "*Задача 4 - Сумма введенных чисел*\n",
        "\n",
        "Напишите программу, которая будет суммировать все значения, введенные пользователем, пока не будет введен 0.\n"
      ],
      "metadata": {
        "id": "O-j9AYRvM7gQ"
      }
    },
    {
      "cell_type": "code",
      "source": [
        "count = int(input('Введите число, которое хотите просуммировать '))\n",
        "i = 0\n",
        "\n",
        "while count != 0:\n",
        "  i += count\n",
        "  count = int(input('Введите число, которое хотите просуммировать '))\n",
        "\n",
        "print(f'Сумма введенных чисел = {i}')\n"
      ],
      "metadata": {
        "colab": {
          "base_uri": "https://localhost:8080/"
        },
        "id": "8W18rN7iMRB7",
        "outputId": "34e75e64-0293-41e6-b4ce-06defb154ac1"
      },
      "execution_count": null,
      "outputs": [
        {
          "output_type": "stream",
          "name": "stdout",
          "text": [
            "Введите число, которое хотите просуммировать 10\n",
            "Введите число, которое хотите просуммировать 9\n",
            "Введите число, которое хотите просуммировать -9\n",
            "Введите число, которое хотите просуммировать 8\n",
            "Введите число, которое хотите просуммировать 0\n",
            "Сумма введенных чисел = 18\n"
          ]
        }
      ]
    },
    {
      "cell_type": "markdown",
      "source": [
        "✅Хорошо"
      ],
      "metadata": {
        "id": "S2ycgCcAckeW"
      }
    },
    {
      "cell_type": "markdown",
      "source": [
        "*Задача 5 - Проценты по вкладу*\n",
        "\n",
        "Пользователь вводит условия по вкладу:\n",
        "1. Сумму, которую он хочет внести (`initial_money` - целое число)\n",
        "2. Процентную ставку за год (от 1 до 100 - целое число)\n",
        "3. Сумму, которую он хочет в итоге получить (`target_money` - целое число)\n",
        "\n",
        "Ваша задача рассчитать, за какое наименьшее количество лет при заданной процентной ставке у него на счету образуется сумма не меньше чем `target_money`.\n",
        "\n",
        "В результате выведите сколько лет понадобится чтобы скопить заданную сумму. Также выведите точное количество денег, которое будет у него на счету через рассчитанное количество лет"
      ],
      "metadata": {
        "id": "3LJoxGj82fsH"
      }
    },
    {
      "cell_type": "code",
      "source": [
        "initial_money = int(input('Введите начальную сумму '))\n",
        "interes = int(input('Введите процентную ставку от 1 до 100 '))\n",
        "target_money = int(input('Введите сумму, которую хотите получить в итоге '))\n",
        "i = 0\n",
        "\n",
        "while initial_money < target_money:\n",
        "  i += 1\n",
        "  initial_money *= 1 + (interes / 100)\n",
        "\n",
        "print(f'Через {i} количество лет у вас на счету будет {initial_money}')"
      ],
      "metadata": {
        "colab": {
          "base_uri": "https://localhost:8080/"
        },
        "id": "_51Y0Seo3F9c",
        "outputId": "2b4f2662-a17c-47fb-dca5-a3695a9ef7dd"
      },
      "execution_count": null,
      "outputs": [
        {
          "output_type": "stream",
          "name": "stdout",
          "text": [
            "Введите начальную сумму 100\n",
            "Введите процентную ставку от 1 до 100 100\n",
            "Введите сумму, которую хотите получить в итоге 300\n",
            "Через 2 количество лет у вас на счету будет 400.0\n"
          ]
        }
      ]
    },
    {
      "cell_type": "markdown",
      "source": [
        "✅Хорошо"
      ],
      "metadata": {
        "id": "PSM_lahociH6"
      }
    },
    {
      "cell_type": "markdown",
      "source": [
        "### Блок 2\n",
        "\n",
        "Отрабатываем умение алгоритмизировать с помощью циклов и условных операторов. А также принимать решение о их применимости в рамках заданной задачи.\n",
        "Также в каких то задачах может пригодится умение пользоваться `break`, `continue`."
      ],
      "metadata": {
        "id": "nbo339A-z4ys"
      }
    },
    {
      "cell_type": "markdown",
      "source": [
        "*Задача 0 - Наименьший делитель*\n",
        "\n",
        "Пользователь вводит целое число, не меньшее 2. Выведите его наименьший натуральный делитель, отличный от 1."
      ],
      "metadata": {
        "id": "SkwzoZGSWBVy"
      }
    },
    {
      "cell_type": "code",
      "source": [
        "number = int(input(\"Введите целое число = \"))\n",
        "\n",
        "for i in range(2, number + 1):\n",
        "    if number % i == 0:\n",
        "        print(f'Делитель = {i}')\n",
        "        break"
      ],
      "metadata": {
        "colab": {
          "base_uri": "https://localhost:8080/"
        },
        "id": "jYS8rT211L1G",
        "outputId": "e7c6736d-cc81-43a1-9a3a-b6b625350853"
      },
      "execution_count": null,
      "outputs": [
        {
          "output_type": "stream",
          "name": "stdout",
          "text": [
            "Введите целое число = 189\n",
            "делитель = 3\n"
          ]
        }
      ]
    },
    {
      "cell_type": "markdown",
      "source": [
        "✅Хорошо"
      ],
      "metadata": {
        "id": "-elYIfQPcqlI"
      }
    },
    {
      "cell_type": "markdown",
      "source": [
        "*Задача 1 - Максимум чисел*\n",
        "\n",
        "Пользователь вводит 10 ЛЮБЫХ чисел через консоль. Найдите максимальное число, введенное пользователем на экран.\n",
        "Не используйте встроенную функцию `max`."
      ],
      "metadata": {
        "id": "8s3gbRwGd0lw"
      }
    },
    {
      "cell_type": "code",
      "source": [
        "A = int(input('Введите число '))\n",
        "i = 1\n",
        "\n",
        "while i < 10:\n",
        "    B = int(input('Введите число '))\n",
        "    if B > A:\n",
        "        A = B\n",
        "    elif A > A:\n",
        "        B = A\n",
        "    i += 1\n",
        "\n",
        "print(f'max = {A}')"
      ],
      "metadata": {
        "colab": {
          "base_uri": "https://localhost:8080/"
        },
        "id": "nowhGVIBlPUi",
        "outputId": "337570ae-e48d-4b8f-c854-211005397cb1"
      },
      "execution_count": null,
      "outputs": [
        {
          "output_type": "stream",
          "name": "stdout",
          "text": [
            "Введите число 60\n",
            "Введите число 90\n",
            "Введите число 70\n",
            "Введите число 50\n",
            "Введите число 100\n",
            "Введите число 200\n",
            "Введите число 300\n",
            "Введите число 400\n",
            "Введите число 500\n",
            "Введите число 600\n",
            "max = 600\n"
          ]
        }
      ]
    },
    {
      "cell_type": "markdown",
      "source": [
        "✅ Засчитано, так как работает и слишком просто исправить недочёты\n",
        "\n",
        " ```elif A > A``` никогда не выполнится, так как переменная всегда равна самой себе. Никто не обещал, что числа будут целыми."
      ],
      "metadata": {
        "id": "uFdhGYqzcv4Z"
      }
    },
    {
      "cell_type": "code",
      "source": [
        "A = input('Введите число ')\n",
        "i = 1\n",
        "\n",
        "while i < 10:\n",
        "    B = input('Введите число ')\n",
        "    if B > A:\n",
        "        A = B\n",
        "    elif A > B:\n",
        "        B = A\n",
        "    i += 1\n",
        "\n",
        "print(f'max = {A}')"
      ],
      "metadata": {
        "colab": {
          "base_uri": "https://localhost:8080/"
        },
        "id": "gp8lpmZbORu5",
        "outputId": "ecdec246-b33f-4049-d1f1-b811a0f694b4"
      },
      "execution_count": null,
      "outputs": [
        {
          "output_type": "stream",
          "name": "stdout",
          "text": [
            "Введите число 900.5\n",
            "Введите число 60.6\n",
            "Введите число 50\n",
            "Введите число 45\n",
            "Введите число 1\n",
            "Введите число 2\n",
            "Введите число 3\n",
            "Введите число 6.3\n",
            "Введите число 5\n",
            "Введите число 4\n",
            "max = 900.5\n"
          ]
        }
      ]
    },
    {
      "cell_type": "markdown",
      "source": [
        "*Задача 2 - Числа с заданной цифрой*\n",
        "\n",
        "Пользователь вводит число от 0 до 9 на экран.\n",
        "Выведите все числа от 0 до 100, в которых встречается введенная пользователем цифра."
      ],
      "metadata": {
        "id": "nnvpRR6X6JJT"
      }
    },
    {
      "cell_type": "code",
      "source": [
        "number = input(\"Цифра \")\n",
        "\n",
        "for i in range(1, 101):\n",
        "    if number in str(i):\n",
        "        print(i)"
      ],
      "metadata": {
        "colab": {
          "base_uri": "https://localhost:8080/"
        },
        "id": "QotLXVmgXQYa",
        "outputId": "27bca4c7-58d4-480d-cf13-8a42a05e0180"
      },
      "execution_count": null,
      "outputs": [
        {
          "output_type": "stream",
          "name": "stdout",
          "text": [
            "Цифра 3\n",
            "3\n",
            "13\n",
            "23\n",
            "30\n",
            "31\n",
            "32\n",
            "33\n",
            "34\n",
            "35\n",
            "36\n",
            "37\n",
            "38\n",
            "39\n",
            "43\n",
            "53\n",
            "63\n",
            "73\n",
            "83\n",
            "93\n"
          ]
        }
      ]
    },
    {
      "cell_type": "markdown",
      "source": [
        "✅ Хорошо"
      ],
      "metadata": {
        "id": "zzM8hyyqdqew"
      }
    },
    {
      "cell_type": "markdown",
      "source": [
        "*Задача 3 - Число наоборот*\n",
        "\n",
        "Напишите программу, которая считывает с экрана целое положительное число любой длины и выводит его на экран в обратном порядке."
      ],
      "metadata": {
        "id": "O7jDbstGPFww"
      }
    },
    {
      "cell_type": "code",
      "source": [
        "Number = int(input('Введите число '))\n",
        "\n",
        "while Number > 0:\n",
        "    print(Number % 10, end = '')\n",
        "    Number = Number // 10"
      ],
      "metadata": {
        "colab": {
          "base_uri": "https://localhost:8080/"
        },
        "id": "cZkQ2FiWOsVz",
        "outputId": "aa2e7bfb-e4fc-407a-9bff-0f45ff2eef34"
      },
      "execution_count": null,
      "outputs": [
        {
          "output_type": "stream",
          "name": "stdout",
          "text": [
            "Введите число 112000\n",
            "000211"
          ]
        }
      ]
    },
    {
      "cell_type": "markdown",
      "source": [
        "✅ Отлично"
      ],
      "metadata": {
        "id": "itPwgtNid4KO"
      }
    },
    {
      "cell_type": "markdown",
      "source": [
        "Задача 4 - Лесенка\n",
        "\n",
        "Пользователь вводит цифру от 1 до 9 на экран в переменную `n`. Выведите лесенку из n ступенек, где i-я ступенька состоит из чисел от 1 до i без пробелов."
      ],
      "metadata": {
        "id": "vyKTOqjYYGAJ"
      }
    },
    {
      "cell_type": "code",
      "source": [
        "n = int(input('Введите цифру '))\n",
        "\n",
        "for i in range(1, n + 1):\n",
        "    for a in range(1, i + 1):\n",
        "        print(a, end = '', sep = '')\n",
        "    print()"
      ],
      "metadata": {
        "colab": {
          "base_uri": "https://localhost:8080/"
        },
        "id": "7ZV22zEzY2Jp",
        "outputId": "0391c6af-a2eb-4e67-bf78-af232c29803d"
      },
      "execution_count": null,
      "outputs": [
        {
          "output_type": "stream",
          "name": "stdout",
          "text": [
            "Введите цифру 9\n",
            "1\n",
            "12\n",
            "123\n",
            "1234\n",
            "12345\n",
            "123456\n",
            "1234567\n",
            "12345678\n",
            "123456789\n"
          ]
        }
      ]
    },
    {
      "cell_type": "markdown",
      "source": [
        "✅ Хорошо"
      ],
      "metadata": {
        "id": "jCKxPVhKeKS-"
      }
    },
    {
      "cell_type": "markdown",
      "source": [
        "*Задача 5 - Угадать число*\n",
        "\n",
        "Пользователь загадывает целое число от 0 до 100.\n",
        "Нужно написать программу, которая не более чем за 5 попыток попытается угадать данное число.\n",
        "\n",
        "Для того, чтобы угадать число воспользуйтесь функцией генерацией случайного числа random.randint(a,b) из примера ячейки ниже.\n",
        "\n",
        "Пользователь может давать обратную связь на предложенное программой число, через строку ввода. Он может ввести одну из трех фраз:\n",
        "- угадано (число угадано, можно завершать программу)\n",
        "- больше (загаданное число больше, чем текущее)\n",
        "- меньше (загаданное число меньше, чем текущее)\n"
      ],
      "metadata": {
        "id": "rzPBjwOvGRu4"
      }
    },
    {
      "cell_type": "code",
      "source": [
        "# импорт пишем один раз за программу\n",
        "import random\n",
        "# генерирует случайное целое число от 100(включительно) до 200(включительно)\n",
        "random.randint(100,200)"
      ],
      "metadata": {
        "colab": {
          "base_uri": "https://localhost:8080/"
        },
        "id": "pQs05dnh_Cdy",
        "outputId": "35559235-70a8-46e0-b49b-c81b35ad12c8"
      },
      "execution_count": null,
      "outputs": [
        {
          "output_type": "execute_result",
          "data": {
            "text/plain": [
              "185"
            ]
          },
          "metadata": {},
          "execution_count": 2
        }
      ]
    },
    {
      "cell_type": "code",
      "source": [
        "# генерирует случайное целое число от 1(включительно) до 2(включительно)\n",
        "random.randint(1,2)"
      ],
      "metadata": {
        "colab": {
          "base_uri": "https://localhost:8080/"
        },
        "id": "JGwD8JBKGflP",
        "outputId": "8d33e18d-b0cd-453e-e7ef-4f6ae8a6841d"
      },
      "execution_count": null,
      "outputs": [
        {
          "output_type": "execute_result",
          "data": {
            "text/plain": [
              "2"
            ]
          },
          "metadata": {},
          "execution_count": 24
        }
      ]
    },
    {
      "cell_type": "code",
      "source": [
        "import random\n",
        "\n",
        "user_number = int(input())\n",
        "count = 1\n",
        "\n",
        "while count <= 5:\n",
        "  number_random = random.randint(0, 100)\n",
        "  print(f'попытка {count}, ваше число {number_random}?')\n",
        "  if user_number == number_random:\n",
        "   print('Угадано', 'Ура!', sep = '\\n')\n",
        "   break\n",
        "  elif user_number > number_random:\n",
        "    print('Больше')\n",
        "    count += 1\n",
        "  else:\n",
        "    print('Меньше')\n",
        "    count += 1"
      ],
      "metadata": {
        "colab": {
          "base_uri": "https://localhost:8080/"
        },
        "id": "OqLnI4znGhzs",
        "outputId": "9390bd51-71f7-46b0-8fe8-7f8312ae5468"
      },
      "execution_count": null,
      "outputs": [
        {
          "output_type": "stream",
          "name": "stdout",
          "text": [
            "33\n",
            "попытка 1, ваше число 78?\n",
            "Меньше\n",
            "попытка 2, ваше число 38?\n",
            "Меньше\n",
            "попытка 3, ваше число 30?\n",
            "Больше\n",
            "попытка 4, ваше число 58?\n",
            "Меньше\n",
            "попытка 5, ваше число 78?\n",
            "Меньше\n"
          ]
        }
      ]
    },
    {
      "cell_type": "markdown",
      "source": [
        "✅ Засчитано, но программа не меняет границы диапазона для генерации случайных чисел после ввода пользователя. То есть не помогает себе угадать число."
      ],
      "metadata": {
        "id": "3bK2uFXpeRyb"
      }
    },
    {
      "cell_type": "code",
      "source": [
        "import random\n",
        "\n",
        "user_number = int(input())\n",
        "min_number = 1\n",
        "max_number = 100\n",
        "count = 1\n",
        "\n",
        "while count <= 5:\n",
        "    number_random = random.randint(min_number, max_number)\n",
        "    print(f'Попытка {count}, ваше число {number_random}?')\n",
        "    response = input()\n",
        "    if response == 'Больше':\n",
        "        min_number = number_random + 1\n",
        "    elif response == 'Меньше':\n",
        "        max_number = number_random - 1\n",
        "    elif response == 'Угадано':\n",
        "        print('Ура!')\n",
        "        break\n",
        "    count += 1"
      ],
      "metadata": {
        "colab": {
          "base_uri": "https://localhost:8080/"
        },
        "id": "gByWmv-8X06w",
        "outputId": "66c112a9-428a-4a46-bb15-ad45f45a5318"
      },
      "execution_count": null,
      "outputs": [
        {
          "output_type": "stream",
          "name": "stdout",
          "text": [
            "15\n",
            "Попытка 1, ваше число 9?\n",
            "Больше\n",
            "Попытка 2, ваше число 51?\n",
            "Меньше\n",
            "Попытка 3, ваше число 17?\n",
            "Меньше\n",
            "Попытка 4, ваше число 15?\n",
            "Угадано\n",
            "Ура!\n"
          ]
        }
      ]
    },
    {
      "cell_type": "markdown",
      "source": [
        "*Задача 6 - Модификация угадайки*\n",
        "\n",
        "Модифицируйте предыдущую программу:\n",
        "Если количество попыток закончилось, и число до сих пор не угадано - выведите сообщение: \"Число не удалось угадать!\""
      ],
      "metadata": {
        "id": "30tQGk7RLOnU"
      }
    },
    {
      "cell_type": "code",
      "source": [
        "import random\n",
        "\n",
        "user_number = int(input())\n",
        "min_number = 1\n",
        "max_number = 100\n",
        "count = 1\n",
        "\n",
        "while count <= 5:\n",
        "    number_random = random.randint(min_number, max_number)\n",
        "    print(f'Попытка {count}, ваше число {number_random}?')\n",
        "    response = input()\n",
        "    if response == 'Больше':\n",
        "        min_number = number_random + 1\n",
        "    elif response == 'Меньше':\n",
        "        max_number = number_random - 1\n",
        "    elif response == 'Угадано':\n",
        "        print('Ура!')\n",
        "        break\n",
        "    count += 1\n",
        "else:\n",
        "  print('Число не удалось угадать!')"
      ],
      "metadata": {
        "colab": {
          "base_uri": "https://localhost:8080/"
        },
        "id": "pDLT7f3UKQBZ",
        "outputId": "7885550e-337b-47fc-cc4c-59e2bd59104e"
      },
      "execution_count": null,
      "outputs": [
        {
          "output_type": "stream",
          "name": "stdout",
          "text": [
            "15\n",
            "Попытка 1, ваше число 55?\n",
            "Меньше\n",
            "Попытка 2, ваше число 23?\n",
            "Меньше\n",
            "Попытка 3, ваше число 4?\n",
            "Больше\n",
            "Попытка 4, ваше число 17?\n",
            "Меньше\n",
            "Попытка 5, ваше число 15?\n",
            "Угадано\n",
            "Ура!\n"
          ]
        }
      ]
    },
    {
      "cell_type": "markdown",
      "source": [
        "✅Хорошо"
      ],
      "metadata": {
        "id": "ENnOex1Ielqh"
      }
    },
    {
      "cell_type": "markdown",
      "source": [
        "*Задача 7 - Тестирование* (повышенной сложности!)\n",
        "\n",
        "Напишите программу, которая будет генерировать вопросы на сложение двух чисел с помощью функции random.randint. Пользователь должен ввести верный ответ на данный пример.\n",
        "- Если пользователь ввел неверный ответ, сообщить ему что ответ неправильный и заново попросить ввести ответ на заданный пример\n",
        "- Если пользователь ввел ответ верный, сгенерировать следующий пример\n",
        "- Если пользователь ввел \"конец\" - вывести \"Приходите еще \" и закончить программу\n",
        "\n",
        "\n",
        "P.S. Для решении этой задачи можно использовать цикл в цикле"
      ],
      "metadata": {
        "id": "IHuqUU-iNM7T"
      }
    },
    {
      "cell_type": "code",
      "source": [
        "import random\n",
        "\n",
        "numb_random_1 = random.randint(0, 100)\n",
        "numb_random_2 = random.randint(0, 100)\n",
        "user_count = input(f'Сколько будет {numb_random_1} + {numb_random_2} = ?')\n",
        "\n",
        "while user_count != 'конец':\n",
        "  while int(user_count) != numb_random_1 + numb_random_2:\n",
        "    print('Ответ неправильный')\n",
        "    user_count = input(f'Сколько будет {numb_random_1} + {numb_random_2} = ?')\n",
        "  else:\n",
        "    numb_random_1 = random.randint(0, 100)\n",
        "    numb_random_2 = random.randint(0, 100)\n",
        "    user_count = input(f'Сколько будет {numb_random_1} + {numb_random_2} = ?')\n",
        "else:\n",
        "  print('Приходите еще!')"
      ],
      "metadata": {
        "colab": {
          "base_uri": "https://localhost:8080/"
        },
        "id": "ZKufmCj6M67S",
        "outputId": "11037ba2-e6a1-4599-8983-5b92db2e53dd"
      },
      "execution_count": null,
      "outputs": [
        {
          "output_type": "stream",
          "name": "stdout",
          "text": [
            "Сколько будет 6 + 23 = ?конец\n",
            "Приходите еще!\n"
          ]
        }
      ]
    },
    {
      "cell_type": "markdown",
      "source": [
        "✅ Хорошо. Можно оптимизировать, чтобы не генерить примеры в двух местах аналогичным кодом"
      ],
      "metadata": {
        "id": "ZBmwho9Oezax"
      }
    },
    {
      "cell_type": "code",
      "source": [
        "import random\n",
        "\n",
        "while True:\n",
        "    numb_random_1 = random.randint(0, 100)\n",
        "    numb_random_2 = random.randint(0, 100)\n",
        "    user_count = input(f'Сколько будет {numb_random_1} + {numb_random_2} = ? ')\n",
        "    if user_count == 'конец':\n",
        "        print('Приходите еще!')\n",
        "        break\n",
        "    while int(user_count) != numb_random_1 + numb_random_2:\n",
        "        print('Ответ неправильный')\n",
        "        user_count = input(f'Сколько будет {numb_random_1} + {numb_random_2} = ? ')\n",
        "        if user_count == 'конец':\n",
        "            print('Приходите еще!')\n",
        "            break"
      ],
      "metadata": {
        "colab": {
          "base_uri": "https://localhost:8080/"
        },
        "id": "5TTYoU6bnvf8",
        "outputId": "1fc1aa10-2ae8-4b74-9d63-648f436947cc"
      },
      "execution_count": null,
      "outputs": [
        {
          "output_type": "stream",
          "name": "stdout",
          "text": [
            "Сколько будет 34 + 7 = ? конец\n",
            "Приходите еще!\n"
          ]
        }
      ]
    },
    {
      "cell_type": "markdown",
      "source": [
        "### Блок 3\n",
        "\n",
        "Отрабатываем умение \"отлавливать\" исключения и обрабатывать их."
      ],
      "metadata": {
        "id": "q89YkNqYbNOa"
      }
    },
    {
      "cell_type": "markdown",
      "source": [
        "*Задача 0 - Ошибка типа данных*\n",
        "\n",
        "Пользователь вводит два значения на экран.\n",
        "Если два значения не являются численными и их нельзя сложить, отловите ошибку ValueError - и произведите конкатенацию этих двух значений.\n"
      ],
      "metadata": {
        "id": "aCHiKgT6H8VJ"
      }
    },
    {
      "cell_type": "code",
      "source": [
        "value_1 = input('Введите первое число ')\n",
        "value_2 = input('Введите второе число ')\n",
        "\n",
        "try:\n",
        "  result = int(value_1 + value_2)\n",
        "  print(result)\n",
        "except ValueError:\n",
        "  print(value_1 + value_2)\n"
      ],
      "metadata": {
        "colab": {
          "base_uri": "https://localhost:8080/"
        },
        "id": "fmBklF5vUPiI",
        "outputId": "bbc22fd0-314a-43f5-eac6-1c709f002731"
      },
      "execution_count": null,
      "outputs": [
        {
          "output_type": "stream",
          "name": "stdout",
          "text": [
            "Введите первое число 12\n",
            "Введите второе число ннннн\n",
            "12ннннн\n"
          ]
        }
      ]
    },
    {
      "cell_type": "markdown",
      "source": [
        "✅ Хорошо"
      ],
      "metadata": {
        "id": "s7s8hI94e8K8"
      }
    },
    {
      "cell_type": "markdown",
      "source": [
        "*Задача 1 - Ошибка типа данных*\n",
        "\n",
        "Рассчитайте с какой скоростью (км/час) двигался пользователь, чтобы преодолеть один километр. Для этого запросите у него время (в минутах) за которое он преодолевает расстояние в 1 км.\n",
        "Отловите всевозможные ошибки, которые могут возникнуть при выполнении данного задания.\n",
        "\n",
        "После того как значение скорости будет рассчитано или не рассчитано, запросить у пользователя нужно ли еще раз рассчитать скорость. Если нужно - повторить процедуру, описанную сверху.\n"
      ],
      "metadata": {
        "id": "vs1DX3ArNNKk"
      }
    },
    {
      "cell_type": "code",
      "source": [
        "answer = ''\n",
        "\n",
        "while answer != 'нет':\n",
        "  try:\n",
        "    t = int(input('Введите ваше время '))\n",
        "    V = 1 / (t / 60)\n",
        "    if V < 0:\n",
        "      raise TypeError('Число не может быть отрицательным')\n",
        "    print(f'Ваша скорость = {V} км/час')\n",
        "  except TypeError:\n",
        "    print('Время не может быть отрицательным!')\n",
        "  except ZeroDivisionError:\n",
        "    print('Время не может быть равным нулю!')\n",
        "  except ValueError:\n",
        "    print('Введите корректное значение времени!')\n",
        "  finally:\n",
        "    answer = input('Хотите рассчитать скорость еще раз? ')\n",
        "else:\n",
        "  print('До свидания')"
      ],
      "metadata": {
        "colab": {
          "base_uri": "https://localhost:8080/"
        },
        "id": "JLAPlE_0MOmO",
        "outputId": "6115b64c-6d93-4e49-bda1-84adfc553c67"
      },
      "execution_count": null,
      "outputs": [
        {
          "output_type": "stream",
          "name": "stdout",
          "text": [
            "Введите ваше время 60\n",
            "Ваша скорость = 1.0 км/час\n",
            "Хотите рассчитать скорость еще раз? да\n",
            "Введите ваше время 120\n",
            "Ваша скорость = 0.5 км/час\n",
            "Хотите рассчитать скорость еще раз? нет\n",
            "До свидания\n"
          ]
        }
      ]
    },
    {
      "cell_type": "markdown",
      "source": [
        "✅ Хорошо"
      ],
      "metadata": {
        "id": "bH7w6PucfCe2"
      }
    },
    {
      "cell_type": "markdown",
      "source": [
        "ДЗ:\n",
        "https://new.contest.yandex.ru/41235/statistics"
      ],
      "metadata": {
        "id": "eH1zgT5bUjf7"
      }
    },
    {
      "cell_type": "markdown",
      "source": [
        "![2023-08-10_13h57_55.png](data:image/png;base64,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)"
      ],
      "metadata": {
        "id": "KQQJv13Zmb3i"
      }
    }
  ]
}