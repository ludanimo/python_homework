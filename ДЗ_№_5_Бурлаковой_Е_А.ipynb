{
  "cells": [
    {
      "cell_type": "markdown",
      "id": "2710a4f4",
      "metadata": {
        "id": "2710a4f4"
      },
      "source": [
        "# Содержание:\n",
        "  - ## [Блок 1](#Блок_1)\n",
        "      - ### [Теория](#Теория_1)\n",
        "      - ### [Разобранные примеры](#Примеры_1)\n",
        "      - ### [Задачи](#Задачи_1)\n",
        "\n",
        "  - ## [Блок 2](#Блок_1)\n",
        "      - ### [Теория](#Теория_2)\n",
        "      - ### [Разобранные примеры](#Примеры_2)\n",
        "      - ### [Задачи](#Задачи_2)"
      ]
    },
    {
      "cell_type": "markdown",
      "id": "921ede6b",
      "metadata": {
        "id": "921ede6b"
      },
      "source": [
        "# Блок_1"
      ]
    },
    {
      "cell_type": "markdown",
      "id": "fa7cd080",
      "metadata": {
        "id": "fa7cd080"
      },
      "source": [
        "## Теория_1"
      ]
    },
    {
      "cell_type": "code",
      "execution_count": null,
      "id": "798314e3",
      "metadata": {
        "id": "798314e3",
        "outputId": "a84dbde8-74b7-414a-c8a6-1cf4e96e693a"
      },
      "outputs": [
        {
          "name": "stdout",
          "output_type": "stream",
          "text": [
            "Hello, Anna!\n"
          ]
        }
      ],
      "source": [
        "def greet(name):\n",
        "    print(\"Hello, \" + name + \"!\")\n",
        "\n",
        "user_name = \"Anna\"\n",
        "greet(user_name)\n"
      ]
    },
    {
      "cell_type": "code",
      "execution_count": null,
      "id": "e1600877",
      "metadata": {
        "id": "e1600877",
        "outputId": "39098bdf-c4a4-4e5e-bd76-9ed5f8d117ce"
      },
      "outputs": [
        {
          "data": {
            "text/plain": [
              "3"
            ]
          },
          "execution_count": 53,
          "metadata": {},
          "output_type": "execute_result"
        }
      ],
      "source": [
        "def count_divide(a, b):\n",
        "    if b == 0:\n",
        "        return\n",
        "    return a // b\n",
        "\n",
        "count_divide(b=3, a=10)"
      ]
    },
    {
      "cell_type": "code",
      "execution_count": null,
      "id": "52df0dde",
      "metadata": {
        "id": "52df0dde",
        "outputId": "b84a4f0a-a35e-4ce8-df9b-e68f9cf79506"
      },
      "outputs": [
        {
          "data": {
            "text/plain": [
              "3"
            ]
          },
          "execution_count": 54,
          "metadata": {},
          "output_type": "execute_result"
        }
      ],
      "source": [
        "def increment(number, by=1):\n",
        "    return number + by\n",
        "\n",
        "increment(2)"
      ]
    },
    {
      "cell_type": "markdown",
      "id": "da126b5e",
      "metadata": {
        "id": "da126b5e"
      },
      "source": [
        "## Примеры_1"
      ]
    },
    {
      "cell_type": "markdown",
      "id": "6680be1d",
      "metadata": {
        "id": "6680be1d"
      },
      "source": [
        "### Пример 1:\n",
        "Напишите функцию is_prime(n), которая принимает на вход целое число n и возвращает True, если число n является простым, и False, если число n не является простым."
      ]
    },
    {
      "cell_type": "code",
      "execution_count": null,
      "id": "8064e8b0",
      "metadata": {
        "id": "8064e8b0"
      },
      "outputs": [],
      "source": [
        "def is_prime(n: int) -> bool:\n",
        "    if n < 1:\n",
        "        return False\n",
        "    for i in range(2, n):\n",
        "        if n % i == 0:\n",
        "            return False\n",
        "    return True"
      ]
    },
    {
      "cell_type": "code",
      "execution_count": null,
      "id": "d977c6ff",
      "metadata": {
        "id": "d977c6ff",
        "outputId": "18dbe360-da49-489b-e238-30c55eae6de3"
      },
      "outputs": [
        {
          "name": "stdout",
          "output_type": "stream",
          "text": [
            "Введите целое число: 12\n",
            "12 не является простым числом\n"
          ]
        }
      ],
      "source": [
        "n = int(input(\"Введите целое число: \"))\n",
        "\n",
        "if is_prime(n):\n",
        "    print(n, \"является простым числом\")\n",
        "else:\n",
        "    print(n, \"не является простым числом\")"
      ]
    },
    {
      "cell_type": "markdown",
      "id": "d0c178d4",
      "metadata": {
        "id": "d0c178d4"
      },
      "source": [
        "### Пример 2:\n",
        "\n",
        "Напишите программу, принимающую на вход массив и число - множитель, на который нужно умножить все элементы массива."
      ]
    },
    {
      "cell_type": "code",
      "execution_count": null,
      "id": "4a4d3e19",
      "metadata": {
        "id": "4a4d3e19"
      },
      "outputs": [],
      "source": [
        "def multiply_list(lst: list, multiplier: float) -> list:\n",
        "    result = []\n",
        "    for num in lst:\n",
        "        result.append(num * multiplier)\n",
        "    return result"
      ]
    },
    {
      "cell_type": "code",
      "execution_count": null,
      "id": "64ea71d8",
      "metadata": {
        "id": "64ea71d8"
      },
      "outputs": [],
      "source": [
        "def multiply_list(lst: list, multiplier: float):\n",
        "    for i in range(len(lst)):\n",
        "        lst[i] *= multiplier"
      ]
    },
    {
      "cell_type": "code",
      "execution_count": null,
      "id": "3633119c",
      "metadata": {
        "id": "3633119c"
      },
      "outputs": [],
      "source": [
        "a = list(range(4))\n",
        "multiply_list(a, 2)"
      ]
    },
    {
      "cell_type": "code",
      "execution_count": null,
      "id": "528d2dfd",
      "metadata": {
        "id": "528d2dfd",
        "outputId": "2bd505f2-fbb7-47f8-d00d-eecf46850943"
      },
      "outputs": [
        {
          "data": {
            "text/plain": [
              "[0, 2, 4, 6]"
            ]
          },
          "execution_count": 188,
          "metadata": {},
          "output_type": "execute_result"
        }
      ],
      "source": [
        "a"
      ]
    },
    {
      "cell_type": "markdown",
      "id": "48ad086b",
      "metadata": {
        "id": "48ad086b"
      },
      "source": [
        "## Задачи"
      ]
    },
    {
      "cell_type": "markdown",
      "id": "9667ef69",
      "metadata": {
        "id": "9667ef69"
      },
      "source": [
        "### Задачка 1:\n",
        "\n",
        " Напишите функцию `max_word_length`, которая принимает список слов в качестве аргумента и возвращает длину самого длинного слова в списке.\n"
      ]
    },
    {
      "cell_type": "code",
      "execution_count": null,
      "id": "41932c34",
      "metadata": {
        "id": "41932c34"
      },
      "outputs": [],
      "source": [
        "def max_word_length(arr: list) -> int:\n",
        "    max_lenght = 0\n",
        "    for word in arr:\n",
        "        if len(word) > max_lenght:\n",
        "            max_lenght = len(word)\n",
        "    return max_lenght"
      ]
    },
    {
      "cell_type": "code",
      "execution_count": null,
      "id": "c44a9fca",
      "metadata": {
        "id": "c44a9fca",
        "colab": {
          "base_uri": "https://localhost:8080/"
        },
        "outputId": "969098c9-54bb-47b1-e017-7c11b4087b3e"
      },
      "outputs": [
        {
          "output_type": "execute_result",
          "data": {
            "text/plain": [
              "12"
            ]
          },
          "metadata": {},
          "execution_count": 4
        }
      ],
      "source": [
        "max_word_length(['epsillon', 'Annataragaga', '3232', 'dedewdaf','we'])"
      ]
    },
    {
      "cell_type": "markdown",
      "id": "494498e7",
      "metadata": {
        "id": "494498e7"
      },
      "source": [
        "### Задачка 2"
      ]
    },
    {
      "cell_type": "markdown",
      "id": "95754060",
      "metadata": {
        "id": "95754060"
      },
      "source": [
        "Напишите функцию `sum_even(numbers)`, которая принимает список чисел numbers и возвращает сумму всех четных чисел в списке.\n"
      ]
    },
    {
      "cell_type": "code",
      "execution_count": null,
      "id": "8656a66b",
      "metadata": {
        "id": "8656a66b"
      },
      "outputs": [],
      "source": [
        "def sum_even(numbers: list) -> float:\n",
        "    sum_of_even = 0\n",
        "    for number in numbers:\n",
        "        if number % 2 == 0:\n",
        "            sum_of_even += number\n",
        "    return sum_of_even"
      ]
    },
    {
      "cell_type": "code",
      "execution_count": null,
      "id": "80c23fcc",
      "metadata": {
        "id": "80c23fcc",
        "colab": {
          "base_uri": "https://localhost:8080/"
        },
        "outputId": "0ed92fd4-8516-47b8-f623-56b2af76120e"
      },
      "outputs": [
        {
          "output_type": "execute_result",
          "data": {
            "text/plain": [
              "30"
            ]
          },
          "metadata": {},
          "execution_count": 6
        }
      ],
      "source": [
        "my_list = [1, 2, 3, 4, 5, 6, 7, 8, 9, 10] # ответ 30\n",
        "\n",
        "sum_even(my_list)"
      ]
    },
    {
      "cell_type": "code",
      "execution_count": null,
      "id": "3d348fa8",
      "metadata": {
        "id": "3d348fa8"
      },
      "outputs": [],
      "source": []
    },
    {
      "cell_type": "markdown",
      "id": "dc54cf26",
      "metadata": {
        "id": "dc54cf26"
      },
      "source": [
        "### Задачка 3"
      ]
    },
    {
      "cell_type": "markdown",
      "id": "dbcd20ad",
      "metadata": {
        "id": "dbcd20ad"
      },
      "source": [
        "Напишите функцию на Python `is_leap_year()`, которая принимает на вход натуральное число - год по Григорианскому календарю и возвращает True, если это високосный год и False иначе.\n",
        "\n",
        "***Подсказка***  *Год по Григорианском календарю - високосный, если*\n",
        "- *он делится нацело на 4 и не делится на 100*\n",
        "- *если делится на 400*\n"
      ]
    },
    {
      "cell_type": "code",
      "execution_count": null,
      "id": "1be6c185",
      "metadata": {
        "id": "1be6c185"
      },
      "outputs": [],
      "source": [
        "def is_leap_year(year: int) -> bool:\n",
        "    if year % 400 == 0 or year % 4 == 0 and year % 100 != 0:\n",
        "        return True\n",
        "    else:\n",
        "        return False"
      ]
    },
    {
      "cell_type": "code",
      "execution_count": null,
      "id": "f9188308",
      "metadata": {
        "id": "f9188308",
        "colab": {
          "base_uri": "https://localhost:8080/"
        },
        "outputId": "8df77226-f8d3-4d0d-e8d8-9b9a68bdfc45"
      },
      "outputs": [
        {
          "output_type": "execute_result",
          "data": {
            "text/plain": [
              "False"
            ]
          },
          "metadata": {},
          "execution_count": 15
        }
      ],
      "source": [
        "is_leap_year(1700)"
      ]
    },
    {
      "cell_type": "markdown",
      "id": "b2a91be8",
      "metadata": {
        "id": "b2a91be8"
      },
      "source": [
        "### Задача 4\n",
        "\n",
        "Используя функцию `is_leap_year()` напишите функцию filter_leap_year(), которая принимает на вход список дат - строк в формате DD.MM.YEAR и возвращаетaотфильтрованный список, в котором удалены даты високосных лет.\n",
        "\n",
        "\n",
        "Пример:\n",
        "```\n",
        "dates = [\"16.02.1998\", \"21.12.1876\", \"21.01.1955\", \"6.11.1228\", \"31.12.1200\", \"9.07.2351\"]\n",
        "\n",
        "res = [\"16.02.1998\",  \"21.01.1955\", \"9.07.2351\"]\n",
        "```"
      ]
    },
    {
      "cell_type": "code",
      "execution_count": null,
      "id": "ccf24485",
      "metadata": {
        "id": "ccf24485"
      },
      "outputs": [],
      "source": [
        "def filter_leap_year(dates: list) -> list:\n",
        "    filtered_dates = []\n",
        "    for date in dates:\n",
        "        day, month, year = date.split('.')\n",
        "        if is_leap_year(int(year)) == False:\n",
        "            filtered_dates.append(date)\n",
        "    return filtered_dates"
      ]
    },
    {
      "cell_type": "code",
      "execution_count": null,
      "id": "a2b50beb",
      "metadata": {
        "id": "a2b50beb",
        "colab": {
          "base_uri": "https://localhost:8080/"
        },
        "outputId": "61d065b8-2f73-47a9-829b-d9bd013adbde"
      },
      "outputs": [
        {
          "output_type": "execute_result",
          "data": {
            "text/plain": [
              "['16.02.1998', '21.01.1955', '9.07.2351']"
            ]
          },
          "metadata": {},
          "execution_count": 19
        }
      ],
      "source": [
        "dates = [\"16.02.1998\", \"21.12.1876\", \"21.01.1955\", \"6.11.1228\", \"31.12.1200\", \"9.07.2351\"]\n",
        "filter_leap_year(dates)"
      ]
    },
    {
      "cell_type": "markdown",
      "id": "e2034e8d",
      "metadata": {
        "id": "e2034e8d"
      },
      "source": [
        "### Задачка 5\n",
        "\n",
        "Напишите функцию delete_punctuation(), которая принимает на вход строку и удаляет знаки пунктуации `'?!.,:;-\"''.`\n",
        "\n",
        "Примечание: чтобы указать в питоновской строке кавычки, используется бэкслэш: `'\\''`  и `'\\\"'`"
      ]
    },
    {
      "cell_type": "code",
      "source": [
        "def delete_punctuation(string: str) -> str:\n",
        "    punctuation = ['?!.,:;-\"\\'''\\\"']\n",
        "    clean_text = ''.join(sign for sign in string if sign not in punctuation)\n",
        "    return clean_text"
      ],
      "metadata": {
        "id": "tKBkGnFhu8F2"
      },
      "id": "tKBkGnFhu8F2",
      "execution_count": null,
      "outputs": []
    },
    {
      "cell_type": "code",
      "execution_count": null,
      "id": "ae44094f",
      "metadata": {
        "id": "ae44094f",
        "outputId": "ca5397b5-5c8b-41e5-dbab-b1aa8f2d5a1c",
        "colab": {
          "base_uri": "https://localhost:8080/"
        }
      },
      "outputs": [
        {
          "output_type": "stream",
          "name": "stdout",
          "text": [
            "Jane's \"toyota\" in the street\n"
          ]
        }
      ],
      "source": [
        "a = \"Jane\\'s \\\"toyota\\\" in the street\"\n",
        "print(a)"
      ]
    },
    {
      "cell_type": "markdown",
      "id": "5376eee8",
      "metadata": {
        "id": "5376eee8"
      },
      "source": [
        "### Задачка 6\n",
        "\n",
        "Напишите функцию is_palindrome(s), которая принимает на вход строку s и возвращает True, если строка является палиндромом, и False, если строка не является палиндромом.\n",
        "\n"
      ]
    },
    {
      "cell_type": "code",
      "execution_count": null,
      "id": "1ca66152",
      "metadata": {
        "id": "1ca66152"
      },
      "outputs": [],
      "source": [
        "def is_palindrome(s: str) -> bool:\n",
        "    s = s.lower().replace(' ', '')\n",
        "    punctuation = ['?!.,:;-\"\\'''\\\"']\n",
        "    s = ''.join(sign for sign in s if sign not in punctuation)\n",
        "    return s == s[::-1]"
      ]
    },
    {
      "cell_type": "code",
      "execution_count": null,
      "id": "b2103796",
      "metadata": {
        "id": "b2103796",
        "outputId": "ceeef4cb-343a-4b9f-a36e-ede6fc0c619d",
        "colab": {
          "base_uri": "https://localhost:8080/"
        }
      },
      "outputs": [
        {
          "output_type": "stream",
          "name": "stdout",
          "text": [
            "an madam na является палиндромом\n"
          ]
        }
      ],
      "source": [
        "word = \"an madam na\"\n",
        "\n",
        "if is_palindrome(word):\n",
        "    print(word, \"является палиндромом\")\n",
        "else:\n",
        "    print(word, \"не является палиндромом\")"
      ]
    },
    {
      "cell_type": "markdown",
      "id": "f53266fd",
      "metadata": {
        "id": "f53266fd"
      },
      "source": [
        "Чтобы проверить правильность своего решения, прогоните функцию через тестовый список, содержащий палиндромы без учета знаков пунктуации:"
      ]
    },
    {
      "cell_type": "code",
      "execution_count": null,
      "id": "d842f25b",
      "metadata": {
        "id": "d842f25b"
      },
      "outputs": [],
      "source": [
        "from typing import Callable, Iterable\n",
        "\n",
        "tests = [\n",
        "    'A nut for a jar of tuna.',\n",
        "    'Borrow or rob?',\n",
        "    'Was it a car or a cat I saw?',\n",
        "    'Murder for a jar of red rum.'\n",
        "]\n",
        "\n",
        "def test_palindrome(palindrom_func: Callable, tests: Iterable[str]) -> list:\n",
        "    for phrase in tests:\n",
        "        if not palindrom_func(phrase):\n",
        "            print(f\"Failed on phrase {phrase}\")"
      ]
    },
    {
      "cell_type": "code",
      "execution_count": null,
      "id": "fd2a3de2",
      "metadata": {
        "id": "fd2a3de2"
      },
      "outputs": [],
      "source": [
        "test_palindrome(is_palindrome, tests)"
      ]
    },
    {
      "cell_type": "markdown",
      "id": "ebc69c18",
      "metadata": {
        "id": "ebc69c18"
      },
      "source": [
        "# Блок_2"
      ]
    },
    {
      "cell_type": "markdown",
      "id": "eb3e6d4c",
      "metadata": {
        "id": "eb3e6d4c"
      },
      "source": [
        "## Теория_2"
      ]
    },
    {
      "cell_type": "markdown",
      "id": "b4e90dd6",
      "metadata": {
        "id": "b4e90dd6"
      },
      "source": [
        "### zip\n",
        "Функция `zip` - используется для группировки элементов из различных последовательностей (например, списков, кортежей и т.д.) в пары или кортежи. Нужно для того, чтобы итерироваться по нескольким спискам параллельно. Например:"
      ]
    },
    {
      "cell_type": "code",
      "execution_count": null,
      "id": "69e97fef",
      "metadata": {
        "id": "69e97fef",
        "outputId": "06f9291d-dafa-4f8e-956f-8804f997329c"
      },
      "outputs": [
        {
          "name": "stdout",
          "output_type": "stream",
          "text": [
            "<class 'zip'>\n"
          ]
        }
      ],
      "source": [
        "names = [\"Анна\", \"Иван\", \"Мария\"]\n",
        "ages = [25, 30, 28]\n",
        "cities = [\"Москва\", \"Санкт-Петербург\", \"Киев\"]\n",
        "\n",
        "data = zip(имена, возрасты, города)\n",
        "print(type(data))"
      ]
    },
    {
      "cell_type": "code",
      "execution_count": null,
      "id": "1f91ea5a",
      "metadata": {
        "id": "1f91ea5a",
        "outputId": "784a98a0-b705-4179-d779-4bbe582add73"
      },
      "outputs": [
        {
          "name": "stdout",
          "output_type": "stream",
          "text": [
            "Анна возраст: 25 город: Москва\n",
            "Иван возраст: 30 город: Санкт-Петербург\n",
            "Мария возраст: 28 город: Киев\n"
          ]
        }
      ],
      "source": [
        "for name, age, city in data:\n",
        "    print(name, \"возраст:\", age, \"город:\", city)"
      ]
    },
    {
      "cell_type": "markdown",
      "id": "a5555486",
      "metadata": {
        "id": "a5555486"
      },
      "source": [
        "### map"
      ]
    },
    {
      "cell_type": "markdown",
      "id": "b1ffd995",
      "metadata": {
        "id": "b1ffd995"
      },
      "source": [
        "Используется для применения заданной функции ко всем элементам последовательности. Она возвращает объект-итератор, который содержит результаты применения функции к каждому элементу последовательности."
      ]
    },
    {
      "cell_type": "code",
      "execution_count": null,
      "id": "7ca27cd9",
      "metadata": {
        "id": "7ca27cd9",
        "outputId": "a9f7d50e-0466-4c45-e5a4-2f29d875d7e3"
      },
      "outputs": [
        {
          "name": "stdout",
          "output_type": "stream",
          "text": [
            "[2, 4, 6, 8, 10]\n"
          ]
        }
      ],
      "source": [
        "def double(x):\n",
        "    return x * 2\n",
        "\n",
        "numbers = [1, 2, 3, 4, 5]\n",
        "double_numbers = map(double, numbers)\n",
        "\n",
        "# Преобразование результата map в список для отображения\n",
        "double_numbers = list(double_numbers)\n",
        "\n",
        "print(double_numbers)"
      ]
    },
    {
      "cell_type": "markdown",
      "id": "10a15c1c",
      "metadata": {
        "id": "10a15c1c"
      },
      "source": [
        "## Примеры_2"
      ]
    },
    {
      "cell_type": "markdown",
      "id": "22709277",
      "metadata": {
        "id": "22709277"
      },
      "source": [
        "## Пример 1:\n",
        "Напишите функцию, которая принимает от пользователя два списка целых чисел одинаковой длины и выполняет следующие операции:\n",
        "\n",
        "- Находит сумму элементов с одинаковыми индексами в каждом списке.\n",
        "- Вычисляет среднее арифметическое всех элементов из двух списков.\n",
        "- Возвращает список, состоящий из элементов, которые встречаются в обоих списках.\n"
      ]
    },
    {
      "cell_type": "code",
      "execution_count": null,
      "id": "4eafd9fa",
      "metadata": {
        "id": "4eafd9fa"
      },
      "outputs": [],
      "source": [
        "def sum_lists(list1: list, list2: list) -> list:\n",
        "    return [a + b for a, b in zip(list1, list2)]\n",
        "\n",
        "def average_lists(list1: list, list2: list) -> float:\n",
        "    sum_list = sum_lists(list1, list2)\n",
        "    return sum(sum_lists(list1, list2)) / (len(sum_list) * 2)\n",
        "\n",
        "def common_elements(list1: list, list2: list) -> list:\n",
        "    return list(set(list1) & set(list2))"
      ]
    },
    {
      "cell_type": "code",
      "execution_count": null,
      "id": "1429ef74",
      "metadata": {
        "id": "1429ef74",
        "outputId": "66696b1f-5a0f-4aac-d70b-1f275b7ce828"
      },
      "outputs": [
        {
          "name": "stdout",
          "output_type": "stream",
          "text": [
            "Сумма элементов с одинаковыми индексами: [4, 9, 7, 6, 8]\n",
            "Среднее арифметическое двух списков: 3.4\n",
            "Список общих элементов в двух списках: [1, 3, 6]\n"
          ]
        }
      ],
      "source": [
        "list1 = [1, 3, 4, 5, 6]\n",
        "list2 = [3, 6, 3, 1, 2]\n",
        "\n",
        "\n",
        "sum_list = sum_lists(list1, list2)\n",
        "avg = average_lists(list1, list2)\n",
        "common = common_elements(list1, list2)\n",
        "\n",
        "print(\"Сумма элементов с одинаковыми индексами:\", sum_list)\n",
        "print(\"Среднее арифметическое двух списков:\", avg)\n",
        "print(\"Список общих элементов в двух списках:\", common)"
      ]
    },
    {
      "cell_type": "markdown",
      "id": "a192b6cd",
      "metadata": {
        "id": "a192b6cd"
      },
      "source": [
        "## Пример 2"
      ]
    },
    {
      "cell_type": "markdown",
      "id": "f470b7ab",
      "metadata": {
        "id": "f470b7ab"
      },
      "source": [
        "Напишите функцию, принимающую на вход два списка одинаковой длины и возвращающую список такой же длины, состоящий из максимумов элементов с одинаковым индексом.\n",
        "\n",
        "Пример:\n",
        "```\n",
        "a = [1, 2, 3, 4, 5]\n",
        "b = [2, 1, 3, 6, 1]\n",
        "\n",
        "res = [2, 2, 3, 6, 5]\n",
        "```"
      ]
    },
    {
      "cell_type": "code",
      "execution_count": null,
      "id": "1f5c5093",
      "metadata": {
        "id": "1f5c5093"
      },
      "outputs": [],
      "source": [
        "def maximum(list1, list2) -> list:\n",
        "    return list(map(lambda x, y: x if x > y else y, list1, list2))"
      ]
    },
    {
      "cell_type": "code",
      "source": [
        "a = [1, 2, 3, 4, 5]\n",
        "b = [2, 1, 3, 6, 1]\n",
        "maximum(a, b)"
      ],
      "metadata": {
        "colab": {
          "base_uri": "https://localhost:8080/"
        },
        "id": "MpnLtABED2oz",
        "outputId": "bbfe7088-b53e-4bde-a5e1-d8af538bc7c5"
      },
      "id": "MpnLtABED2oz",
      "execution_count": null,
      "outputs": [
        {
          "output_type": "execute_result",
          "data": {
            "text/plain": [
              "[2, 2, 3, 6, 5]"
            ]
          },
          "metadata": {},
          "execution_count": 50
        }
      ]
    },
    {
      "cell_type": "markdown",
      "id": "74acdd19",
      "metadata": {
        "id": "74acdd19"
      },
      "source": [
        "## Пример 3"
      ]
    },
    {
      "cell_type": "markdown",
      "id": "70eb3adb",
      "metadata": {
        "id": "70eb3adb"
      },
      "source": [
        "Напишите функцию, вычисляющую факториал положительного числа."
      ]
    },
    {
      "cell_type": "code",
      "execution_count": null,
      "id": "10ccb4f3",
      "metadata": {
        "id": "10ccb4f3"
      },
      "outputs": [],
      "source": [
        "def factorial(n):\n",
        "    res = 1\n",
        "    for i in range(1, n + 1):\n",
        "        res *= i\n",
        "    return res"
      ]
    },
    {
      "cell_type": "code",
      "source": [
        "factorial(4)"
      ],
      "metadata": {
        "colab": {
          "base_uri": "https://localhost:8080/"
        },
        "id": "T7oYBhErESVU",
        "outputId": "846ca605-a0fb-476c-df4f-ef7f65809193"
      },
      "id": "T7oYBhErESVU",
      "execution_count": null,
      "outputs": [
        {
          "output_type": "execute_result",
          "data": {
            "text/plain": [
              "24"
            ]
          },
          "metadata": {},
          "execution_count": 52
        }
      ]
    },
    {
      "cell_type": "markdown",
      "id": "44c72531",
      "metadata": {
        "id": "44c72531"
      },
      "source": [
        "Другое решение данной задачи - через рекурсию.\n",
        "\n",
        "\n",
        "*Рекурсивная функция - это функция, которая вызывает сама себя с некоторым изменением параметров до тех пор, пока не будет достигнуто условие выхода из рекурсии.*\n",
        "\n",
        "*Простое объяснение на [матрешках](https://www.youtube.com/watch?v=NOaSY5pJmyc).*"
      ]
    },
    {
      "cell_type": "code",
      "execution_count": null,
      "id": "eae6f7d8",
      "metadata": {
        "id": "eae6f7d8"
      },
      "outputs": [],
      "source": [
        "def factorial2(n):\n",
        "    if n == 0:\n",
        "        return 1  # условие выхода из рекурсии\n",
        "    return n * factorial2(n - 1)"
      ]
    },
    {
      "cell_type": "code",
      "execution_count": null,
      "id": "9fec8ce0",
      "metadata": {
        "id": "9fec8ce0",
        "outputId": "a7317f2e-dab1-4130-bd48-1b010be17ade"
      },
      "outputs": [
        {
          "data": {
            "text/plain": [
              "24"
            ]
          },
          "execution_count": 159,
          "metadata": {},
          "output_type": "execute_result"
        }
      ],
      "source": [
        "factorial2(4)"
      ]
    },
    {
      "cell_type": "markdown",
      "id": "abee0e12",
      "metadata": {
        "id": "abee0e12"
      },
      "source": [
        "# Задачи_2"
      ]
    },
    {
      "cell_type": "markdown",
      "id": "f4af7e10",
      "metadata": {
        "id": "f4af7e10"
      },
      "source": [
        "### Задачка 7"
      ]
    },
    {
      "cell_type": "markdown",
      "id": "43c2d860",
      "metadata": {
        "id": "43c2d860"
      },
      "source": [
        "Напишите функцию, вычисляющую n-ое число последовательности [Фибоначчи](https://ru.wikipedia.org/wiki/%D0%A7%D0%B8%D1%81%D0%BB%D0%B0_%D0%A4%D0%B8%D0%B1%D0%BE%D0%BD%D0%B0%D1%87%D1%87%D0%B8#:~:text=0%2C%201%2C%201%2C%202,%D1%80%D0%B0%D0%B2%D0%BD%D0%BE%20%D1%81%D1%83%D0%BC%D0%BC%D0%B5%20%D0%B4%D0%B2%D1%83%D1%85%20%D0%BF%D1%80%D0%B5%D0%B4%D1%8B%D0%B4%D1%83%D1%89%D0%B8%D1%85%20%D1%87%D0%B8%D1%81%D0%B5%D0%BB.).\n",
        "\n",
        "В последовательности Фибоначчи  первые два числа равны 0 и 1, а каждое последующее число равно сумме двух предыдущих чисел:\n",
        "\n",
        "`1, 1, 2, 3, 5, 8, 13, 21, ...`"
      ]
    },
    {
      "cell_type": "code",
      "execution_count": null,
      "id": "ff5fdce6",
      "metadata": {
        "id": "ff5fdce6"
      },
      "outputs": [],
      "source": [
        "def fibonacci(n: int) -> int:\n",
        "    if n <= 0:\n",
        "        return 0\n",
        "    elif n == 1:\n",
        "        return 1\n",
        "    else:\n",
        "        a, b = 0, 1\n",
        "        for i in range(2, n + 1):\n",
        "            a, b = b, a + b\n",
        "    return b"
      ]
    },
    {
      "cell_type": "code",
      "source": [
        "print(fibonacci(10))"
      ],
      "metadata": {
        "colab": {
          "base_uri": "https://localhost:8080/"
        },
        "id": "2XIB1Ug8KdKQ",
        "outputId": "a0a46ac6-f6ce-424b-f4d0-e2992c69ea4e"
      },
      "id": "2XIB1Ug8KdKQ",
      "execution_count": null,
      "outputs": [
        {
          "output_type": "stream",
          "name": "stdout",
          "text": [
            "55\n"
          ]
        }
      ]
    },
    {
      "cell_type": "markdown",
      "id": "ca850b40",
      "metadata": {
        "id": "ca850b40"
      },
      "source": [
        "### Задачка 8\n",
        "\n",
        "Напишите функцию, принимающую на вход два списка одинаковой длины и возвращающую список такой же длины, состоящий из суммы элементов с одинаковым индексом если эти элементы различны и 0, если эти элементы равны.\n",
        "\n",
        "Пример:\n",
        "\n",
        "```\n",
        "a = [1, 2, 3, 4, 5]\n",
        "b = [2, 1, 3, 6, 1]\n",
        "\n",
        "res = [3, 3, 0, 10, 5]\n",
        "```"
      ]
    },
    {
      "cell_type": "code",
      "execution_count": null,
      "id": "4cff32bd",
      "metadata": {
        "id": "4cff32bd"
      },
      "outputs": [],
      "source": [
        "def sum_lists2(list3: list, list4: list) -> list:\n",
        "    return [a + b if a != b else 0 for a, b in zip(list3, list4)]"
      ]
    },
    {
      "cell_type": "code",
      "source": [
        "a = [1, 2, 3, 4, 5]\n",
        "b = [2, 1, 3, 6, 1]\n",
        "sum_lists2(a, b)"
      ],
      "metadata": {
        "colab": {
          "base_uri": "https://localhost:8080/"
        },
        "id": "18KHEzWwMqyT",
        "outputId": "28cb0bb2-af14-42de-c00d-5c3f7f1bf463"
      },
      "id": "18KHEzWwMqyT",
      "execution_count": null,
      "outputs": [
        {
          "output_type": "execute_result",
          "data": {
            "text/plain": [
              "[3, 3, 0, 10, 6]"
            ]
          },
          "metadata": {},
          "execution_count": 63
        }
      ]
    },
    {
      "cell_type": "markdown",
      "id": "99ba26fe",
      "metadata": {
        "id": "99ba26fe"
      },
      "source": [
        "### Задачка 9\n",
        "\n",
        "Напишите функцию, сортируюущую список строк в алфавитном порядке, но с конца слова задом наперед (то есть сначала смотрим на последнюю букву в строке, если они одинаковые, то на предпоследнюю и т.д.)\n",
        "\n",
        "Пример:\n",
        "\n",
        "```\n",
        "a = [ab, sdsda, saae, wdsdq, ssdz]\n",
        "\n",
        "res = [sdsda, ab, saae, wdsdq, ssdz]\n",
        "```"
      ]
    },
    {
      "cell_type": "code",
      "execution_count": null,
      "id": "2a37c353",
      "metadata": {
        "id": "2a37c353"
      },
      "outputs": [],
      "source": [
        "def sorting(strings: list) -> list:\n",
        "    return sorted(strings, key=lambda x: x[::-1])"
      ]
    },
    {
      "cell_type": "code",
      "source": [
        "a = ['ab', 'sdsda', 'saae', 'wdsdq', 'ssdz']\n",
        "sorting(a)"
      ],
      "metadata": {
        "colab": {
          "base_uri": "https://localhost:8080/"
        },
        "id": "ZscLjTxlOiKu",
        "outputId": "29ae2479-c6f2-4a21-a300-34178a000c0d"
      },
      "id": "ZscLjTxlOiKu",
      "execution_count": null,
      "outputs": [
        {
          "output_type": "execute_result",
          "data": {
            "text/plain": [
              "['sdsda', 'ab', 'saae', 'wdsdq', 'ssdz']"
            ]
          },
          "metadata": {},
          "execution_count": 67
        }
      ]
    },
    {
      "cell_type": "markdown",
      "id": "b17418bc",
      "metadata": {
        "id": "b17418bc"
      },
      "source": [
        "### Задачка 10"
      ]
    },
    {
      "cell_type": "markdown",
      "id": "a8775647",
      "metadata": {
        "id": "a8775647"
      },
      "source": [
        "Напишите функцию `is_anagram()`, которая принимает на вход две строки и возвращает True, если они являются анаграмами друг друга.\n",
        "\n",
        "Пример\n",
        "\n",
        "```\n",
        ">>> is_anagram(\"manometrical\", \"commentarial\")\n",
        "\n",
        "True\n",
        "\n",
        ">>> is_anagram(\"tastes\", \"estate\")\n",
        "\n",
        "False\n",
        "\n",
        "```"
      ]
    },
    {
      "cell_type": "code",
      "execution_count": null,
      "id": "33ed7ff7",
      "metadata": {
        "id": "33ed7ff7"
      },
      "outputs": [],
      "source": [
        "def is_anagram(first: str, second: str) -> bool:\n",
        "    clean_first = first.lower().replace(' ', '')\n",
        "    clean_second = second.lower().replace(' ', '')\n",
        "    return sorted(clean_first) == sorted(clean_second)"
      ]
    },
    {
      "cell_type": "code",
      "execution_count": null,
      "id": "72c215e6",
      "metadata": {
        "id": "72c215e6",
        "colab": {
          "base_uri": "https://localhost:8080/"
        },
        "outputId": "2cf2da73-e87c-42d1-e298-6e4583b5ba45"
      },
      "outputs": [
        {
          "output_type": "execute_result",
          "data": {
            "text/plain": [
              "True"
            ]
          },
          "metadata": {},
          "execution_count": 72
        }
      ],
      "source": [
        "is_anagram(\"manometrical\", \"commentarial\")"
      ]
    }
  ],
  "metadata": {
    "kernelspec": {
      "display_name": "Python 3 (ipykernel)",
      "language": "python",
      "name": "python3"
    },
    "language_info": {
      "codemirror_mode": {
        "name": "ipython",
        "version": 3
      },
      "file_extension": ".py",
      "mimetype": "text/x-python",
      "name": "python",
      "nbconvert_exporter": "python",
      "pygments_lexer": "ipython3",
      "version": "3.10.9"
    },
    "colab": {
      "provenance": []
    }
  },
  "nbformat": 4,
  "nbformat_minor": 5
}