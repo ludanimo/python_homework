{
  "nbformat": 4,
  "nbformat_minor": 0,
  "metadata": {
    "colab": {
      "provenance": []
    },
    "kernelspec": {
      "name": "python3",
      "display_name": "Python 3"
    },
    "language_info": {
      "name": "python"
    }
  },
  "cells": [
    {
      "cell_type": "markdown",
      "source": [
        "В этой практике отрабатываем работу со структурами данных:\n",
        "\n",
        "- Списки\n",
        "- Кортежи\n",
        "- Строки\n",
        "- Множества\n",
        "- Словари\n",
        "\n",
        "А также попрактикуемся в использовании comprehensions."
      ],
      "metadata": {
        "id": "k2d5YD7djbw1"
      }
    },
    {
      "cell_type": "markdown",
      "source": [
        "### Блок 1\n",
        "\n",
        "Отрабатываем умение работать со списками и производить различные операции над ними. В данном блоке заданий старайтесь проверять решение на разных списках, с разными значениями и разной длины, чтобы убедиться, что ваша программа - универсальна.\n"
      ],
      "metadata": {
        "id": "eMeb18Bdj2RM"
      }
    },
    {
      "cell_type": "markdown",
      "source": [
        "*Задача 0 - Перевернуть список*\n",
        "\n",
        "Дан список значений. Поменяйте местами первую половину списка и вторую половину списка.\n",
        "\n",
        "Проверьте, что ваш код:\n",
        "- занимает не более трех строчек кода для одного списка (одна из которых предназначена для вывода результата на экран)\n",
        "- используйте slicing\n",
        "\n"
      ],
      "metadata": {
        "id": "BnIcDBfmyQLC"
      }
    },
    {
      "cell_type": "code",
      "source": [
        "# опробируйте на списках разной длины (попробуйте свои собственные эксперименты)\n",
        "list1 = [1, 2, 3, 4, 5, 6, 7]\n",
        "list2 = [1, 2, 3, 4]\n",
        "list_3 = [1, 2, 3, 4, 5, 6, 7, 8, 9, 10, 11, 12, 13, 14, 15, 16, 17]"
      ],
      "metadata": {
        "id": "t7wTXfAHhPpw"
      },
      "execution_count": null,
      "outputs": []
    },
    {
      "cell_type": "code",
      "source": [
        "middle1 = len(list1) // 2\n",
        "list1 = list1[middle1:] + list1[:middle1]\n",
        "print(f'результат на списке list1 = {list1}')\n",
        "\n",
        "middle2 = len(list2) // 2\n",
        "list2 = list2[middle2:] + list2[:middle2]\n",
        "print(f'результат на списке list2 = {list2}')\n",
        "\n",
        "middle_3 = len(list_3) // 2\n",
        "list_3 = list_3[middle_3:] + list_3[:middle_3]\n",
        "print(f'результат на списке list_3 = {list_3}')"
      ],
      "metadata": {
        "colab": {
          "base_uri": "https://localhost:8080/"
        },
        "id": "-ApejkqjVSg9",
        "outputId": "3dcc5eae-fff3-4891-ee4b-07ca3a01886b"
      },
      "execution_count": null,
      "outputs": [
        {
          "output_type": "stream",
          "name": "stdout",
          "text": [
            "результат на списке list1 = [4, 5, 6, 7, 1, 2, 3]\n",
            "результат на списке list2 = [3, 4, 1, 2]\n",
            "результат на списке list_3 = [9, 10, 11, 12, 13, 14, 15, 16, 17, 1, 2, 3, 4, 5, 6, 7, 8]\n"
          ]
        }
      ]
    },
    {
      "cell_type": "markdown",
      "source": [
        "*Задача 1 - Сдвиг вправо*\n",
        "\n",
        "Дан список значений. Циклически сдвиньте элементы списка вправо:\n",
        "\n",
        "- `list[0]` переходит на `list[1]`\n",
        "- `list[1]` на место `list[2]`\n",
        "- и так далее\n",
        "- последний элемент переходит на место `list[0]`\n",
        "\n",
        "Используйте slicing\n",
        "\n"
      ],
      "metadata": {
        "id": "7mN0NMc1oj46"
      }
    },
    {
      "cell_type": "code",
      "source": [
        "list2 = [1, 2, 3, 4]\n",
        "result_2 = [list2[-1]] + list2[:-1]\n",
        "print(f'результат = {result_2}')"
      ],
      "metadata": {
        "id": "p8fYppXxpZiZ",
        "colab": {
          "base_uri": "https://localhost:8080/"
        },
        "outputId": "141626a2-7b5b-4cd5-fa3b-283d552d014b"
      },
      "execution_count": null,
      "outputs": [
        {
          "output_type": "stream",
          "name": "stdout",
          "text": [
            "результат = [4, 1, 2, 3]\n"
          ]
        }
      ]
    },
    {
      "cell_type": "code",
      "source": [
        "list_a = [1, 2, 3, 4, 5, 6, 7]\n",
        "result_a = [list_a[-1]] + list_a[:-1]\n",
        "print(f'результат = {result_a}')"
      ],
      "metadata": {
        "colab": {
          "base_uri": "https://localhost:8080/"
        },
        "id": "QoR_BLJznNkp",
        "outputId": "08d19402-de63-47b0-90f8-be93fbccd184"
      },
      "execution_count": null,
      "outputs": [
        {
          "output_type": "stream",
          "name": "stdout",
          "text": [
            "результат = [7, 1, 2, 3, 4, 5, 6]\n"
          ]
        }
      ]
    },
    {
      "cell_type": "markdown",
      "source": [
        "*Задача 2 - Отрабатываем операции над списками*\n",
        "\n",
        "В переменной `result` дан список. Произведите с ним следующие действия:\n",
        "- Оставьте в нем первую половину элементов.\n",
        "- Добавьте в текущий список столько же нулей, сколько сейчас элементов в `result`\n",
        "- Предпоследний элемент сделайте равным 100\n",
        "- Посчитайте сумму элементов в данном цикле и выведите ее на экран\n",
        "\n",
        "На каждом шаге выводите промежуточный результат\n",
        "\n"
      ],
      "metadata": {
        "id": "FPx-GtT4snUo"
      }
    },
    {
      "cell_type": "code",
      "source": [
        "result = [1, 100, -100, 23, 13, 78, 89, 90, 100, 0]"
      ],
      "metadata": {
        "id": "nluOYTIpuW6w"
      },
      "execution_count": null,
      "outputs": []
    },
    {
      "cell_type": "code",
      "source": [
        "middle_result = len(result) // 2\n",
        "result = result[:middle_result]\n",
        "print(f'результат = {result}')\n",
        "\n",
        "result += len(result) * [0]\n",
        "print(f'результат = {result}')\n",
        "\n",
        "result[-2] = 100\n",
        "print(f'результат = {result}')\n",
        "\n",
        "sum = sum(result)\n",
        "print(f'ответ = {sum}')"
      ],
      "metadata": {
        "colab": {
          "base_uri": "https://localhost:8080/"
        },
        "id": "1tlta4qdogXy",
        "outputId": "cc8a23ca-df41-4397-f4ca-9927b2a38c75"
      },
      "execution_count": null,
      "outputs": [
        {
          "output_type": "stream",
          "name": "stdout",
          "text": [
            "результат = [1, 100, -100, 23, 13]\n",
            "результат = [1, 100, -100, 23, 13, 0, 0, 0, 0, 0]\n",
            "результат = [1, 100, -100, 23, 13, 0, 0, 0, 100, 0]\n",
            "ответ = 137\n"
          ]
        }
      ]
    },
    {
      "cell_type": "markdown",
      "source": [
        "*Задача 3 - Перестановка минимума и максимума*\n",
        "\n",
        "Дан список. С помощью кода найдите минимальные и максимальные элементы, переставьте их местами.\n",
        "Для нахождения индекса элемента по значению воспользуйтесь функцией индекс.\n",
        "\n"
      ],
      "metadata": {
        "id": "X5Xx7eBVwimB"
      }
    },
    {
      "cell_type": "code",
      "source": [
        "result = [1, 100, -1000, 23, 13, 78, 89, 90, 12345, 12000]\n",
        "min = result.index(min(result))\n",
        "max = result.index(max(result))\n",
        "result[min], result[max] = result[max], result[min]\n",
        "print(result)"
      ],
      "metadata": {
        "id": "0ISqI0yZxBAD",
        "colab": {
          "base_uri": "https://localhost:8080/"
        },
        "outputId": "6c09d329-0db1-49e2-83a9-de66aa1ddf86"
      },
      "execution_count": null,
      "outputs": [
        {
          "output_type": "stream",
          "name": "stdout",
          "text": [
            "[1, 100, 12345, 23, 13, 78, 89, 90, -1000, 12000]\n"
          ]
        }
      ]
    },
    {
      "cell_type": "code",
      "source": [
        "# пример использования метода index: находим индекс элемента 13\n",
        "result.index(13)"
      ],
      "metadata": {
        "colab": {
          "base_uri": "https://localhost:8080/"
        },
        "id": "kJPFKgP5x65R",
        "outputId": "5032a450-0e90-47b8-bcef-44a233c8a865"
      },
      "execution_count": null,
      "outputs": [
        {
          "output_type": "execute_result",
          "data": {
            "text/plain": [
              "4"
            ]
          },
          "metadata": {},
          "execution_count": 14
        }
      ]
    },
    {
      "cell_type": "markdown",
      "source": [
        "*Задача 4 - Соседи*\n",
        "\n",
        "Дан список. Выведите все элементы списка, которые строго больше предыдущего элемента. Для итерирования по элементам списка используйте цикл.\n",
        "\n"
      ],
      "metadata": {
        "id": "tVoPrLQljOuy"
      }
    },
    {
      "cell_type": "code",
      "source": [
        "list3 = [1, 2, 100, 99, 88, -1 , 0, 0, 10]\n",
        "\n",
        "for i in range(len(list3)):\n",
        "    if list3[i] > list3[i - 1]:\n",
        "        print(list3[i])"
      ],
      "metadata": {
        "id": "2rl-ccrOlU_c",
        "colab": {
          "base_uri": "https://localhost:8080/"
        },
        "outputId": "b1ab8adb-8390-415a-c3ef-86958d94b564"
      },
      "execution_count": null,
      "outputs": [
        {
          "output_type": "stream",
          "name": "stdout",
          "text": [
            "2\n",
            "100\n",
            "0\n",
            "10\n"
          ]
        }
      ]
    },
    {
      "cell_type": "markdown",
      "source": [
        "*Задача 5 - Найти все вхождения числа в список*\n",
        "\n",
        "Пользователь вводит последовательность чисел в одну строку через пробел. Рассчитайте, сколько из введенных чисел равно единице.\n",
        "\n"
      ],
      "metadata": {
        "id": "XB1RAMUNrbkS"
      }
    },
    {
      "cell_type": "code",
      "source": [
        "user_list = input('Введите список чисел через пробел: ').split()\n",
        "count = 0\n",
        "\n",
        "for number in user_list:\n",
        "    if number == '1':\n",
        "        count += 1\n",
        "print(f'Количество единиц равно = {count}')"
      ],
      "metadata": {
        "colab": {
          "base_uri": "https://localhost:8080/"
        },
        "id": "7cuLZEcYrGX3",
        "outputId": "f3dd4fd3-f1b8-4025-f775-cd3d0e503ef4"
      },
      "execution_count": null,
      "outputs": [
        {
          "output_type": "stream",
          "name": "stdout",
          "text": [
            "Введите список чисел через пробел: 1 3 1 3 1 3 1 3 1 3 12 12\n",
            "Количество единиц равно = 5\n"
          ]
        }
      ]
    },
    {
      "cell_type": "markdown",
      "source": [
        "*Задача 6 - Больше всех своих соседей (Дополнительная!)*\n",
        "\n",
        "Пользователь вводит последовательность чисел в одну строку через пробел. Рассчитайте, сколько из чисел строго больше двух своих соседей. Также выведите эти самые числа на экран.\n",
        "\n"
      ],
      "metadata": {
        "id": "56a13dOxmAht"
      }
    },
    {
      "cell_type": "code",
      "source": [
        "user_list = input('Введите список чисел через пробел: ').split()\n",
        "count = 0\n",
        "result_list = list()\n",
        "\n",
        "for num in range(len(user_list)):\n",
        "    if int(user_list[num]) > int(user_list[num - 1]) and int(user_list[num]) > int(user_list[num + 1]):\n",
        "        count += 1\n",
        "        result_list.append(user_list[num])\n",
        "print(f'Список чисел: {\" \".join(result_list)} Общее количество = {count}')"
      ],
      "metadata": {
        "colab": {
          "base_uri": "https://localhost:8080/"
        },
        "id": "-KlhMoo9mm31",
        "outputId": "fba37340-1aa6-4b64-e331-7da17a2b8d92"
      },
      "execution_count": null,
      "outputs": [
        {
          "output_type": "stream",
          "name": "stdout",
          "text": [
            "Введите список чисел через пробел: 1 10 9 -1 3 5 7 7 7 9 8 9 9\n",
            "Список чисел: 10 9 Общее количество = 2\n"
          ]
        }
      ]
    },
    {
      "cell_type": "markdown",
      "source": [
        "*Задача 7 - Проредить массив (Дополнительная!)*\n",
        "\n",
        "Пользователь вводит последовательность чисел в одну строку через пробел. Создайте новый список, на базе исходного, в котором переставьте все нули списка в конец, а все ненулевые элементы оставьте в начале списка в том же порядке, в каком они были изначально. Выведите результат на экран.\n",
        "\n"
      ],
      "metadata": {
        "id": "4vB_C6Pzp84V"
      }
    },
    {
      "cell_type": "code",
      "source": [
        "user_list = input('Введите список чисел через пробел: ').split()\n",
        "result_list = []\n",
        "\n",
        "for number in user_list:\n",
        "    if number != '0':\n",
        "        result_list.append(int(number))\n",
        "result_list.extend([0] * (len(user_list) - len(result_list)))\n",
        "print(f'result = {result_list}')"
      ],
      "metadata": {
        "colab": {
          "base_uri": "https://localhost:8080/"
        },
        "id": "YO_CIMgprEGz",
        "outputId": "766dcb3c-2490-4dd1-eb43-4ebf8bbd3194"
      },
      "execution_count": null,
      "outputs": [
        {
          "output_type": "stream",
          "name": "stdout",
          "text": [
            "Введите список чисел через пробел: 1 0 1 0 2 0 3 0 0 4 0 0 0\n",
            "result = [1, 1, 2, 3, 4, 0, 0, 0, 0, 0, 0, 0, 0]\n"
          ]
        }
      ]
    },
    {
      "cell_type": "markdown",
      "source": [
        "### Блок 2\n",
        "\n",
        "Отрабатываем умение работать с кортежами, множествами и словарями. В данном блоке заданий старайтесь проверять решение на разных наборах значений и разной длины, чтобы убедиться, что ваша программа - универсальна."
      ],
      "metadata": {
        "id": "qZafpq2br51j"
      }
    },
    {
      "cell_type": "markdown",
      "source": [
        "*Задача 0 - Общие элементы*\n",
        "\n",
        "Даны два списка. Найдите элементы, которые есть и в первом списке и во втором, выведите их количество на экран\n",
        "\n"
      ],
      "metadata": {
        "id": "CMa6fcuos0An"
      }
    },
    {
      "cell_type": "code",
      "source": [
        "list1 = [1, 2, 3, 'p', -1, 20, 0.2, 'u']\n",
        "list2 = [11, 22, 33, 'p', -1, 20.2, 0.2]\n",
        "copies = len(set(list1) & set(list2))\n",
        "print(copies)"
      ],
      "metadata": {
        "colab": {
          "base_uri": "https://localhost:8080/"
        },
        "id": "7-3TqHd6tBqZ",
        "outputId": "56b61c84-46ac-4d8e-d33c-d617e11f290a"
      },
      "execution_count": null,
      "outputs": [
        {
          "output_type": "stream",
          "name": "stdout",
          "text": [
            "3\n"
          ]
        }
      ]
    },
    {
      "cell_type": "markdown",
      "source": [
        "*Задача 1 - Уникальные элементы*\n",
        "\n",
        "Пользователь вводит числа на экран в одну строку через пробел. Выведите, сколько уникальных чисел было введено.\n",
        "\n"
      ],
      "metadata": {
        "id": "Wky-SIiVkRv1"
      }
    },
    {
      "cell_type": "code",
      "execution_count": null,
      "metadata": {
        "colab": {
          "base_uri": "https://localhost:8080/"
        },
        "id": "fRclUqnsjYyk",
        "outputId": "ac4b80ad-78a5-4c66-e304-b6dcce1838f0"
      },
      "outputs": [
        {
          "output_type": "stream",
          "name": "stdout",
          "text": [
            "Введите список чисел через пробел: 1 2 3 1 2 3 1 1 1\n",
            "Количество уникальных элементов = 3\n"
          ]
        }
      ],
      "source": [
        "user_list = input('Введите список чисел через пробел: ').split()\n",
        "count_unique = len(set(user_list))\n",
        "print(f'Количество уникальных элементов = {count_unique}')"
      ]
    },
    {
      "cell_type": "markdown",
      "source": [
        "*Задача 2 - Площадь*\n",
        "\n",
        "Даны списки из 2 элементов, каждый из которых является координатами точек A и B соответственно. Напишите функцию, которая ищет расстояние между этими точками. Найти расстояние между двумя точками можно по формуле Евклидова расстояния.\n",
        "\n",
        "https://ru.wikipedia.org/wiki/%D0%95%D0%B2%D0%BA%D0%BB%D0%B8%D0%B4%D0%BE%D0%B2%D0%B0_%D0%BC%D0%B5%D1%82%D1%80%D0%B8%D0%BA%D0%B0\n",
        "\n",
        "PS. Попробуйте запустить программу на разных точках с разными размерностями\n",
        "\n",
        "\n",
        "\n",
        "\n",
        "\n",
        "\n"
      ],
      "metadata": {
        "id": "48HI-niWhRhm"
      }
    },
    {
      "cell_type": "code",
      "source": [
        "#coords = [(10, 10), (10, 11)]\n",
        "coords = [(100, 20), (20, 20)]\n",
        "#coords = [(100, 91, 87), (80, 35, 70)]\n",
        "#coords = [(90, 60, 20), (80, 50, 60)]"
      ],
      "metadata": {
        "id": "s2K5kY3x5jCT"
      },
      "execution_count": null,
      "outputs": []
    },
    {
      "cell_type": "code",
      "source": [
        "a = coords[0]\n",
        "b = coords[1]\n",
        "interval = ((b[0] - a[0])**2 + (b[1] - a[1])**2)**0.5\n",
        "print(interval)"
      ],
      "metadata": {
        "colab": {
          "base_uri": "https://localhost:8080/"
        },
        "id": "0vFcWerKsXR4",
        "outputId": "e2a010cc-f3c9-4e6e-e17f-26e839d3dd73"
      },
      "execution_count": null,
      "outputs": [
        {
          "output_type": "stream",
          "name": "stdout",
          "text": [
            "80.0\n"
          ]
        }
      ]
    },
    {
      "cell_type": "code",
      "source": [
        "a = coords[0]\n",
        "b = coords[1]\n",
        "interval = ((b[0] - a[0])**2 + (b[1] - a[1])**2 + (b[2] - a[2])**2)**0.5\n",
        "print(interval)"
      ],
      "metadata": {
        "colab": {
          "base_uri": "https://localhost:8080/"
        },
        "id": "KpSGT6Ms8ZrT",
        "outputId": "30f81913-256f-424b-b710-6055c00f505f"
      },
      "execution_count": null,
      "outputs": [
        {
          "output_type": "stream",
          "name": "stdout",
          "text": [
            "61.84658438426491\n"
          ]
        }
      ]
    },
    {
      "cell_type": "code",
      "source": [
        "a = coords[0]\n",
        "b = coords[1]\n",
        "sum_of_squares = 0\n",
        "\n",
        "for i in range(len(a)):\n",
        "    different = b[i] - a[i]\n",
        "    sum_of_squares = sum_of_squares + different ** 2\n",
        "interval = sum_of_squares ** 0.5\n",
        "print(interval)"
      ],
      "metadata": {
        "colab": {
          "base_uri": "https://localhost:8080/"
        },
        "id": "3Cfa47uS9em_",
        "outputId": "f47ec2b7-ec78-4b15-e285-e07ca3cff085"
      },
      "execution_count": null,
      "outputs": [
        {
          "output_type": "stream",
          "name": "stdout",
          "text": [
            "80.0\n"
          ]
        }
      ]
    },
    {
      "cell_type": "markdown",
      "source": [
        "*Задача 3 - Количество повторений слов*\n",
        "\n",
        "В переменной `text` записан некоторый текст. Посчитайте частотность появления каждого уникального слова в тексте. Используйте для хранения частотности наиболее подходящую структуру данных.\n",
        "\n",
        "В результате выведите информацию по частотности каждого слова на экран.\n",
        "\n",
        "Словом будем считать последовательности символов, отделенную пробелом от следующей последовательности символов.\n",
        "\n",
        "\n",
        "\n",
        "\n"
      ],
      "metadata": {
        "id": "0DR8PiXZ91eA"
      }
    },
    {
      "cell_type": "code",
      "source": [
        "text = '''She sells sea shells on the sea shore \\\n",
        "The shells that she sells are sea shells I'm sure \\\n",
        "So if she sells sea shells on the sea shore \\\n",
        "I'm sure that the shells are sea shore shells'''"
      ],
      "metadata": {
        "id": "rDHxIyRupZTF"
      },
      "execution_count": null,
      "outputs": []
    },
    {
      "cell_type": "code",
      "source": [
        "words = text.split()\n",
        "dictionary = {}\n",
        "\n",
        "for word in words:\n",
        "    word = word.lower()\n",
        "    if word in dictionary:\n",
        "        dictionary[word] += 1\n",
        "    else:\n",
        "        dictionary[word] = 1\n",
        "print(dictionary)"
      ],
      "metadata": {
        "colab": {
          "base_uri": "https://localhost:8080/"
        },
        "id": "jvlHy8ey-1DU",
        "outputId": "9fa9715d-7857-4491-d7ed-8770d678f730"
      },
      "execution_count": null,
      "outputs": [
        {
          "output_type": "stream",
          "name": "stdout",
          "text": [
            "{'she': 3, 'sells': 3, 'sea': 6, 'shells': 6, 'on': 2, 'the': 4, 'shore': 3, 'that': 2, 'are': 2, \"i'm\": 2, 'sure': 2, 'so': 1, 'if': 1}\n"
          ]
        }
      ]
    },
    {
      "cell_type": "markdown",
      "source": [
        "*Задача 4 - Средний балл*\n",
        "\n",
        "В переменной `grades` записаны оценки учеников за экзамен по физике в разных классах одной параллели. Рассчитайте средний балл по каждому классу, и средний балл по параллели целиком. Выведите результаты на экран, округлив все значения с точностью до 2 знаков.\n",
        "\n",
        "\n",
        "\n",
        "\n"
      ],
      "metadata": {
        "id": "hYwTq9vvALRT"
      }
    },
    {
      "cell_type": "code",
      "source": [
        "grades = {\n",
        "    '11A': [4, 5, 4, 5, 4, 5, 5, 5, 5, 5, 5, 3],\n",
        "    '11B': [3, 5, 3, 4, 4, 5, 4, 5, 4, 5, 5, 5],\n",
        "    '11C': [3, 3, 4, 4, 4, 5, 5, 5, 5, 5,],\n",
        "    '11D': [4, 4, 4, 5, 4, 5, 5, 5, 4, 4, 4, 4],\n",
        "    '11E': [3, 3, 3, 4, 4, 4, 5, 5, 5, 5, 5, 4, 3]\n",
        "}"
      ],
      "metadata": {
        "id": "igEAnwZU_FZ9"
      },
      "execution_count": null,
      "outputs": []
    },
    {
      "cell_type": "code",
      "source": [
        "class_averages = {}\n",
        "all_grades = 0\n",
        "sum_grades = 0\n",
        "\n",
        "for class_name, class_grades in grades.items():\n",
        "    average = sum(class_grades) / len(class_grades)\n",
        "    class_averages[class_name] = average\n",
        "    sum_grades += sum(class_grades)\n",
        "    all_grades += len(class_grades)\n",
        "for class_name, average in class_averages.items():\n",
        "    print(f'средний балл {class_name} = {average:.2f}')\n",
        "\n",
        "GPA = sum_grades / all_grades\n",
        "print(f'средний балл параллели = {GPA:.2f}')"
      ],
      "metadata": {
        "colab": {
          "base_uri": "https://localhost:8080/"
        },
        "id": "t75B6LM4S_KB",
        "outputId": "cf84afc6-cc87-4472-9805-b82709dfe552"
      },
      "execution_count": null,
      "outputs": [
        {
          "output_type": "stream",
          "name": "stdout",
          "text": [
            "средний балл 11A = 4.58\n",
            "средний балл 11B = 4.33\n",
            "средний балл 11C = 4.30\n",
            "средний балл 11D = 4.33\n",
            "средний балл 11E = 4.08\n",
            "средний балл параллели = 4.32\n"
          ]
        }
      ]
    },
    {
      "cell_type": "code",
      "source": [],
      "metadata": {
        "colab": {
          "base_uri": "https://localhost:8080/"
        },
        "id": "x-xjF0BLBXMG",
        "outputId": "22859865-d881-4c1e-a43c-4c78ef39a973"
      },
      "execution_count": null,
      "outputs": [
        {
          "output_type": "stream",
          "name": "stdout",
          "text": [
            "средний балл 11A = 4.58\n",
            "средний балл 11B = 4.33\n",
            "средний балл 11C = 4.42\n",
            "средний балл 11D = 4.33\n",
            "средний балл 11E = 4.17\n",
            "средний балл параллели = 4.37\n"
          ]
        }
      ]
    },
    {
      "cell_type": "markdown",
      "source": [
        "*Задача 5 - Проверка на новизну*\n",
        "\n",
        "Пользователь вводит числа на экран в строку через пробел. Для каждого числа выведите `y` или `n`. `y` - если данное число до этого встречалось в списке, `n` - если нет.\n",
        "\n",
        "\n",
        "\n",
        "\n"
      ],
      "metadata": {
        "id": "6XCnZNmRDB1u"
      }
    },
    {
      "cell_type": "code",
      "source": [
        "user_list = input().split()\n",
        "result = list()\n",
        "unique_set = set()\n",
        "\n",
        "for numeric in user_list:\n",
        "    if numeric in unique_set:\n",
        "        result.append('y')\n",
        "    else:\n",
        "        result.append('n')\n",
        "        unique_set.add(numeric)\n",
        "print(' '.join(result))"
      ],
      "metadata": {
        "colab": {
          "base_uri": "https://localhost:8080/"
        },
        "id": "2TQtVMAtIyeA",
        "outputId": "99b27862-7025-4434-b8b6-76494aece244"
      },
      "execution_count": null,
      "outputs": [
        {
          "output_type": "stream",
          "name": "stdout",
          "text": [
            "1 2 3 1 2 3 3 3 3 3 3 1 2 5 6 9 4 5 4 8 9 5 3 2 3 1 2 7 \n",
            "n n n y y y y y y y y y y n n n n y y n y y y y y y y n\n"
          ]
        }
      ]
    },
    {
      "cell_type": "code",
      "source": [],
      "metadata": {
        "colab": {
          "base_uri": "https://localhost:8080/"
        },
        "id": "J5m7PKXiB8Xh",
        "outputId": "1638c1e6-64a3-4adf-a16d-07f98643fc28"
      },
      "execution_count": null,
      "outputs": [
        {
          "output_type": "stream",
          "name": "stdout",
          "text": [
            "1 2 3 1 2 3 3 3 3 3 3 10\n",
            "n n n y y y y y y y y n "
          ]
        }
      ]
    },
    {
      "cell_type": "markdown",
      "source": [
        "*Задача 6 - Значения роста* (Дополнительная!)\n",
        "\n",
        "В словаре `students` хранится рост студентов, измеренный на первом занятии физкультуры.\n",
        "Приходит новый студент, через строку ввода он указывает свои ФИО и рост. Запишите его данные в словарь, и выявите, какой по очереди он будет стоять в шеренге, отсортированной по убыванию роста (расчет в шеренге начинается единицы). Если у двух студентов рост одинаковый, наш студент будет стоять последним.\n",
        "\n",
        "\n",
        "\n",
        "\n",
        "\n"
      ],
      "metadata": {
        "id": "zsRpDR6eJmj6"
      }
    },
    {
      "cell_type": "code",
      "source": [
        "students = {\n",
        "    'ИвановИИ': 170,\n",
        "    'ЖдановИЮ': 183,\n",
        "    'ИвановаАА': 168,\n",
        "    'МаркинаГА': 169,\n",
        "    'ПетроваАВ': 172,\n",
        "    'ПотаповЮР': 175,\n",
        "    'ЛарионовСБ': 177\n",
        "}"
      ],
      "metadata": {
        "id": "mzEZbKmlEXkt"
      },
      "execution_count": null,
      "outputs": []
    },
    {
      "cell_type": "code",
      "source": [
        "new_student = input('Введите ФИО: ')\n",
        "height = int(input('Введите рост: '))\n",
        "students[new_student] = height\n",
        "sorted = list(students.keys())\n",
        "\n",
        "for a in range(len(sorted)):\n",
        "    for b in range(a, len(sorted)):\n",
        "        if students[sorted[a]] < students[sorted[b]]:\n",
        "            sorted[a], sorted[b] = sorted[b], sorted[a]\n",
        "\n",
        "line = 0\n",
        "for student in sorted:\n",
        "    if students[student] >= height:\n",
        "        line += 1\n",
        "print(f'номер в шеренге = {line}')"
      ],
      "metadata": {
        "colab": {
          "base_uri": "https://localhost:8080/"
        },
        "id": "SdX8Nfwrgkgu",
        "outputId": "40dff895-dba0-4060-bd3b-62eac98e0a62"
      },
      "execution_count": null,
      "outputs": [
        {
          "output_type": "stream",
          "name": "stdout",
          "text": [
            "Введите ФИО: ПавловВА\n",
            "Введите рост: 168\n",
            "номер в шеренге = 8\n"
          ]
        }
      ]
    },
    {
      "cell_type": "code",
      "source": [],
      "metadata": {
        "colab": {
          "base_uri": "https://localhost:8080/"
        },
        "id": "5FjaQFS1W9VO",
        "outputId": "beb1b3fd-47b4-4408-bfe1-8a46be511e9d"
      },
      "execution_count": null,
      "outputs": [
        {
          "output_type": "stream",
          "name": "stdout",
          "text": [
            "Введите ФИО Потапов\n",
            "Введите рост 190\n",
            "номер в шеренге =1\n"
          ]
        }
      ]
    },
    {
      "cell_type": "markdown",
      "source": [
        "### Блок 3\n",
        "\n",
        "В этом блоке отрабатываем умение пользоваться list/dict comprehensions, а также функцию zip.\n",
        "\n",
        "11 пункт - дополнительный"
      ],
      "metadata": {
        "id": "UYAqME81K5bY"
      }
    },
    {
      "cell_type": "markdown",
      "source": [
        "*Задача 0 - Отрабатываем умение писать генераторы*\n",
        "\n",
        "Определите генераторы, по описанию в комментариях. Выведите результат генерации на экран\n",
        "\n"
      ],
      "metadata": {
        "id": "UnMeB573LjwN"
      }
    },
    {
      "cell_type": "code",
      "source": [
        "# 1. сгенерируйте список строк: user1, user2, user3 итд до user15\n",
        "user_list = [f'user{i}' for i in range(1, 16)]\n",
        "user_list"
      ],
      "metadata": {
        "colab": {
          "base_uri": "https://localhost:8080/"
        },
        "id": "Zav1H8kjPJ0Q",
        "outputId": "a3dbab3f-14c6-41a7-97bd-259f6676adf2"
      },
      "execution_count": null,
      "outputs": [
        {
          "output_type": "execute_result",
          "data": {
            "text/plain": [
              "['user1',\n",
              " 'user2',\n",
              " 'user3',\n",
              " 'user4',\n",
              " 'user5',\n",
              " 'user6',\n",
              " 'user7',\n",
              " 'user8',\n",
              " 'user9',\n",
              " 'user10',\n",
              " 'user11',\n",
              " 'user12',\n",
              " 'user13',\n",
              " 'user14',\n",
              " 'user15']"
            ]
          },
          "metadata": {},
          "execution_count": 16
        }
      ]
    },
    {
      "cell_type": "code",
      "source": [
        "# 2. сгенерируйте список из 10 случайных значений от -10 до 10\n",
        "import random\n",
        "\n",
        "random_list = [random.randint(-10, 10) for i in range(10)]\n",
        "print(random_list)"
      ],
      "metadata": {
        "colab": {
          "base_uri": "https://localhost:8080/"
        },
        "id": "r3t-pHELSYYD",
        "outputId": "cccb47ff-7ae6-49a2-9e5f-5d14a9b3c575"
      },
      "execution_count": null,
      "outputs": [
        {
          "output_type": "stream",
          "name": "stdout",
          "text": [
            "[8, -5, -9, 7, 4, -5, 7, 10, -4, -9]\n"
          ]
        }
      ]
    },
    {
      "cell_type": "code",
      "source": [
        "# 3. сгенерируйте список из квадратных корней всех чисел от 16 до 25 включительно. Округлите все значения до двух знаков после запятой\n",
        "square_list = [round((i ** 0.5), 2) for i in range(16, 26)]\n",
        "print(square_list)"
      ],
      "metadata": {
        "colab": {
          "base_uri": "https://localhost:8080/"
        },
        "id": "6EUFvximNPcB",
        "outputId": "ffc81a7c-62e2-4274-dcde-e501789fa39a"
      },
      "execution_count": null,
      "outputs": [
        {
          "output_type": "stream",
          "name": "stdout",
          "text": [
            "[4.0, 4.12, 4.24, 4.36, 4.47, 4.58, 4.69, 4.8, 4.9, 5.0]\n"
          ]
        }
      ]
    },
    {
      "cell_type": "code",
      "source": [
        "# 4. сгенерируйте список из четных числа от 40 до 60 включительно без использования if\n",
        "even_numbers = [number for number in range(40, 61, 2)]\n",
        "print(even_numbers)"
      ],
      "metadata": {
        "colab": {
          "base_uri": "https://localhost:8080/"
        },
        "id": "LLCXlpiXLMk0",
        "outputId": "837e6be3-bae0-45b7-ae46-4097484df238"
      },
      "execution_count": null,
      "outputs": [
        {
          "output_type": "stream",
          "name": "stdout",
          "text": [
            "[40, 42, 44, 46, 48, 50, 52, 54, 56, 58, 60]\n"
          ]
        }
      ]
    },
    {
      "cell_type": "code",
      "source": [
        "# 5. в предыдущем генераторе добавьте условие: если число делится на 6 - его не включать в список значений\n",
        "even_numbers = [number for number in range(40, 61, 2) if number % 6 != 0]\n",
        "print(even_numbers)"
      ],
      "metadata": {
        "colab": {
          "base_uri": "https://localhost:8080/"
        },
        "id": "YztczXNtMJwL",
        "outputId": "5c0a1930-d8b7-4cb7-d64b-b022f68ad47e"
      },
      "execution_count": null,
      "outputs": [
        {
          "output_type": "stream",
          "name": "stdout",
          "text": [
            "[40, 44, 46, 50, 52, 56, 58]\n"
          ]
        }
      ]
    },
    {
      "cell_type": "code",
      "source": [
        "# 6. сгенерируйте список из четных числа от 40 до 60 включительно. Если какое то из четных чисел делится на 6 - вместо него поставьте символ 'Y'\n",
        "even_numbers = ['Y' if number % 6 == 0 else number for number in range(40, 61, 2)]\n",
        "print(even_numbers)"
      ],
      "metadata": {
        "colab": {
          "base_uri": "https://localhost:8080/"
        },
        "id": "06j2ev47Oifd",
        "outputId": "c16b1eb9-34fc-4529-b218-467a179549c0"
      },
      "execution_count": null,
      "outputs": [
        {
          "output_type": "stream",
          "name": "stdout",
          "text": [
            "[40, 'Y', 44, 46, 'Y', 50, 52, 'Y', 56, 58, 'Y']\n"
          ]
        }
      ]
    },
    {
      "cell_type": "code",
      "source": [
        "# 7. сгенерируйте словарь, в котором ключи это значения из списка list1, а значения - это коичество символов в названии ключа\n",
        "list1 = ['yellow', 'green', 'blue', 'red', 'pink', 'deep-blue', 'white']\n",
        "letters_of_color = {color: len(color) for color in list1}\n",
        "letters_of_color"
      ],
      "metadata": {
        "colab": {
          "base_uri": "https://localhost:8080/"
        },
        "id": "mJlNikBpO6TS",
        "outputId": "557162f7-1f9c-4c3e-e3d0-9738273c0930"
      },
      "execution_count": null,
      "outputs": [
        {
          "output_type": "execute_result",
          "data": {
            "text/plain": [
              "{'yellow': 6,\n",
              " 'green': 5,\n",
              " 'blue': 4,\n",
              " 'red': 3,\n",
              " 'pink': 4,\n",
              " 'deep-blue': 9,\n",
              " 'white': 5}"
            ]
          },
          "metadata": {},
          "execution_count": 31
        }
      ]
    },
    {
      "cell_type": "code",
      "source": [
        "# 8. сгенерируйте словарь, в котором ключи это значения из списка, полученного в пункте 1, а значения из пункта 3\n",
        "dictionary = {user: square for user, square in zip(user_list, square_list)}\n",
        "dictionary"
      ],
      "metadata": {
        "colab": {
          "base_uri": "https://localhost:8080/"
        },
        "id": "RimXeAv4QAlW",
        "outputId": "5e1af93c-694d-4ad4-c1fb-212592c4fba4"
      },
      "execution_count": null,
      "outputs": [
        {
          "output_type": "execute_result",
          "data": {
            "text/plain": [
              "{'user1': 4.0,\n",
              " 'user2': 4.12,\n",
              " 'user3': 4.24,\n",
              " 'user4': 4.36,\n",
              " 'user5': 4.47,\n",
              " 'user6': 4.58,\n",
              " 'user7': 4.69,\n",
              " 'user8': 4.8,\n",
              " 'user9': 4.9,\n",
              " 'user10': 5.0}"
            ]
          },
          "metadata": {},
          "execution_count": 32
        }
      ]
    },
    {
      "cell_type": "code",
      "source": [
        "# 9. дополните предыдущий пункт условием так, чтобы оставить только тех пользователей, у которых в значении не целое число\n",
        "filter_dictionary = {user: square for user, square in dictionary.items() if square != int(square)}\n",
        "filter_dictionary"
      ],
      "metadata": {
        "colab": {
          "base_uri": "https://localhost:8080/"
        },
        "id": "cTnVuGoJQpDu",
        "outputId": "7219da92-19b8-48dc-c3e1-0cbae8a278fc"
      },
      "execution_count": null,
      "outputs": [
        {
          "output_type": "execute_result",
          "data": {
            "text/plain": [
              "{'user2': 4.12,\n",
              " 'user3': 4.24,\n",
              " 'user4': 4.36,\n",
              " 'user5': 4.47,\n",
              " 'user6': 4.58,\n",
              " 'user7': 4.69,\n",
              " 'user8': 4.8,\n",
              " 'user9': 4.9}"
            ]
          },
          "metadata": {},
          "execution_count": 34
        }
      ]
    },
    {
      "cell_type": "code",
      "source": [
        "# 10. дополните пункт 8 так, чтобы для всех пользователей из сгенерированных в пункте 1 создалась пара в итоговом словаре\n",
        "import itertools\n",
        "\n",
        "extended_dictionary = {user: value for user, value in itertools.zip_longest(user_list, square_list)}\n",
        "extended_dictionary"
      ],
      "metadata": {
        "colab": {
          "base_uri": "https://localhost:8080/"
        },
        "id": "45R7RTT-Q3ze",
        "outputId": "c7698c3b-6d6f-47bb-a62a-ee05babd693c"
      },
      "execution_count": null,
      "outputs": [
        {
          "output_type": "execute_result",
          "data": {
            "text/plain": [
              "{'user1': 4.0,\n",
              " 'user2': 4.12,\n",
              " 'user3': 4.24,\n",
              " 'user4': 4.36,\n",
              " 'user5': 4.47,\n",
              " 'user6': 4.58,\n",
              " 'user7': 4.69,\n",
              " 'user8': 4.8,\n",
              " 'user9': 4.9,\n",
              " 'user10': 5.0,\n",
              " 'user11': None,\n",
              " 'user12': None,\n",
              " 'user13': None,\n",
              " 'user14': None,\n",
              " 'user15': None}"
            ]
          },
          "metadata": {},
          "execution_count": 36
        }
      ]
    },
    {
      "cell_type": "code",
      "source": [
        "# 11. пользователь на экран в строку пишет значения для словаря в формате: коля:9 леша:10 ира:12 (Дополнительная!!!)\n",
        "# распарсите эти значения в словарь с помощью одной строчки кода\n",
        "user_dictionary = input().split()\n",
        "parse = {kids.split(':')[0]: kids.split(':')[1] for kids in user_dictionary}\n",
        "print(parse)"
      ],
      "metadata": {
        "colab": {
          "base_uri": "https://localhost:8080/"
        },
        "id": "HKswT_TcVCJM",
        "outputId": "29595e42-3e18-40de-bab0-c4d08fe79c12"
      },
      "execution_count": null,
      "outputs": [
        {
          "output_type": "stream",
          "name": "stdout",
          "text": [
            "коля:9 леша:10 ира:12\n",
            "{'коля': '9', 'леша': '10', 'ира': '12'}\n"
          ]
        }
      ]
    }
  ]
}