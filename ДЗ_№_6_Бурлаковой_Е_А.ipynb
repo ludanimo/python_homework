{
  "cells": [
    {
      "cell_type": "markdown",
      "id": "7bfdd176",
      "metadata": {
        "id": "7bfdd176"
      },
      "source": [
        "### 1. Классы"
      ]
    },
    {
      "cell_type": "code",
      "execution_count": null,
      "id": "a71cf78c",
      "metadata": {
        "id": "a71cf78c"
      },
      "outputs": [],
      "source": [
        "class MyClass:\n",
        "    \"\"\" Docstring for MyClass. \"\"\"\n",
        "\n",
        "    GRAVITY: int = 9.81          # Переменная класса\n",
        "\n",
        "    def __init__(self, x: int):  # Магический метод __init__() инициализирует состояния инстанса (экземпляра, объекта) self\n",
        "        self.x = x               # Переменная (свойство, атрибут) инстанса self\n",
        "        self.y = None            # Переменная (свойство, атрибут) инстанса self\n",
        "\n",
        "    def foo(self) -> None:       # Метод класса\n",
        "        self.x += 1              # Обновление переменной экземпляра self\n",
        "\n",
        "    @staticmethod                # Статический метод класса -> Не передаем экземпляр self\n",
        "    def bar() -> str:\n",
        "        return \"bar\"\n",
        "\n",
        "    @classmethod                 # Класс-метод класса -> вместо инстанса self передается класс cls\n",
        "    def baz(cls) -> str:\n",
        "        return cls.__name__"
      ]
    },
    {
      "cell_type": "markdown",
      "id": "e1e15953",
      "metadata": {
        "id": "e1e15953"
      },
      "source": [
        "Напишем простой класс `Dog` с атрибутами `name` и `age` и методом `bark`, который выводит `Гав` на экран."
      ]
    },
    {
      "cell_type": "code",
      "execution_count": null,
      "id": "67be9e12",
      "metadata": {
        "id": "67be9e12"
      },
      "outputs": [],
      "source": [
        "class Dog:\n",
        "    def __init__(self, name, age):\n",
        "        self.name = name\n",
        "        self.age = age\n",
        "\n",
        "    def bark(self):\n",
        "        print(\"Гав!\")"
      ]
    },
    {
      "cell_type": "markdown",
      "id": "c67b3dd7",
      "metadata": {
        "id": "c67b3dd7"
      },
      "source": [
        "Чтобы создать объект класса, нужно вызвать класс с помощью скобок и передать необходимые аргументы:"
      ]
    },
    {
      "cell_type": "code",
      "execution_count": null,
      "id": "39d789bc",
      "metadata": {
        "id": "39d789bc"
      },
      "outputs": [],
      "source": [
        "my_dog = Dog(\"Шарик\", 3)"
      ]
    },
    {
      "cell_type": "markdown",
      "id": "a12b858d",
      "metadata": {
        "id": "a12b858d"
      },
      "source": [
        "Теперь у нас есть экземпляр класса my_dog, у которого имя \"Шарик\" и возраст 3. Мы можем обратиться к свойствам и методам объекта, используя оператор точки:"
      ]
    },
    {
      "cell_type": "code",
      "execution_count": null,
      "id": "a2eba4fa",
      "metadata": {
        "id": "a2eba4fa",
        "colab": {
          "base_uri": "https://localhost:8080/"
        },
        "outputId": "6db71918-5e5f-4755-b093-de30b09e34ff"
      },
      "outputs": [
        {
          "output_type": "stream",
          "name": "stdout",
          "text": [
            "Шарик\n",
            "Гав!\n"
          ]
        }
      ],
      "source": [
        "print(my_dog.name)\n",
        "my_dog.bark()\n"
      ]
    },
    {
      "cell_type": "markdown",
      "id": "0c016833",
      "metadata": {
        "id": "0c016833"
      },
      "source": [
        "### 2.Наследование"
      ]
    },
    {
      "cell_type": "code",
      "execution_count": null,
      "id": "71b466dc",
      "metadata": {
        "id": "71b466dc"
      },
      "outputs": [],
      "source": [
        "class Shape:\n",
        "    def __init__(self, color=\"red\"):\n",
        "        self.color = color\n",
        "\n",
        "    def get_color(self) -> str:\n",
        "        return self.color\n",
        "\n",
        "    def set_color(self, color) -> None:\n",
        "        self.color = color"
      ]
    },
    {
      "cell_type": "code",
      "execution_count": null,
      "id": "70f59b9e",
      "metadata": {
        "id": "70f59b9e"
      },
      "outputs": [],
      "source": [
        "class Circle(Shape):\n",
        "    PI = 3.14\n",
        "    def __init__(self, color, radius):\n",
        "        super().__init__(color)\n",
        "        self.radius = radius\n",
        "\n",
        "    def get_area(self) -> float:\n",
        "        return self.PI * self.radius ** 2"
      ]
    },
    {
      "cell_type": "code",
      "execution_count": null,
      "id": "98278289",
      "metadata": {
        "id": "98278289",
        "colab": {
          "base_uri": "https://localhost:8080/"
        },
        "outputId": "c2a74c85-0263-4caf-f6d9-61fd0ac3f171"
      },
      "outputs": [
        {
          "output_type": "stream",
          "name": "stdout",
          "text": [
            "red\n"
          ]
        }
      ],
      "source": [
        "my_shape = Shape(\"red\")\n",
        "print(my_shape.get_color())"
      ]
    },
    {
      "cell_type": "code",
      "execution_count": null,
      "id": "fd3f0ee7",
      "metadata": {
        "id": "fd3f0ee7",
        "colab": {
          "base_uri": "https://localhost:8080/"
        },
        "outputId": "acb3d328-7faf-4dde-e244-a3eb671166c1"
      },
      "outputs": [
        {
          "output_type": "stream",
          "name": "stdout",
          "text": [
            "blue\n"
          ]
        }
      ],
      "source": [
        "my_shape.set_color(\"blue\")\n",
        "print(my_shape.get_color())"
      ]
    },
    {
      "cell_type": "code",
      "execution_count": null,
      "id": "77a01614",
      "metadata": {
        "id": "77a01614",
        "colab": {
          "base_uri": "https://localhost:8080/"
        },
        "outputId": "11160c27-715f-4782-f187-c5f3a4d097d2"
      },
      "outputs": [
        {
          "output_type": "stream",
          "name": "stdout",
          "text": [
            "green\n",
            "78.5\n"
          ]
        }
      ],
      "source": [
        "my_circle = Circle(\"green\", 5)\n",
        "print(my_circle.get_color())\n",
        "print(my_circle.get_area())\n"
      ]
    },
    {
      "cell_type": "code",
      "execution_count": null,
      "id": "6ad3d42b",
      "metadata": {
        "id": "6ad3d42b",
        "colab": {
          "base_uri": "https://localhost:8080/"
        },
        "outputId": "db50ddfa-0c6b-42dc-f4a7-589d331ae31c"
      },
      "outputs": [
        {
          "output_type": "stream",
          "name": "stdout",
          "text": [
            "called dad\n",
            "called mom\n",
            "Dad sings well\n",
            "Mom codes well\n",
            "Kid loves to play\n"
          ]
        },
        {
          "output_type": "execute_result",
          "data": {
            "text/plain": [
              "('brown', 'green')"
            ]
          },
          "metadata": {},
          "execution_count": 36
        }
      ],
      "source": [
        "# creating class for father\n",
        "class Dad:\n",
        "    def __init__(self, hair=\"brown\"):\n",
        "        print('called dad')\n",
        "        self.hair = hair\n",
        "        super().__init__()\n",
        "\n",
        "\n",
        "    def singing(self):\n",
        "        print(\"Dad sings well\")\n",
        "\n",
        "# creating a class for mother\n",
        "class Mom:\n",
        "    def __init__(self, eyes=\"green\"):\n",
        "        print('called mom')\n",
        "        self.eyes = eyes\n",
        "        super().__init__()\n",
        "\n",
        "    def coding(self):\n",
        "        print(\"Mom codes well\")\n",
        "\n",
        "# creating child class\n",
        "class Child(Dad, Mom):\n",
        "    def __init__(self):\n",
        "        super().__init__()\n",
        "\n",
        "    def play(self):\n",
        "        print(\"Kid loves to play\")\n",
        "\n",
        "# creating object of the new child class\n",
        "child = Child()\n",
        "\n",
        "# calling methods of parent classes and derived class\n",
        "child.singing()\n",
        "child.coding()\n",
        "child.play()\n",
        "child.hair, child.eyes"
      ]
    },
    {
      "cell_type": "markdown",
      "id": "64cdcb3b",
      "metadata": {
        "id": "64cdcb3b"
      },
      "source": [
        "### Пример.\n",
        "\n",
        "Покажем, как с помощью классов хранить и обрабатывать данные."
      ]
    },
    {
      "cell_type": "code",
      "execution_count": null,
      "id": "8bacdc10",
      "metadata": {
        "id": "8bacdc10"
      },
      "outputs": [],
      "source": [
        "class Book:\n",
        "    def __init__(self, title, author, year):\n",
        "        self.title = title\n",
        "        self.author = author\n",
        "        self.year = year\n",
        "        self.status = \"available\"\n",
        "\n",
        "    def take(self):\n",
        "        if self.status == \"available\":\n",
        "            self.status = \"taken\"\n",
        "            print(f\"{self.title} by {self.author} is now taken.\")\n",
        "        else:\n",
        "            print(f\"Sorry, {self.title} by {self.author} is already taken.\")\n",
        "\n",
        "    def return_book(self):\n",
        "        if self.status == \"taken\":\n",
        "            self.status = \"available\"\n",
        "            print(f\"Thank you for returning {self.title} by {self.author}.\")\n",
        "        else:\n",
        "            print(f\"{self.title} by {self.author} is not taken, cannot be returned.\")\n",
        "\n",
        "    def __str__(self):\n",
        "        return f\"{self.title} by {self.author}, {self.year}\""
      ]
    },
    {
      "cell_type": "code",
      "execution_count": null,
      "id": "60e98bbc",
      "metadata": {
        "id": "60e98bbc"
      },
      "outputs": [],
      "source": [
        "book1 = Book(\"The Lord of the Rings\", \"J.R.R. Tolkien\", 1954)\n",
        "book2 = Book(\"To Kill a Mockingbird\", \"Harper Lee\", 1960)\n",
        "\n",
        "book1.take()"
      ]
    },
    {
      "cell_type": "code",
      "execution_count": null,
      "id": "4197eee6",
      "metadata": {
        "id": "4197eee6"
      },
      "outputs": [],
      "source": [
        "book1.take()"
      ]
    },
    {
      "cell_type": "code",
      "execution_count": null,
      "id": "ec22efce",
      "metadata": {
        "id": "ec22efce"
      },
      "outputs": [],
      "source": [
        "book1.return_book()"
      ]
    },
    {
      "cell_type": "code",
      "execution_count": null,
      "id": "0877d1df",
      "metadata": {
        "id": "0877d1df"
      },
      "outputs": [],
      "source": [
        "print(book1)\n",
        "print(book2)"
      ]
    },
    {
      "cell_type": "markdown",
      "id": "814a35b3",
      "metadata": {
        "id": "814a35b3"
      },
      "source": [
        "### Задание 1.\n",
        "\n",
        "Создайте класс `Animal`, который будет иметь атрибуты `name` и метод `greet`, печатающий строку `f\"Hello, my name is {self.name}!\"`.\n",
        "\n",
        "Создайте класс `Cat` и отнаследуйте его от  `Animal`. В классе `Cat` должен быть аттрибут `breed`(порода) с дефолтным значением `None`, так же реализуйте метод `meow`, печатающий `f\"Meow, I am {self.name}. My breed is {self.breed}\"`.\n"
      ]
    },
    {
      "cell_type": "code",
      "execution_count": null,
      "id": "c9a98c1f",
      "metadata": {
        "id": "c9a98c1f"
      },
      "outputs": [],
      "source": [
        "class Animal:\n",
        "    def __init__(self, name):\n",
        "        self.name = name\n",
        "\n",
        "    def greet(self):\n",
        "        print(f\"Hello, my name is {self.name}!\")\n",
        "\n",
        "class Cat(Animal):\n",
        "    def __init__(self, name, breed=None):\n",
        "        super().__init__(name)\n",
        "        self.breed = breed\n",
        "\n",
        "    def meow(self):\n",
        "        print(f\"Meow, I am {self.name}. My breed is {self.breed}\")"
      ]
    },
    {
      "cell_type": "code",
      "execution_count": null,
      "id": "95ed73a9",
      "metadata": {
        "id": "95ed73a9",
        "colab": {
          "base_uri": "https://localhost:8080/"
        },
        "outputId": "0516ce4f-ad62-4cb4-c928-4901655461c6"
      },
      "outputs": [
        {
          "output_type": "stream",
          "name": "stdout",
          "text": [
            "Hello, my name is Barsik!\n",
            "Meow, I am Barsik. My breed is brittish shorthaired\n"
          ]
        }
      ],
      "source": [
        "barsik = Cat(\"Barsik\", \"brittish shorthaired\")\n",
        "barsik.greet()\n",
        "barsik.meow()"
      ]
    },
    {
      "cell_type": "markdown",
      "id": "096b2fe5",
      "metadata": {
        "id": "096b2fe5"
      },
      "source": [
        "### Задание 2."
      ]
    },
    {
      "cell_type": "markdown",
      "id": "4800bcb8",
      "metadata": {
        "id": "4800bcb8"
      },
      "source": [
        "Создайте класс `BankAccount`, который будет иметь свойства\n",
        "- `balance` (баланс на счете)\n",
        "- `account_holder` (имя владельца)\n",
        "- `account_number` (номер счета),\n",
        "\n",
        "а также методы  \n",
        "- внесения средств `deposit()` принимает на вход сумму, которая вносится на счет, обновляет баланс и печатает сообщение о том, сколько денег внесено.\n",
        "- снятия денег со счета `witdraw()` принимает на вход сумму, которую нужно списать со счет и списывает ее в случае, если на счету достаточно денег. И выводит сообщение об успешном снятии. Если денег не хватает, то он должен вывести сообщение о нехватке средств.\n",
        "- `get_balance()` выводит сообщение о текущем балансе.\n",
        "- Также переопределите магический метод `__str__` так, чтобы он возвращал строку, содержащую имя владельца и номер счета."
      ]
    },
    {
      "cell_type": "code",
      "execution_count": null,
      "id": "a082030c",
      "metadata": {
        "id": "a082030c"
      },
      "outputs": [],
      "source": [
        "class BankAccount:\n",
        "    def __init__(self, account_holder, account_number, balance=0):\n",
        "        self.account_number = account_number\n",
        "        self.account_holder = account_holder\n",
        "        self.balance = balance\n",
        "\n",
        "    def deposit(self, amount):\n",
        "        self.balance += amount\n",
        "        print(f\"Deposited {amount}.\")\n",
        "\n",
        "    def withdraw(self, amount):\n",
        "        if self.balance >= amount:\n",
        "            self.balance -= amount\n",
        "            print(f\"Withdrawn {amount}.\")\n",
        "        else:\n",
        "            print(\"Insufficient funds!\")\n",
        "\n",
        "    def get_balance(self):\n",
        "        print(f\"Current balance is {self.balance}\")\n",
        "\n",
        "    def __str__(self):\n",
        "        return f\"Account holder: {self.account_holder}, Account number: {self.account_number}\""
      ]
    },
    {
      "cell_type": "markdown",
      "id": "5988d9a2",
      "metadata": {
        "id": "5988d9a2"
      },
      "source": [
        "Для проверки создайте счет и проделайте операции по внесению и снятию денег со счета:"
      ]
    },
    {
      "cell_type": "code",
      "execution_count": null,
      "id": "f1400fa5",
      "metadata": {
        "id": "f1400fa5",
        "colab": {
          "base_uri": "https://localhost:8080/"
        },
        "outputId": "00867731-76d1-4950-8880-bbb9d33e228c"
      },
      "outputs": [
        {
          "output_type": "stream",
          "name": "stdout",
          "text": [
            "Deposited 1000.\n",
            "Current balance is 1000\n",
            "Withdrawn 500.\n",
            "Current balance is 500\n",
            "Insufficient funds!\n"
          ]
        }
      ],
      "source": [
        "account = BankAccount(\"Ivan Ivanov\", \"123456\")\n",
        "account.deposit(1000)  # выведет \"Deposited 1000.\"\n",
        "account.get_balance()  # выведет \"Current balance is 1000\"\n",
        "account.withdraw(500)  # выведет \"Withdrawn 500\"\n",
        "account.get_balance()  # выведет \"Current balance is 500\n",
        "account.withdraw(700)  # выведет \"Insufficient funds!\""
      ]
    },
    {
      "cell_type": "code",
      "execution_count": null,
      "id": "02373780",
      "metadata": {
        "id": "02373780",
        "colab": {
          "base_uri": "https://localhost:8080/"
        },
        "outputId": "c2923538-c826-4813-9c6a-1f32f2846025"
      },
      "outputs": [
        {
          "output_type": "stream",
          "name": "stdout",
          "text": [
            "Account holder: Ivan Ivanov, Account number: 123456\n"
          ]
        }
      ],
      "source": [
        "print(account)"
      ]
    },
    {
      "cell_type": "markdown",
      "id": "c09c8c85",
      "metadata": {
        "id": "c09c8c85"
      },
      "source": [
        "### Задание 3."
      ]
    },
    {
      "cell_type": "markdown",
      "id": "60c5c8af",
      "metadata": {
        "id": "60c5c8af"
      },
      "source": [
        "Создайте класс с названием \"Person\" (Человек), который имеет следующие атрибуты:\n",
        "\n",
        "- \"name\" (имя): строка, которая хранит имя человека\n",
        "- \"age\" (возраст): целое число, которое хранит возраст человека\n",
        "- \"hobbies\" (хобби): список, который хранит хобби человека\n",
        "Класс должен иметь следующие методы:\n",
        "\n",
        "- \"add_hobby(hobby)\" (добавить хобби): добавляет новое хобби в список хобби человека\n",
        "- \"remove_hobby(hobby)\" (удалить хобби): удаляет хобби из списка хобби человека\n",
        "- \"introduce()\" (представиться): выводит краткое представление о человеке, включая его имя, возраст и хобби."
      ]
    },
    {
      "cell_type": "code",
      "execution_count": null,
      "id": "8d9e6010",
      "metadata": {
        "id": "8d9e6010"
      },
      "outputs": [],
      "source": [
        "class Person:\n",
        "\n",
        "    def __init__(self, name: str, age: int):\n",
        "        self.name = name\n",
        "        self.age = age\n",
        "        self.hobbies = []\n",
        "\n",
        "    def add_hobby(self, hobby):\n",
        "        self.hobbies.append(hobby)\n",
        "\n",
        "    def remove_hobby(self, hobby):\n",
        "        self.hobbies.remove(hobby)\n",
        "\n",
        "    def introduce(self):\n",
        "        print(f\"My name is {self.name}.\\nI'm {self.age} years old.\")\n",
        "        if self.hobbies:\n",
        "            if len(self.hobbies) == 1:\n",
        "                print(f\"My hobby is {self.hobbies[0]}.\")\n",
        "            else:\n",
        "                print(f'My hobbyes are {\", \".join(self.hobbies)}.')\n",
        "        else:\n",
        "            print(\"I don't have any hobbies yet.\")"
      ]
    },
    {
      "cell_type": "code",
      "execution_count": null,
      "id": "14db6011",
      "metadata": {
        "id": "14db6011",
        "colab": {
          "base_uri": "https://localhost:8080/"
        },
        "outputId": "c37a9e28-5fb1-47ee-ddea-3b0bff47eaeb"
      },
      "outputs": [
        {
          "output_type": "stream",
          "name": "stdout",
          "text": [
            "My name is Alice.\n",
            "I'm 30 years old.\n",
            "My hobbyes are reading, painting.\n",
            "My name is Alice.\n",
            "I'm 30 years old.\n",
            "My hobby is painting.\n",
            "My name is Alice.\n",
            "I'm 30 years old.\n",
            "I don't have any hobbies yet.\n"
          ]
        }
      ],
      "source": [
        "person = Person(\"Alice\", 30)\n",
        "person.add_hobby(\"reading\")\n",
        "person.add_hobby(\"painting\")\n",
        "person.introduce()\n",
        "\n",
        "person.remove_hobby(\"reading\")\n",
        "person.introduce()\n",
        "\n",
        "person.remove_hobby(\"painting\")\n",
        "person.introduce()"
      ]
    },
    {
      "cell_type": "markdown",
      "id": "9a7e106c",
      "metadata": {
        "id": "9a7e106c"
      },
      "source": [
        "### Задание 4."
      ]
    },
    {
      "cell_type": "markdown",
      "id": "f71870d3",
      "metadata": {
        "id": "f71870d3"
      },
      "source": [
        "Представьте, что Вы работаете над приложением, которое должно помочь людям следить за своим здоровьем. Вам нужно создать класс `Person`, который будет представлять пользователя вашего приложения. Класс должен иметь свойства `name` (имя), `age` (возраст), `height` (рост), `weight` (вес) и методы `get_bmi()` (возвращает индекс массы тела пользователя) и `recommend_diet()` (возвращает рекомендации по диете, основанные на индексе массы тела пользователя).\n",
        "\n",
        "\n",
        "    Индекс массы тела рассчитывается по формуле: $bmi = weight / height^2 $   (кг)/ (м2)\n",
        "\n",
        "    Границы для рекомендации по питанию:\n",
        "    bmi < 18.5 - недостаток веса, 18.5 <= bmi <= 24.9 - норма, 25.0 <= bmi <= 29.9 - избыток веса, больше - угроза для здоровья, рекомендация обратиться к специалисту.\n"
      ]
    },
    {
      "cell_type": "code",
      "execution_count": null,
      "id": "e5a6438f",
      "metadata": {
        "id": "e5a6438f"
      },
      "outputs": [],
      "source": [
        "class Person:\n",
        "\n",
        "    def __init__(self, name: str, age: int, height, weight):\n",
        "        self.name = name\n",
        "        self.age = age\n",
        "        self.height = height\n",
        "        self.weight = weight\n",
        "\n",
        "    def get_bmi(self) -> float:\n",
        "        self.bmi = self.weight / self.height ** 2\n",
        "        return round(self.bmi, 1)\n",
        "\n",
        "    def recommend_diet(self) -> str:\n",
        "        if self.bmi < 18.5:\n",
        "            return \"Недостаток веса\"\n",
        "        elif 18.5 <= self.bmi <= 24.9:\n",
        "            return \"Норма\"\n",
        "        elif 25.0 <= self.bmi <= 29.9:\n",
        "            return \"Избыток веса\"\n",
        "        else:\n",
        "            return \"Угроза для здоровья, рекомендация обратиться к специалисту\""
      ]
    },
    {
      "cell_type": "code",
      "source": [
        "person = Person(\"Sasha\", 33, 1.7, 70)\n",
        "print(person.get_bmi())\n",
        "print(person.recommend_diet())"
      ],
      "metadata": {
        "colab": {
          "base_uri": "https://localhost:8080/"
        },
        "id": "Knb1LY4iFdbZ",
        "outputId": "609c28e1-74b0-4c84-e1bb-7649f13b4646"
      },
      "id": "Knb1LY4iFdbZ",
      "execution_count": null,
      "outputs": [
        {
          "output_type": "stream",
          "name": "stdout",
          "text": [
            "24.2\n",
            "Норма\n"
          ]
        }
      ]
    },
    {
      "cell_type": "markdown",
      "id": "b6691955",
      "metadata": {
        "id": "b6691955"
      },
      "source": [
        "### Задание 5."
      ]
    },
    {
      "cell_type": "markdown",
      "id": "04de8f71",
      "metadata": {
        "id": "04de8f71"
      },
      "source": [
        "Создать классы для вычисления геометрических фигур.\n",
        "\n",
        "- Создать базовый класс `Shape`.\n",
        "- Класс `Shape` должен содержать методы `get_area()` и `get_perimeter()`, которые должны возвращать площадь и периметр фигуры соответственно.\n",
        "- Создать классы `Rectangle` и `Circle`, которые наследуются от Shape.\n",
        "- Класс `Rectangle` должен иметь следующие атрибуты:\n",
        "    - `width` (ширина)\n",
        "    - `height` (высота)\n",
        "- Класс `Circle` должен иметь следующие атрибуты:\n",
        "    - `radius` (радиус)\n",
        "- Класс `Rectangle` должен переопределять методы `get_area()` и `get_perimeter()` для вычисления площади и периметра прямоугольника соответственно.\n",
        "- Класс `Circle` должен переопределять методы `get_area()` и `get_perimeter()` для вычисления площади и длины окружности соответственно.\n"
      ]
    },
    {
      "cell_type": "code",
      "execution_count": null,
      "id": "12d76ded",
      "metadata": {
        "id": "12d76ded"
      },
      "outputs": [],
      "source": [
        "class Shape:\n",
        "\n",
        "    def get_area(self):\n",
        "        # я не знаю что здесь писать\n",
        "        pass\n",
        "\n",
        "    def get_perimeter(self):\n",
        "        # я не знаю что здесь писать\n",
        "        pass\n",
        "\n",
        "class Rectangle(Shape):\n",
        "\n",
        "    def __init__(self, width, height):\n",
        "        self.width = width\n",
        "        self.height = height\n",
        "\n",
        "    def get_area(self):\n",
        "        return self.width * self.height\n",
        "\n",
        "    def get_perimeter(self):\n",
        "        return 2 * (self.width + self.height)\n",
        "\n",
        "class Circle(Shape):\n",
        "    PI = 3.14\n",
        "    def __init__(self, radius):\n",
        "        self.radius = radius\n",
        "\n",
        "    def get_area(self):\n",
        "        return round(self.PI * (self.radius ** 2), 1)\n",
        "\n",
        "    def get_perimeter(self):\n",
        "        return round(self.PI * self.radius, 1)"
      ]
    },
    {
      "cell_type": "code",
      "source": [
        "rectangle = Rectangle(10, 20)\n",
        "circle = Circle(9)"
      ],
      "metadata": {
        "id": "_WS0OV6aQwq3"
      },
      "id": "_WS0OV6aQwq3",
      "execution_count": null,
      "outputs": []
    },
    {
      "cell_type": "code",
      "source": [
        "print(rectangle.get_area())\n",
        "print(rectangle.get_perimeter())\n",
        "print(circle.get_area())\n",
        "print(circle.get_perimeter())"
      ],
      "metadata": {
        "colab": {
          "base_uri": "https://localhost:8080/"
        },
        "id": "W1OU8MYCRYcP",
        "outputId": "22662135-e550-4828-bd43-0bc530dbdf4e"
      },
      "id": "W1OU8MYCRYcP",
      "execution_count": null,
      "outputs": [
        {
          "output_type": "stream",
          "name": "stdout",
          "text": [
            "200\n",
            "60\n",
            "254.3\n",
            "28.3\n"
          ]
        }
      ]
    },
    {
      "cell_type": "markdown",
      "id": "6dfaf74f",
      "metadata": {
        "id": "6dfaf74f"
      },
      "source": [
        "## Дополнительная практика (Задания со звездочкой)"
      ]
    },
    {
      "cell_type": "markdown",
      "id": "4fde25b0",
      "metadata": {
        "id": "4fde25b0"
      },
      "source": [
        "### Задание 6"
      ]
    },
    {
      "cell_type": "markdown",
      "id": "79c7b945",
      "metadata": {
        "id": "79c7b945"
      },
      "source": [
        "Создать классы для работы с телефонной книгой.\n",
        "\n",
        "Требования:\n",
        "\n",
        "- Создать класс `PhoneBook`.\n",
        "- Класс `PhoneBook` должен содержать методы:\n",
        "    - `add_contact` добавления новой записи в книгу\n",
        "    - `remove_contact` удаления записи из книги\n",
        "    - `find_contact` поиска записи по имени, вывода всех записей в книге.\n",
        "    - `show_all_contacts` вывода всех сохраненных контактов в случайном порядке.\n",
        "    - `show_sorted_contacts` вывода всех сохраненных контактов в алфавитном порядке по имени (Нормально, если будет работать дольше).\n",
        "\n",
        "- Каждая запись `Contact` в книге должна содержать следующие атрибуты:\n",
        "    - `name` (имя контакта)\n",
        "    - `phone_number` (номер телефона контакта)\n",
        "    - `email` (адрес электронной почты контакта)\n",
        "    \n",
        "Методы класса PhoneBook должны позволять работать с записями в книге как с объектами класса. Подумайте, в какой структуре данных эффективнее хранить контакты в адресной книге.\n",
        "\n",
        "Создайте несколько контактов и протестируйте работу методов PhoneBook"
      ]
    },
    {
      "cell_type": "code",
      "execution_count": null,
      "id": "b4add320",
      "metadata": {
        "id": "b4add320"
      },
      "outputs": [],
      "source": [
        "class PhoneBook:\n",
        "    def __init__(self):\n",
        "        self.contacts = {} # подумала, что словарь эффективнее\n",
        "\n",
        "    def add_contact(self, contact):\n",
        "        self.contacts[contact.name] = contact\n",
        "\n",
        "    def remove_contact(self, name):\n",
        "        if name in self.contacts:\n",
        "            del self.contacts[name]\n",
        "\n",
        "    def find_contact(self, name):\n",
        "        if name in self.contacts:\n",
        "            found_contact = self.contacts.get(name)\n",
        "            print(f\"Name: {found_contact.name}, phone: {found_contact.phone_number}, email: {found_contact.email}\")\n",
        "        else:\n",
        "            return None\n",
        "\n",
        "    def show_all_contacts(self):\n",
        "        return list(self.contacts.keys())\n",
        "\n",
        "    def show_sorted_contacts(self):\n",
        "        return sorted(self.contacts.keys())\n",
        "\n",
        "class Contact:\n",
        "    def __init__(self, name, phone_number, email):\n",
        "        self.name = name\n",
        "        self.phone_number = phone_number\n",
        "        self.email = email"
      ]
    },
    {
      "cell_type": "code",
      "source": [
        "contact_1 = Contact(\"Serafima\", 79125486589, \"serafimaa@yandex.ru\")\n",
        "contact_2 = Contact(\"Nikita\", 79856542534, \"nikita@mail.ru\")\n",
        "contact_3 = Contact(\"Marina\", 79865612465, \"marina@gmail.com\")\n",
        "phone_book = PhoneBook()\n",
        "phone_book.add_contact(contact_1)\n",
        "phone_book.add_contact(contact_2)\n",
        "phone_book.add_contact(contact_3)"
      ],
      "metadata": {
        "id": "9-FQhaSIk_EU"
      },
      "id": "9-FQhaSIk_EU",
      "execution_count": null,
      "outputs": []
    },
    {
      "cell_type": "code",
      "source": [
        "phone_book.find_contact(\"Marina\")\n",
        "phone_book.find_contact(\"Nikita\")\n",
        "phone_book.find_contact(\"Serafima\")\n",
        "phone_book.find_contact(\"Alisa\")  # имя, которого нет в словаре"
      ],
      "metadata": {
        "colab": {
          "base_uri": "https://localhost:8080/"
        },
        "id": "vuo_N0L8opLt",
        "outputId": "707b3a5d-734c-40e2-de8a-52ab85f0f606"
      },
      "id": "vuo_N0L8opLt",
      "execution_count": null,
      "outputs": [
        {
          "output_type": "stream",
          "name": "stdout",
          "text": [
            "Name: Marina, phone: 79865612465, email: marina@gmail.com\n",
            "Name: Nikita, phone: 79856542534, email: nikita@mail.ru\n",
            "Name: Serafima, phone: 79125486589, email: serafimaa@yandex.ru\n"
          ]
        }
      ]
    },
    {
      "cell_type": "code",
      "source": [
        "print(phone_book.show_all_contacts())\n",
        "print(phone_book.show_sorted_contacts())"
      ],
      "metadata": {
        "colab": {
          "base_uri": "https://localhost:8080/"
        },
        "id": "iUHQFhY8rp93",
        "outputId": "d5925fe6-3c22-4037-e46b-284c1aa37678"
      },
      "id": "iUHQFhY8rp93",
      "execution_count": null,
      "outputs": [
        {
          "output_type": "stream",
          "name": "stdout",
          "text": [
            "['Serafima', 'Nikita', 'Marina']\n",
            "['Marina', 'Nikita', 'Serafima']\n"
          ]
        }
      ]
    },
    {
      "cell_type": "code",
      "source": [
        "phone_book.remove_contact(\"Marina\")\n",
        "print(phone_book.show_all_contacts())\n",
        "phone_book.remove_contact(\"Alisa\") # имя, которого нет в словаре"
      ],
      "metadata": {
        "colab": {
          "base_uri": "https://localhost:8080/"
        },
        "id": "LSUNU1HOwlOF",
        "outputId": "19318b07-0a17-4c0a-bed0-8c1f1cce41e5"
      },
      "id": "LSUNU1HOwlOF",
      "execution_count": null,
      "outputs": [
        {
          "output_type": "stream",
          "name": "stdout",
          "text": [
            "['Serafima', 'Nikita']\n"
          ]
        }
      ]
    },
    {
      "cell_type": "markdown",
      "id": "145a3e54",
      "metadata": {
        "id": "145a3e54"
      },
      "source": [
        "### Задание 7"
      ]
    },
    {
      "cell_type": "markdown",
      "id": "10335dd7",
      "metadata": {
        "id": "10335dd7"
      },
      "source": [
        "Реализуйте класс, реализующий комплексные числа `Complex` с аттрибутами `real`, `imag`. В классе должны быть реализованы методы арифметики комплексных чисел:\n",
        "`__add__`, `__sub__`, `__mul__`, `__div__`, `__abs__`, `__eq__`, так же реализуйте методы `__str__`, `__repr__`"
      ]
    },
    {
      "cell_type": "code",
      "execution_count": null,
      "id": "185cc810",
      "metadata": {
        "id": "185cc810"
      },
      "outputs": [],
      "source": [
        "class Complex:\n",
        "    def __init__(self, real, imag):\n",
        "        self.real = real\n",
        "        self.imag = imag\n",
        "\n",
        "    def __add__(self, other):\n",
        "        return Complex(self.real + other.real, self.imag + other.imag)\n",
        "\n",
        "    def __sub__(self, other):\n",
        "        return Complex(self.real - other.real, self.imag - other.imag)\n",
        "\n",
        "    def __mul__(self, other):\n",
        "        return Complex(self.real * other.real - self.imag * other.imag, self.real * other.imag + self.imag * other.real)\n",
        "\n",
        "    def __abs__(self):\n",
        "        return (self.real**2 + self.imag**2)**0.5\n",
        "\n",
        "    def __eq__(self, other):\n",
        "        return self.real == other.real and self.imag == other.imag\n",
        "\n",
        "    def __str__(self):\n",
        "        return f\"{self.real} + {self.imag}i\"\n",
        "\n",
        "    def __repr__(self):\n",
        "        return f\"Complex({self.real}, {self.imag})\""
      ]
    },
    {
      "cell_type": "code",
      "source": [
        "n1 = Complex(1, 2)\n",
        "n2 = Complex(3, 4)\n",
        "\n",
        "print(\"n1 =\", n1)           # метод __str__\n",
        "print(\"n2 =\", n2)\n",
        "\n",
        "result = n1 + n2            # сложение\n",
        "print(\"n1 + n2 =\", result)\n",
        "\n",
        "result = n1 - n2            # вычитание\n",
        "print(\"n1 - n2 =\", result)\n",
        "\n",
        "result = n1 * n2            # умножение\n",
        "print(\"n1 * n2 =\", result)\n",
        "\n",
        "modulus = abs(n1)            # модуль\n",
        "print(\"|n1| =\", modulus)\n",
        "\n",
        "print(\"n1 == n2:\", n1 == n2) # проверка на равенство\n",
        "\n",
        "repr(n2)"
      ],
      "metadata": {
        "colab": {
          "base_uri": "https://localhost:8080/",
          "height": 157
        },
        "id": "zM-l5RL1B6Yu",
        "outputId": "7ce90d3d-fe7b-40f4-be26-18d012384e0f"
      },
      "id": "zM-l5RL1B6Yu",
      "execution_count": null,
      "outputs": [
        {
          "output_type": "stream",
          "name": "stdout",
          "text": [
            "n1 = 1 + 2i\n",
            "n2 = 3 + 4i\n",
            "n1 + n2 = 4 + 6i\n",
            "n1 - n2 = -2 + -2i\n",
            "n1 * n2 = -5 + 10i\n",
            "|n1| = 2.23606797749979\n",
            "n1 == n2: False\n"
          ]
        },
        {
          "output_type": "execute_result",
          "data": {
            "text/plain": [
              "'Complex(3, 4)'"
            ],
            "application/vnd.google.colaboratory.intrinsic+json": {
              "type": "string"
            }
          },
          "metadata": {},
          "execution_count": 17
        }
      ]
    },
    {
      "cell_type": "markdown",
      "id": "0e044a09",
      "metadata": {
        "id": "0e044a09"
      },
      "source": [
        "### Задание 8"
      ]
    },
    {
      "cell_type": "markdown",
      "id": "aa62e18f",
      "metadata": {
        "id": "aa62e18f"
      },
      "source": [
        "Вам нужно реализовать класс [`LifeGame`](https://ru.wikipedia.org/wiki/%D0%98%D0%B3%D1%80%D0%B0_%C2%AB%D0%96%D0%B8%D0%B7%D0%BD%D1%8C%C2%BB).\n",
        "* Инициализируется начальным состоянием океана - прямоугольным списком списков (формируя тем самым матрицу), каждый элемент которого это число.\n",
        "0 - если ячейка пустая, 1 - если в ячейке живая клетка\n",
        "* Содержит метод `get_next_generation`, который обновляет состояние океана и возвращает его содержимое\n",
        "* Переопределенный `__str__` и  `__repr__` для вывода текущего состояния в виде красивой строки (Для превращения списка списков в строку используйте строковый метод `.join()` (объединение через пробел - \" \".join(list1)) и с символом переноса строки \"\\n\".join(list2))\n",
        "\n",
        "Игра жизнь устроена по следующим правилам:\n",
        "- изменение всех ячеек океана происходит одновременно, учитывая только состояния ячеек в предыдущий момент времени\n",
        "- в пустой (мёртвой) клетке, с которой соседствуют три живые клетки, зарождается жизнь;\n",
        "- если у живой клетки есть две или три живые соседки, то эта клетка продолжает жить; в противном случае (если живых соседей меньше двух или больше трёх) клетка умирает («от одиночества» или «от перенаселённости»).\n",
        "Игра прекращается, если\n",
        "- на поле не останется ни одной «живой» клетки;\n",
        "- конфигурация на очередном шаге в точности (без сдвигов и поворотов) повторит себя же на одном из более ранних шагов (складывается периодическая конфигурация)\n",
        "- при очередном шаге ни одна из клеток не меняет своего состояния (частный случай предыдущего правила, складывается стабильная конфигурация)\n"
      ]
    }
  ],
  "metadata": {
    "kernelspec": {
      "display_name": "Python 3 (ipykernel)",
      "language": "python",
      "name": "python3"
    },
    "language_info": {
      "codemirror_mode": {
        "name": "ipython",
        "version": 3
      },
      "file_extension": ".py",
      "mimetype": "text/x-python",
      "name": "python",
      "nbconvert_exporter": "python",
      "pygments_lexer": "ipython3",
      "version": "3.10.9"
    },
    "colab": {
      "provenance": []
    }
  },
  "nbformat": 4,
  "nbformat_minor": 5
}