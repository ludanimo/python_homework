{
  "nbformat": 4,
  "nbformat_minor": 0,
  "metadata": {
    "colab": {
      "provenance": []
    },
    "kernelspec": {
      "name": "python3",
      "display_name": "Python 3"
    },
    "language_info": {
      "name": "python"
    }
  },
  "cells": [
    {
      "cell_type": "markdown",
      "source": [
        "В этой практике отрабатываем следующие инструменты:\n",
        "\n",
        "1. Переменные\n",
        "2. Логические и арифметические операторы\n",
        "3. Приведение типов\n",
        "4. Вывод на экран\n",
        "5. Условные операторы"
      ],
      "metadata": {
        "id": "8xKtj7lM7MjS"
      }
    },
    {
      "cell_type": "markdown",
      "source": [
        "### Блок 1\n",
        "\n",
        "Отрабатываем простые вычисления и вывод на экран.\n",
        "В задачах где требуется вывести ответ на экран используйте красивый форматированный вывод с помощью f-строк."
      ],
      "metadata": {
        "id": "P679KUGLCXTQ"
      }
    },
    {
      "cell_type": "markdown",
      "source": [
        "*Задача 0 - Пользовательская информация*\n",
        "\n",
        "Запросите у пользователя следующую информацию:\n",
        "1. Имя\n",
        "2. Год рождения\n",
        "\n",
        "С помощью одной единственной функции принт выведите на экран следующее приветственное сообщение, на места %ИМЯ%, %ГОД% подставив информацию пользователя.\n",
        "\n"
      ],
      "metadata": {
        "id": "8TrE45HwLfBI"
      }
    },
    {
      "cell_type": "code",
      "source": [
        "name = \"Екатерина\"\n",
        "year = 1990\n",
        "print(f\"Приветствую тебя \\n{name}\\n{year} года рождения\")"
      ],
      "metadata": {
        "colab": {
          "base_uri": "https://localhost:8080/"
        },
        "id": "ERehMM72JOi_",
        "outputId": "250399a7-8a18-492e-ba93-dc5d9b5e3471"
      },
      "execution_count": null,
      "outputs": [
        {
          "output_type": "stream",
          "name": "stdout",
          "text": [
            "Приветствую тебя \n",
            "Екатерина\n",
            "1990 года рождения\n"
          ]
        }
      ]
    },
    {
      "cell_type": "markdown",
      "source": [
        "✅Хорошо"
      ],
      "metadata": {
        "id": "YxK2eWBBFDLE"
      }
    },
    {
      "cell_type": "markdown",
      "source": [
        "Вывод должен быть в следующем формате:\n",
        "```\n",
        "Приветствуем тебя\n",
        "%ИМЯ%\n",
        "%ГОД% года рождения\n",
        "```"
      ],
      "metadata": {
        "id": "JBzLvJsizvH2"
      }
    },
    {
      "cell_type": "markdown",
      "source": [
        "*Задача 1 - Поделить торт*\n",
        "\n",
        "Напишите программу, которая с точностью до двух знаков после запятой будет выводить сколько грамм торта достанется каждому исходя из ввведенной пользователем информации:\n",
        "\n",
        "1. Общий вес торта (может быть дробным числом!)\n",
        "2. Количество людей"
      ],
      "metadata": {
        "id": "2ZwxK-FM8HlO"
      }
    },
    {
      "cell_type": "code",
      "source": [
        "weight = float(input(\"Сколько весит ваш торт? \"))\n",
        "guests = int(input(\"Сколько у вас гостей? \"))\n",
        "cake = weight / guests\n",
        "print(f\"Каждый гость получит по: {cake:.2f}\")"
      ],
      "metadata": {
        "colab": {
          "base_uri": "https://localhost:8080/"
        },
        "id": "BjSjxE1MCmZD",
        "outputId": "5f430041-aa72-4d88-f91d-4c330adabd36"
      },
      "execution_count": null,
      "outputs": [
        {
          "output_type": "stream",
          "name": "stdout",
          "text": [
            "Сколько весит ваш торт? 1.2\n",
            "Сколько у вас гостей? 9\n",
            "Каждый гость получит по: 0.13\n"
          ]
        }
      ]
    },
    {
      "cell_type": "markdown",
      "source": [
        "✅Хорошо"
      ],
      "metadata": {
        "id": "MSsk78uvFJgc"
      }
    },
    {
      "cell_type": "markdown",
      "source": [
        "*Задача 2 - Стоимость обедов*\n",
        "\n",
        "Напишите программу, которая рассчитает сколько денег нужно заплатить за n обедов. Рассчитайте сколько будет стоить обед, если стоимость одного обеда составляет количество `a` рублей и `b` копеек.\n",
        "\n",
        "Пользователь с экрана вводит одно единственное число n - количество обедов, которое он хочет приобрести"
      ],
      "metadata": {
        "id": "fcwclxcoQEhF"
      }
    },
    {
      "cell_type": "code",
      "source": [
        "a = 100\n",
        "b = 99\n",
        "n = int(input())\n",
        "sum = (a * 100 + b) * n\n",
        "sum_rub = sum // 100\n",
        "sum_kop = sum % 100\n",
        "print(f'Итого: {sum_rub} рублей {sum_kop} копеек')"
      ],
      "metadata": {
        "id": "mzt1a2MIRcdi",
        "colab": {
          "base_uri": "https://localhost:8080/"
        },
        "outputId": "15e6ae15-0d29-45d2-f614-906f0e1bb190"
      },
      "execution_count": null,
      "outputs": [
        {
          "output_type": "stream",
          "name": "stdout",
          "text": [
            "10\n",
            "Итого: 1009 рублей 90 копеек\n"
          ]
        }
      ]
    },
    {
      "cell_type": "markdown",
      "source": [
        "✅Хорошо"
      ],
      "metadata": {
        "id": "cimMhKg0FLEq"
      }
    },
    {
      "cell_type": "markdown",
      "source": [
        "*Задача 3 - Предыдущее и следующее*\n",
        "\n",
        "Напишите программу, которая будет считывать с экрана одно единственное целое число в переменную `number`.\n",
        "Выведите предыдущее и следующее число после `number`, явно обозначив какое из них предыдущее а какое следующее"
      ],
      "metadata": {
        "id": "7KS3fOCa8OPw"
      }
    },
    {
      "cell_type": "code",
      "source": [
        "number = int(input())\n",
        "next = number + 1\n",
        "last = number - 1\n",
        "print(f'предыдущее = {last}\\nследующее = {next}')"
      ],
      "metadata": {
        "colab": {
          "base_uri": "https://localhost:8080/"
        },
        "id": "KGVWYOBLBJyA",
        "outputId": "bc2112a3-fc21-45ab-f121-f8d986fbdedd"
      },
      "execution_count": null,
      "outputs": [
        {
          "output_type": "stream",
          "name": "stdout",
          "text": [
            "23\n",
            "предыдущее = 22\n",
            "следующее = 24\n"
          ]
        }
      ]
    },
    {
      "cell_type": "markdown",
      "source": [
        "✅Хорошо"
      ],
      "metadata": {
        "id": "yPypJTTwFRkf"
      }
    },
    {
      "cell_type": "markdown",
      "source": [
        "*Задача 4 - Следующее нечетное число*\n",
        "\n",
        "Напишите программу, которая будет считывать с экрана одно единственное целое положительное число в переменную `number`.\n",
        "Выведите следующее ближайшее нечетное число к данному. Не используйте оператор if."
      ],
      "metadata": {
        "id": "evXXM0BrKb4B"
      }
    },
    {
      "cell_type": "code",
      "source": [
        "number = int(input())\n",
        "number = number + (number % 2 + 1)\n",
        "print(f'Нечетное число: {number}')"
      ],
      "metadata": {
        "colab": {
          "base_uri": "https://localhost:8080/"
        },
        "id": "Qrk2EP4EKt_H",
        "outputId": "e5e7960b-857d-4be1-af58-24fae90fe652"
      },
      "execution_count": null,
      "outputs": [
        {
          "output_type": "stream",
          "name": "stdout",
          "text": [
            "66\n",
            "Нечетное число: 67\n"
          ]
        }
      ]
    },
    {
      "cell_type": "markdown",
      "source": [
        "✅Хорошо"
      ],
      "metadata": {
        "id": "mAKq0tEuFShG"
      }
    },
    {
      "cell_type": "markdown",
      "source": [
        "*Задача 5 - Расчет суммы и произведения чисел*\n",
        "\n",
        "Напишите программу, которая считывает с экрана целое положительное трехзначное число и выводит в результате сумму и произведение цифр этого числа. Явно обозначьте что есть сумма, а что произведение.\n",
        "\n",
        "Программу нужно написать без использования встроенных функций Python"
      ],
      "metadata": {
        "id": "SO9zT5usBcZ5"
      }
    },
    {
      "cell_type": "code",
      "source": [
        "number = int(input())\n",
        "hundreds = number // 100\n",
        "dozens = number // 10 % 10\n",
        "numeric = number % 10\n",
        "sum = hundreds + dozens + numeric\n",
        "multiplication = hundreds * dozens * numeric\n",
        "print(f'сумма = {sum}\\nпроизведение = {multiplication}')"
      ],
      "metadata": {
        "colab": {
          "base_uri": "https://localhost:8080/"
        },
        "id": "uiB7cbCL5q26",
        "outputId": "6495117f-6204-4b00-b8e7-9c03d077b802"
      },
      "execution_count": null,
      "outputs": [
        {
          "output_type": "stream",
          "name": "stdout",
          "text": [
            "127\n",
            "сумма = 10\n",
            "произведение = 14\n"
          ]
        }
      ]
    },
    {
      "cell_type": "markdown",
      "source": [
        "✅Хорошо"
      ],
      "metadata": {
        "id": "32Pkre43FTaR"
      }
    },
    {
      "cell_type": "markdown",
      "source": [
        "### Блок 2\n",
        "\n",
        "Отрабатываем условные операторы.\n",
        "В задачах где требуется вывести ответ на экран используйте красивый форматированный вывод с помощью f-строк."
      ],
      "metadata": {
        "id": "3WwdpGyhdHg2"
      }
    },
    {
      "cell_type": "markdown",
      "source": [
        "*Задача 0 - Минимум из 2 чисел*\n",
        "\n",
        "Напишите программу, которая выведет минимальное из двух введенных пользователем чисел на экран.\n",
        "\n",
        "В решении не должны использоваться встроенные функции Python min(), max()"
      ],
      "metadata": {
        "id": "CVD_zeOY5Non"
      }
    },
    {
      "cell_type": "code",
      "source": [
        "number_1 = int(input())\n",
        "number_2 = int(input())\n",
        "\n",
        "if number_1 < number_2:\n",
        "  print(number_1)\n",
        "else:\n",
        "  print(number_2)"
      ],
      "metadata": {
        "colab": {
          "base_uri": "https://localhost:8080/"
        },
        "id": "l9ljdragdgwL",
        "outputId": "757a5fe5-b205-47a2-cd57-1367e1f479d0"
      },
      "execution_count": null,
      "outputs": [
        {
          "output_type": "stream",
          "name": "stdout",
          "text": [
            "1\n",
            "8\n",
            "1\n"
          ]
        }
      ]
    },
    {
      "cell_type": "markdown",
      "source": [
        "✅Хорошо"
      ],
      "metadata": {
        "id": "a7wwoLszFUrp"
      }
    },
    {
      "cell_type": "markdown",
      "source": [
        "*Задача 1 - Опросник*\n",
        "\n",
        "Запросите у пользователя ответ на любой арифметический пример, который придумаете сами. Если пользователь ответил правильно, напишите ему молодец.\n",
        "Если пользователь ответил неверно, напишите - ответ неверный.\n",
        "По окончанию программы всем пользователям пожелайте удачи."
      ],
      "metadata": {
        "id": "xUqjW6MYADcw"
      }
    },
    {
      "cell_type": "code",
      "source": [
        "math_example = int(input(\"2+2=\"))\n",
        "\n",
        "if math_example == 4:\n",
        "  print(\"Молодец!\")\n",
        "else:\n",
        "  print(\"Ответ неверный\")\n",
        "print(\"Удачи!\")"
      ],
      "metadata": {
        "colab": {
          "base_uri": "https://localhost:8080/"
        },
        "id": "aLd7Nov_g_Lg",
        "outputId": "010a7edf-8942-414b-b69c-9731db7aac5d"
      },
      "execution_count": null,
      "outputs": [
        {
          "output_type": "stream",
          "name": "stdout",
          "text": [
            "2+2=5\n",
            "Ответ неверный\n",
            "Удачи!\n"
          ]
        }
      ]
    },
    {
      "cell_type": "markdown",
      "source": [
        "✅Хорошо"
      ],
      "metadata": {
        "id": "73E7Zd-1FVzC"
      }
    },
    {
      "cell_type": "markdown",
      "source": [
        "*Задача 2 - Рассчитать сдачу*\n",
        "\n",
        "Посчитайте сдачу, которую необходимо выдать клиенту, исходя из введенной с консоли информации:\n",
        "\n",
        "1. Сумма, которую должен заплатить клиент\n",
        "2. Количество денег, которое дает клиент\n",
        "\n",
        "Если количество денег, которое дает клиент меньше, чем необходимая сумма оплаты - вывести что денег недостаточно."
      ],
      "metadata": {
        "id": "-vq14B-d7dw8"
      }
    },
    {
      "cell_type": "code",
      "source": [
        "sum = int(input(\"Сумма к оплате: \"))\n",
        "rubles = int(input(\"Ваши деньги: \"))\n",
        "\n",
        "if rubles > sum:\n",
        "  deduction = rubles - sum\n",
        "  print(f'Ваша сдача: {deduction}')\n",
        "else:\n",
        "  print('Денег недостаточно')"
      ],
      "metadata": {
        "colab": {
          "base_uri": "https://localhost:8080/"
        },
        "id": "ptiF8UTMetgr",
        "outputId": "97162e50-fb5f-46bc-dfbc-7d965249c66e"
      },
      "execution_count": null,
      "outputs": [
        {
          "output_type": "stream",
          "name": "stdout",
          "text": [
            "Сумма к оплате: 100\n",
            "Ваши деньги: 100\n",
            "Денег недостаточно\n"
          ]
        }
      ]
    },
    {
      "cell_type": "markdown",
      "source": [
        "❌Если клиент даёт денег без сдачи, то программа требует ещё"
      ],
      "metadata": {
        "id": "ygZzLOebFbGF"
      }
    },
    {
      "cell_type": "code",
      "source": [
        "sum = int(input(\"Сумма к оплате: \"))\n",
        "rubles = int(input(\"Ваши деньги: \"))\n",
        "\n",
        "if rubles >= sum:\n",
        "  deduction = rubles - sum\n",
        "  print(f'Ваша сдача: {deduction}')\n",
        "else:\n",
        "  print('Денег недостаточно')"
      ],
      "metadata": {
        "colab": {
          "base_uri": "https://localhost:8080/"
        },
        "id": "QFh2JLgEZRT5",
        "outputId": "b9f8b2b2-fa24-49f6-ddd0-4e6749ca7c16"
      },
      "execution_count": null,
      "outputs": [
        {
          "output_type": "stream",
          "name": "stdout",
          "text": [
            "Сумма к оплате: 100\n",
            "Ваши деньги: 100\n",
            "Ваша сдача: 0\n"
          ]
        }
      ]
    },
    {
      "cell_type": "markdown",
      "source": [
        "*Задача 3 - Скидка на копеечку*\n",
        "\n",
        "Модифицируйте код предыдущей задачи таким образом, если сдача получается дробным числом, округлите вверх до ближайшего целого.\n",
        "\n",
        "Например: сдача 12.3 -> 13"
      ],
      "metadata": {
        "id": "8LyZEBce9vi8"
      }
    },
    {
      "cell_type": "code",
      "source": [
        "sum = float(input(\"Сумма к оплате: \"))\n",
        "rubles = float(input(\"Ваши деньги: \"))\n",
        "deduction = rubles - sum\n",
        "\n",
        "if deduction % 1 > 0:\n",
        "  deduction = int(rubles - sum) + 1\n",
        "  print(f'Сдача: {float(deduction)}')\n",
        "elif deduction < 0:\n",
        "  print('Недостаточно денег')\n",
        "else:\n",
        "  print(f'Сдача: {float(deduction)}')"
      ],
      "metadata": {
        "id": "ebAcDhxhGNkN",
        "colab": {
          "base_uri": "https://localhost:8080/"
        },
        "outputId": "083884f1-2ba1-4e33-ec84-2b704b306b9a"
      },
      "execution_count": null,
      "outputs": [
        {
          "output_type": "stream",
          "name": "stdout",
          "text": [
            "Сумма к оплате: 7\n",
            "Ваши деньги: 10\n",
            "Сдача: 4.0\n"
          ]
        }
      ]
    },
    {
      "cell_type": "markdown",
      "source": [
        "❌Пример, когда программа пытается разорить заказчика - выше. ``` deduction % 1``` поможет"
      ],
      "metadata": {
        "id": "ANpSMylbF78x"
      }
    },
    {
      "cell_type": "code",
      "source": [
        "sum = float(input(\"Сумма к оплате: \"))\n",
        "rubles = float(input(\"Ваши деньги: \"))\n",
        "deduction = rubles - sum\n",
        "\n",
        "if deduction % 1 > 0:\n",
        "  deduction = int(rubles - sum) + 1\n",
        "  print(f'Сдача: {float(deduction)}')\n",
        "elif deduction < 0:\n",
        "  print('Недостаточно денег')\n",
        "else:\n",
        "  print(f'Сдача: {float(deduction)}')"
      ],
      "metadata": {
        "colab": {
          "base_uri": "https://localhost:8080/"
        },
        "id": "5veYEPrBZgXQ",
        "outputId": "c975aa60-f880-41f9-b423-ac60bd21f66e"
      },
      "execution_count": null,
      "outputs": [
        {
          "output_type": "stream",
          "name": "stdout",
          "text": [
            "Сумма к оплате: 7\n",
            "Ваши деньги: 10\n",
            "Сдача: 3.0\n"
          ]
        }
      ]
    },
    {
      "cell_type": "markdown",
      "source": [
        "*Задача 4 - Високосный год*\n",
        "\n",
        "Напишите программу, которая определит является ли год високосным.\n",
        "Правила определения високосного года (вырезка из Wikipedia)\n",
        "\n",
        "- год, номер которого кратен 400, — високосный;\n",
        "- остальные годы, номер которых кратен 100, — невисокосные (например, годы 1700, 1800, 1900, 2100, 2200, 2300);\n",
        "- остальные годы, номер которых кратен 4\n",
        "- все остальные годы — невисокосные.\n",
        "\n",
        "Для решения задачи используйте конструкцию if-else"
      ],
      "metadata": {
        "id": "eX7N8CLNDS_f"
      }
    },
    {
      "cell_type": "code",
      "source": [
        "year = int(input())\n",
        "\n",
        "if year % 400 == 0 and year % 100 != 0 and year % 4 == 0:\n",
        "  print(f'{year} - високосный')\n",
        "else:\n",
        "  print(f'{year} - невисокосный')"
      ],
      "metadata": {
        "id": "4eu1JDytCVcp",
        "colab": {
          "base_uri": "https://localhost:8080/"
        },
        "outputId": "bb263e09-2169-41f3-b1d0-fe3e4f28245e"
      },
      "execution_count": null,
      "outputs": [
        {
          "output_type": "stream",
          "name": "stdout",
          "text": [
            "400\n",
            "400 - невисокосный\n"
          ]
        }
      ]
    },
    {
      "cell_type": "markdown",
      "source": [
        "❌Год 400 високосный"
      ],
      "metadata": {
        "id": "4m8zywcyGMlw"
      }
    },
    {
      "cell_type": "code",
      "source": [
        "year = int(input())\n",
        "\n",
        "if year % 400 == 0 or year % 100 != 0 and year % 4 == 0:\n",
        "  print(f'{year} - високосный')\n",
        "else:\n",
        "  print(f'{year} - невисокосный')"
      ],
      "metadata": {
        "colab": {
          "base_uri": "https://localhost:8080/"
        },
        "id": "b3Kuxe4dZmuF",
        "outputId": "2633753f-cb2d-4d0a-f661-ec8d7c652794"
      },
      "execution_count": null,
      "outputs": [
        {
          "output_type": "stream",
          "name": "stdout",
          "text": [
            "400\n",
            "400 - високосный\n"
          ]
        }
      ]
    },
    {
      "cell_type": "markdown",
      "source": [
        "*Задача 6 - Округление*\n",
        "\n",
        "Пользователь через консоль вводит количество конфет, которое нужно поделить между тремя детьми. Напишите программу, которая будет рассчитывать сколько конфет кому достанется.\n",
        "\n",
        "Если конфеты не делятся поровну, то кому то из детей можно давать на одну конфету больше или меньше. То есть можно разбить так: 4, 4, 3. Или: 4, 4, 5. Дробить конфеты нельзя.\n",
        "\n",
        "\n",
        "P.S. Вам может быть полезна функция round для округления чисел до ближайшего целого"
      ],
      "metadata": {
        "id": "90m58hH8mJQ7"
      }
    },
    {
      "cell_type": "code",
      "source": [
        "amount_sweets = int(input())\n",
        "kids = amount_sweets // 3\n",
        "part = amount_sweets % 3\n",
        "\n",
        "if part == 1:\n",
        "  print(f'{kids + 1}, {kids}, {kids}.')\n",
        "elif part == 2:\n",
        "  print(f'{kids + 1}, {kids + 1}, {kids}.')\n",
        "else:\n",
        "  print(f'{kids}, {kids}, {kids}.')"
      ],
      "metadata": {
        "id": "09W90t2oAC7L",
        "colab": {
          "base_uri": "https://localhost:8080/"
        },
        "outputId": "a6ccc940-9f2e-43e8-8153-1b8de379415a"
      },
      "execution_count": null,
      "outputs": [
        {
          "output_type": "stream",
          "name": "stdout",
          "text": [
            "5\n",
            "2, 2, 1.\n"
          ]
        }
      ]
    },
    {
      "cell_type": "markdown",
      "source": [
        "✅Хорошо"
      ],
      "metadata": {
        "id": "2NvHiHpHGWd2"
      }
    },
    {
      "cell_type": "markdown",
      "source": [
        "*Задача 7 - Минимальное из трех*\n",
        "\n",
        "Напишите программу, которая выведет минимальное из трех введенных пользователем чисел на экран.\n",
        "\n",
        "В решении не должны использоваться встроенные функции Python min(), max()"
      ],
      "metadata": {
        "id": "0HcdIqbWmsb-"
      }
    },
    {
      "cell_type": "code",
      "source": [
        "numeric_1 = int(input())\n",
        "numeric_2 = int(input())\n",
        "numeric_3 = int(input())\n",
        "\n",
        "if numeric_1 > numeric_2 < numeric_3:\n",
        "  print(f'Минимальное из трех: {numeric_2}')\n",
        "elif numeric_2 > numeric_3 < numeric_1:\n",
        "  print(f'Минимальное из трех: {numeric_3}')\n",
        "else:\n",
        "  print(f'Минимальное из трех: {numeric_1}')"
      ],
      "metadata": {
        "id": "oCU3YfRsAjMy",
        "colab": {
          "base_uri": "https://localhost:8080/"
        },
        "outputId": "10bbb4e6-9a34-49d3-eccf-f519498aa315"
      },
      "execution_count": null,
      "outputs": [
        {
          "output_type": "stream",
          "name": "stdout",
          "text": [
            "4\n",
            "2\n",
            "2\n",
            "Минимальное из трех: 4\n"
          ]
        }
      ]
    },
    {
      "cell_type": "markdown",
      "source": [
        "❌Привёл пример некорректной работы программы"
      ],
      "metadata": {
        "id": "wbg3XJKDGnP_"
      }
    },
    {
      "cell_type": "code",
      "source": [
        "numeric_1 = int(input())\n",
        "numeric_2 = int(input())\n",
        "numeric_3 = int(input())\n",
        "\n",
        "if numeric_1 >= numeric_2 <= numeric_3:\n",
        "    print(f'Минимальное из трех: {numeric_2}')\n",
        "elif numeric_2 >= numeric_3 <= numeric_1:\n",
        "    print(f'Минимальное из трех: {numeric_3}')\n",
        "elif numeric_3 >= numeric_1 <= numeric_2:\n",
        "    print(f'Минимальное из трех: {numeric_1}')"
      ],
      "metadata": {
        "colab": {
          "base_uri": "https://localhost:8080/"
        },
        "id": "IHLbvKzNZsvw",
        "outputId": "7c1370d5-33cf-4c99-e619-cadb99f6036d"
      },
      "execution_count": null,
      "outputs": [
        {
          "output_type": "stream",
          "name": "stdout",
          "text": [
            "4\n",
            "2\n",
            "2\n",
            "Минимальное из трех: 2\n"
          ]
        }
      ]
    },
    {
      "cell_type": "markdown",
      "source": [],
      "metadata": {
        "id": "kCm1HeTyGX3W"
      }
    },
    {
      "cell_type": "markdown",
      "source": [
        "*Задача 8 - Одна программа двумя способами*\n",
        "\n",
        "Напишите программу, которая считывает с консоли значение введенное с консоли. Если пользователь ничего не ввел - она выводит, что \"Ничего не получено. Если что-то получено, то программа просто выводит это значение на экран.\n",
        "\n",
        "Напишите две реализации программы:\n",
        "- с помощью if\n",
        "- с помощью or"
      ],
      "metadata": {
        "id": "gQ2392OnpCrd"
      }
    },
    {
      "cell_type": "code",
      "source": [
        "value = input()\n",
        "\n",
        "if bool(value) == False:\n",
        "  print('Ничего не получено')\n",
        "else:\n",
        "  print(value)"
      ],
      "metadata": {
        "colab": {
          "base_uri": "https://localhost:8080/"
        },
        "id": "EfYxLe-Om22f",
        "outputId": "65f52580-74b1-497e-8b0e-21ed6ade7f90"
      },
      "execution_count": null,
      "outputs": [
        {
          "output_type": "stream",
          "name": "stdout",
          "text": [
            "\n",
            "Ничего не получено\n"
          ]
        }
      ]
    },
    {
      "cell_type": "code",
      "source": [
        "values = input()\n",
        "values = values  or 'Ничего не получено'\n",
        "print(values)"
      ],
      "metadata": {
        "colab": {
          "base_uri": "https://localhost:8080/"
        },
        "id": "pjDUXW6rHZ9n",
        "outputId": "0e288b93-3e1b-43c6-d867-06f86a82968b"
      },
      "execution_count": null,
      "outputs": [
        {
          "output_type": "stream",
          "name": "stdout",
          "text": [
            "\n",
            "Ничего не получено\n"
          ]
        }
      ]
    },
    {
      "cell_type": "markdown",
      "source": [
        "✅Хорошо"
      ],
      "metadata": {
        "id": "8Rikb1bJGvXX"
      }
    },
    {
      "cell_type": "markdown",
      "source": [
        "*Задача 9 - Сортировка*\n",
        "\n",
        "Напишите программу, которая считывает с экрана три числа и сортирует их в порядке неубывания"
      ],
      "metadata": {
        "id": "LOqCkJRnyfkF"
      }
    },
    {
      "cell_type": "code",
      "source": [
        "num_1 = int(input())\n",
        "num_2 = int(input())\n",
        "num_3 = int(input())\n",
        "\n",
        "if num_1 > num_2:\n",
        "    num_1, num_2 = num_2, num_1\n",
        "elif num_2 > num_3:\n",
        "    num_2, num_3 = num_3, num_2\n",
        "elif num_1 > num_2:\n",
        "    num_1, num_2 = num_2, num_1\n",
        "print(f'{num_1}, {num_2}, {num_3}.')"
      ],
      "metadata": {
        "id": "ZPzlvbFoye8B",
        "colab": {
          "base_uri": "https://localhost:8080/"
        },
        "outputId": "1001dedd-1ac5-4cde-a0a4-ee87f17e5269"
      },
      "execution_count": null,
      "outputs": [
        {
          "output_type": "stream",
          "name": "stdout",
          "text": [
            "1\n",
            "2\n",
            "3\n",
            "1, 2, 3.\n"
          ]
        }
      ]
    },
    {
      "cell_type": "markdown",
      "source": [
        "✅Хорошо"
      ],
      "metadata": {
        "id": "2bR-YMrhGx7L"
      }
    },
    {
      "cell_type": "markdown",
      "source": [
        "*Задача Дополнительная!*\n",
        "\n",
        "Пользователь вводит два числа которые нужно поделить друг на друга.\n",
        "Напишите программу, которая поделит данные два числа.\n",
        "Если вдруг в знаменателе окажется 0 и деление произвести нельзя, выведите в результате 0\n",
        "\n",
        "Не используйте конструкции if."
      ],
      "metadata": {
        "id": "1oE54ruvuXYz"
      }
    },
    {
      "cell_type": "code",
      "source": [
        "number_1 = int(input())\n",
        "number_2 = int(input())\n",
        "result = (number_2 == 0) and \"0\" or (number_1 / number_2)\n",
        "print(int(result))\n"
      ],
      "metadata": {
        "id": "QJR_haLfua1E",
        "colab": {
          "base_uri": "https://localhost:8080/"
        },
        "outputId": "fb0ea70f-345c-461e-951f-26ae172bc068"
      },
      "execution_count": null,
      "outputs": [
        {
          "output_type": "stream",
          "name": "stdout",
          "text": [
            "1\n",
            "0\n",
            "0\n"
          ]
        }
      ]
    },
    {
      "cell_type": "markdown",
      "source": [
        "✅Хорошо"
      ],
      "metadata": {
        "id": "7d6cu1PXHBPO"
      }
    },
    {
      "cell_type": "markdown",
      "source": [
        "### Блок 3\n",
        "\n",
        "Работа со строками"
      ],
      "metadata": {
        "id": "HChIds4FFaAC"
      }
    },
    {
      "cell_type": "code",
      "source": [
        "# приведение в нижний регистр\n",
        "'ПРИВЕТ'.lower()"
      ],
      "metadata": {
        "colab": {
          "base_uri": "https://localhost:8080/",
          "height": 35
        },
        "id": "N2QlbECauXp_",
        "outputId": "ec4d4c3a-bd9f-4851-8026-b82f6a860d2d"
      },
      "execution_count": null,
      "outputs": [
        {
          "output_type": "execute_result",
          "data": {
            "text/plain": [
              "'привет'"
            ],
            "application/vnd.google.colaboratory.intrinsic+json": {
              "type": "string"
            }
          },
          "metadata": {},
          "execution_count": 1
        }
      ]
    },
    {
      "cell_type": "code",
      "source": [
        "# приведение в верхний регистр\n",
        "'Привет'.upper()"
      ],
      "metadata": {
        "colab": {
          "base_uri": "https://localhost:8080/",
          "height": 35
        },
        "id": "Xhoej5buUUcr",
        "outputId": "5fd2a315-1bf5-4d63-e136-4c0af160aa8e"
      },
      "execution_count": null,
      "outputs": [
        {
          "output_type": "execute_result",
          "data": {
            "text/plain": [
              "'ПРИВЕТ'"
            ],
            "application/vnd.google.colaboratory.intrinsic+json": {
              "type": "string"
            }
          },
          "metadata": {},
          "execution_count": 2
        }
      ]
    },
    {
      "cell_type": "code",
      "source": [
        "# нахождение подстроки в строке\n",
        "'здраствуйте! привет! как дела?'.find('привет')"
      ],
      "metadata": {
        "colab": {
          "base_uri": "https://localhost:8080/"
        },
        "id": "6wvr51S0UZUN",
        "outputId": "b3c54795-5eac-428f-d614-7f827502a6d5"
      },
      "execution_count": null,
      "outputs": [
        {
          "output_type": "execute_result",
          "data": {
            "text/plain": [
              "13"
            ]
          },
          "metadata": {},
          "execution_count": 1
        }
      ]
    },
    {
      "cell_type": "code",
      "source": [
        "# нахождение подстроки в строке\n",
        "'привет! как дела?'.find('куку')"
      ],
      "metadata": {
        "colab": {
          "base_uri": "https://localhost:8080/"
        },
        "id": "R86hlGTLUmZJ",
        "outputId": "c9210593-38c5-4cc9-ddd9-0ef42c23378e"
      },
      "execution_count": null,
      "outputs": [
        {
          "output_type": "execute_result",
          "data": {
            "text/plain": [
              "-1"
            ]
          },
          "metadata": {},
          "execution_count": 4
        }
      ]
    },
    {
      "cell_type": "code",
      "source": [
        "# замена значений в строке\n",
        "'<<привет'.replace('<<', '')"
      ],
      "metadata": {
        "colab": {
          "base_uri": "https://localhost:8080/",
          "height": 35
        },
        "id": "4F3kGz0kUsDl",
        "outputId": "4e1c93ce-ee81-460b-ccc7-72d4f946f068"
      },
      "execution_count": null,
      "outputs": [
        {
          "output_type": "execute_result",
          "data": {
            "text/plain": [
              "'привет'"
            ],
            "application/vnd.google.colaboratory.intrinsic+json": {
              "type": "string"
            }
          },
          "metadata": {},
          "execution_count": 2
        }
      ]
    },
    {
      "cell_type": "code",
      "source": [
        "'как дела' < 'привет'"
      ],
      "metadata": {
        "colab": {
          "base_uri": "https://localhost:8080/"
        },
        "id": "JgRLB0ogYkIQ",
        "outputId": "35ddafa3-ec98-4ec4-bacb-e1cbe8364663"
      },
      "execution_count": null,
      "outputs": [
        {
          "output_type": "execute_result",
          "data": {
            "text/plain": [
              "True"
            ]
          },
          "metadata": {},
          "execution_count": 3
        }
      ]
    },
    {
      "cell_type": "code",
      "source": [
        "# Функция Python символ и возвращает его код в Юникоде\n",
        "ord('п')"
      ],
      "metadata": {
        "colab": {
          "base_uri": "https://localhost:8080/"
        },
        "id": "7vk7NBWfYpw2",
        "outputId": "c0092273-0323-43d7-f70e-851f21f86617"
      },
      "execution_count": null,
      "outputs": [
        {
          "output_type": "execute_result",
          "data": {
            "text/plain": [
              "1087"
            ]
          },
          "metadata": {},
          "execution_count": 14
        }
      ]
    },
    {
      "cell_type": "code",
      "source": [
        "# обратно\n",
        "chr(1087)"
      ],
      "metadata": {
        "colab": {
          "base_uri": "https://localhost:8080/",
          "height": 35
        },
        "id": "eLS7gwJiZGRQ",
        "outputId": "96730d0b-26e4-4373-bf7a-1c28d425be9f"
      },
      "execution_count": null,
      "outputs": [
        {
          "output_type": "execute_result",
          "data": {
            "text/plain": [
              "'п'"
            ],
            "application/vnd.google.colaboratory.intrinsic+json": {
              "type": "string"
            }
          },
          "metadata": {},
          "execution_count": 15
        }
      ]
    },
    {
      "cell_type": "code",
      "source": [
        "chr(1088)"
      ],
      "metadata": {
        "id": "EuOgDvAMPldp",
        "outputId": "99b580be-46d8-4d7f-e80e-527b23700d73",
        "colab": {
          "base_uri": "https://localhost:8080/",
          "height": 35
        }
      },
      "execution_count": null,
      "outputs": [
        {
          "output_type": "execute_result",
          "data": {
            "text/plain": [
              "'р'"
            ],
            "application/vnd.google.colaboratory.intrinsic+json": {
              "type": "string"
            }
          },
          "metadata": {},
          "execution_count": 4
        }
      ]
    },
    {
      "cell_type": "markdown",
      "source": [
        "*Задача 0 - Диалог*\n",
        "\n",
        "Напишите программу, которая корректно умеет отвечать на следующие реплики:\n",
        "- привет\n",
        "- как дела\n",
        "- какая погода\n",
        "\n",
        "Заметьте, пользователь может писать эти реплики большими/маленькими или большими и маленькими буквами. Он также может ставить лишние знаки препинания. Тем не менее реплику надо все равно распознавать и давать на нее ответ."
      ],
      "metadata": {
        "id": "B-oV_RErVQOn"
      }
    },
    {
      "cell_type": "code",
      "source": [
        "sentence = input()\n",
        "sentence = sentence.lower()\n",
        "sentence = sentence.replace('.', '')\n",
        "sentence = sentence.replace(',', '')\n",
        "sentence = sentence.replace('  ', ' ')\n",
        "\n",
        "if sentence == 'привет':\n",
        "  print('Привет')\n",
        "elif sentence == 'как дела':\n",
        "  print('Хорошо')\n",
        "elif sentence == 'какая погода':\n",
        "  print('Плохая')\n"
      ],
      "metadata": {
        "id": "wfM4XfEmWDpB",
        "colab": {
          "base_uri": "https://localhost:8080/"
        },
        "outputId": "09194246-64b0-45df-fc61-4c6e62c7ed21"
      },
      "execution_count": null,
      "outputs": [
        {
          "output_type": "stream",
          "name": "stdout",
          "text": [
            "КАКАЯ погода\n",
            "Плохая\n"
          ]
        }
      ]
    },
    {
      "cell_type": "markdown",
      "source": [
        "✅Хорошо.\n",
        "\n"
      ],
      "metadata": {
        "id": "T_bGuXbfHHuv"
      }
    },
    {
      "cell_type": "markdown",
      "source": [
        "*Задача 1 - Алфавит*\n",
        "\n",
        "Напишите программу, которая будет выводить следующую букву после введенной в строке ввода. Если в строке ввода введена не одна буква, вывести сообщение о том, что пользователь ошибся, если введен символ - выдать сообщение о том, что введен символ."
      ],
      "metadata": {
        "id": "ZwiKtIhQWEW5"
      }
    },
    {
      "cell_type": "code",
      "source": [
        "letter = input()\n",
        "\n",
        "if len(letter) >= 2:\n",
        "  print('Вы ошиблись')\n",
        "elif letter < 'А':\n",
        "  print('Введен символ')\n",
        "elif len(letter) == 1 and letter < 'я':\n",
        "   letter = ord(letter) + 1\n",
        "   print(chr(letter))"
      ],
      "metadata": {
        "id": "E-9ilXgUYjRA",
        "colab": {
          "base_uri": "https://localhost:8080/"
        },
        "outputId": "d58f3633-37ef-4ea4-c8af-a4fd39072771"
      },
      "execution_count": null,
      "outputs": [
        {
          "name": "stdout",
          "output_type": "stream",
          "text": [
            "⏰\n"
          ]
        }
      ]
    },
    {
      "cell_type": "markdown",
      "source": [
        "✅ Засчитано, но проверка на символы некорректная. Привёл пример где он не сработает"
      ],
      "metadata": {
        "id": "jHVAmawxHtZC"
      }
    },
    {
      "cell_type": "code",
      "source": [
        "letter = input()\n",
        "\n",
        "if len(letter) >= 2:\n",
        "  print('Вы ошиблись')\n",
        "elif letter < 'А' or letter > 'я':\n",
        "  print('Введен символ')\n",
        "elif len(letter) == 1 and letter < 'я':\n",
        "   letter = ord(letter) + 1\n",
        "   print(chr(letter))"
      ],
      "metadata": {
        "colab": {
          "base_uri": "https://localhost:8080/"
        },
        "id": "ldt2pJV3ZwmA",
        "outputId": "a7329b60-77e4-4f41-a26a-26f5b1016dc8"
      },
      "execution_count": null,
      "outputs": [
        {
          "output_type": "stream",
          "name": "stdout",
          "text": [
            "=\n",
            "Введен символ\n"
          ]
        }
      ]
    },
    {
      "cell_type": "markdown",
      "source": [],
      "metadata": {
        "id": "BJQ7pu35HpfF"
      }
    },
    {
      "cell_type": "markdown",
      "source": [
        "ДЗ:\n",
        "\n",
        "Пройти задачи на Яндекс Контесте\n",
        "https://new.contest.yandex.ru/41233/statistics"
      ],
      "metadata": {
        "id": "pG-N3oPDS3EE"
      }
    },
    {
      "cell_type": "markdown",
      "source": [
        "![2023-08-04_15h48_57.png](data:image/png;base64,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)"
      ],
      "metadata": {
        "id": "hyQvTDU9Z3Gm"
      }
    }
  ]
}